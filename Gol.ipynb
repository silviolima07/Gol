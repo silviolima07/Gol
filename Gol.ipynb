{
  "nbformat": 4,
  "nbformat_minor": 0,
  "metadata": {
    "anaconda-cloud": {},
    "kernelspec": {
      "display_name": "Python 3",
      "language": "python",
      "name": "python3"
    },
    "language_info": {
      "codemirror_mode": {
        "name": "ipython",
        "version": 3
      },
      "file_extension": ".py",
      "mimetype": "text/x-python",
      "name": "python",
      "nbconvert_exporter": "python",
      "pygments_lexer": "ipython3",
      "version": "3.7.2"
    },
    "colab": {
      "name": "Gol",
      "provenance": [],
      "collapsed_sections": [
        "-jnJNDJqp1bm",
        "IsZbu165q0uA",
        "8acfBqTQqTlx",
        "G5Y4EiKs9D5e",
        "R5Z_a3O7GUVo",
        "hm75NaWb6RiU",
        "jSPmcvN36Rih",
        "kvhUKy2L6Rio",
        "O21pFpJr6Rip",
        "w3hxayOM6RjH",
        "jbRv0HA66RjK",
        "zlThoa_96RjO",
        "7XVSRF0j6RjW",
        "kpzl-_-V6RjZ",
        "oJ2pZipE6Rjm",
        "MPwnGxaW6Rjr",
        "00-x3oBT6Rjw",
        "I632qu8J6Rj2",
        "oqD2SBPn6Rj5",
        "G2ZZnDsA6Rj_",
        "_cihuGmk6RkJ",
        "PZKCgTkA6RkP",
        "MDmEcntv6RkT",
        "er38doaK6RkW",
        "xQ2POulP6Rkg",
        "IRtC82bj6Rkn",
        "24YnUp0a6Rkp",
        "Heua8YPs6Rkt",
        "q9IlLtkI6Rkv",
        "-7DI8r5r6Rkx",
        "rGPjYiJV6Rk0",
        "sG_XfVl16Rk4",
        "q496V9Fu6Rk7",
        "MiMHqCL06Rk_",
        "5NMd84ar6RlD"
      ],
      "machine_shape": "hm",
      "include_colab_link": true
    }
  },
  "cells": [
    {
      "cell_type": "markdown",
      "metadata": {
        "id": "view-in-github",
        "colab_type": "text"
      },
      "source": [
        "<a href=\"https://colab.research.google.com/github/silviolima07/Gol/blob/main/Gol.ipynb\" target=\"_parent\"><img src=\"https://colab.research.google.com/assets/colab-badge.svg\" alt=\"Open In Colab\"/></a>"
      ]
    },
    {
      "cell_type": "markdown",
      "metadata": {
        "id": "ZS6-K40a6RD1"
      },
      "source": [
        "# <font color='blue'>Processo Seletivo Gol</font>\n"
      ]
    },
    {
      "cell_type": "code",
      "metadata": {
        "id": "zo1dbxJkNpIy"
      },
      "source": [
        ""
      ],
      "execution_count": null,
      "outputs": []
    },
    {
      "cell_type": "code",
      "metadata": {
        "id": "gwC0kK6Z6RD6"
      },
      "source": [
        "import sklearn as sk\n",
        "import numpy as np\n",
        "import pandas as pd\n",
        "import warnings\n",
        "warnings.filterwarnings(\"ignore\")\n",
        "from IPython.core.pylabtools import figsize\n",
        "from IPython.display import display, HTML\n",
        "import matplotlib.pyplot as plt\n",
        "pd.set_option('display.max_columns', 200) \n",
        "pd.set_option('display.max_rows', 200)\n",
        "pd.set_option('precision', 2)\n",
        "from imblearn.over_sampling import SMOTE\n",
        "import datetime\n",
        "import gc\n",
        "import seaborn as sns\n",
        "\n",
        "from fbprophet import Prophet\n",
        "\n",
        "from scipy import stats\n",
        "import numpy as np\n",
        "\n",
        "# Importa pacotes do sklearn\n",
        "from sklearn import preprocessing\n",
        "from sklearn.model_selection import train_test_split\n",
        "from sklearn.preprocessing import scale, MinMaxScaler, StandardScaler\n",
        "from sklearn_pandas import CategoricalImputer\n",
        "from sklearn.preprocessing import OrdinalEncoder\n",
        "from sklearn.metrics import accuracy_score\n",
        "\n",
        "\n",
        "from sklearn.neighbors import KNeighborsClassifier\n",
        "from sklearn.tree import DecisionTreeClassifier\n",
        "from sklearn.ensemble import RandomForestClassifier\n",
        "from sklearn.svm import SVC\n",
        "from sklearn.neural_network import MLPClassifier\n",
        "\n"
      ],
      "execution_count": 112,
      "outputs": []
    },
    {
      "cell_type": "code",
      "metadata": {
        "colab": {
          "base_uri": "https://localhost:8080/"
        },
        "id": "ToMjYKH9NxWi",
        "outputId": "51571f58-c775-4c06-cd2b-1bc7c9422816"
      },
      "source": [
        "from google.colab import drive\n",
        "drive.mount('/content/drive')"
      ],
      "execution_count": 2,
      "outputs": [
        {
          "output_type": "stream",
          "text": [
            "Mounted at /content/drive\n"
          ],
          "name": "stdout"
        }
      ]
    },
    {
      "cell_type": "markdown",
      "metadata": {
        "id": "5Tf4OvUK6REG"
      },
      "source": [
        "## Extraindo e Carregando os Dados"
      ]
    },
    {
      "cell_type": "code",
      "metadata": {
        "id": "xyuSlMY2a3jB"
      },
      "source": [
        "# Função que identifica linhas com dados ausentes\n",
        "# Retorna as linhas e percentuais em cada coluna\n",
        "#\n",
        "def missing_zero_values_table(df):\n",
        "        zero_val = (df == 0.00).astype(int).sum(axis=0)\n",
        "        mis_val = df.isnull().sum()\n",
        "        mis_val_percent = 100 * df.isnull().sum() / len(df)\n",
        "        mz_table = pd.concat([zero_val, mis_val, mis_val_percent], axis=1)\n",
        "        mz_table = mz_table.rename(\n",
        "        columns = {0 : 'Zero Values', 1 : 'Missing Values', 2 : '% of Total Values'})\n",
        "        mz_table['Total Zero Missing Values'] = mz_table['Zero Values'] + mz_table['Missing Values']\n",
        "        mz_table['% Total Zero Missing Values'] = 100 * mz_table['Total Zero Missing Values'] / len(df)\n",
        "        mz_table['Data Type'] = df.dtypes\n",
        "        mz_table = mz_table[mz_table.iloc[:,1] != 0].sort_values('% of Total Values', ascending=False).round(1)\n",
        "        print (\"Your selected dataframe has \" + str(df.shape[1]) + \" columns and \" + str(df.shape[0]) + \" Rows.\\n\"      \n",
        "            \"There are \" + str(mz_table.shape[0]) + \" columns that have missing values.\")\n",
        "        return mz_table"
      ],
      "execution_count": 3,
      "outputs": []
    },
    {
      "cell_type": "code",
      "metadata": {
        "id": "hB2ORPupBd6E"
      },
      "source": [
        "# Função que remove dados considerados outliers\n",
        "# Acima dos limites superiores e inferiores\n",
        "#\n",
        "def remove_outlier(df, col):  \n",
        "    _std = round(df[col].std(), 5)\n",
        "    _mean= round(df[col].mean(), 5)    \n",
        "    _min = round(_mean - df[col].std()*3, 5)\n",
        "    _max = round(_mean + df[col].std()*3, 5)\n",
        "  \n",
        "    df.loc[(df[col] < _min) | (df[col] > _max)] = _mean\n",
        "    df[col] = round(df[col], 5)"
      ],
      "execution_count": 4,
      "outputs": []
    },
    {
      "cell_type": "markdown",
      "metadata": {
        "id": "vxlhR0AF6REb"
      },
      "source": [
        "## Análise Exploratória de Dados"
      ]
    },
    {
      "cell_type": "code",
      "metadata": {
        "id": "hH6Md0hj6REI"
      },
      "source": [
        "# Carregando arquivo csv\n",
        "gol= '/content/drive/MyDrive/Colab Notebooks/Dataset/Gol/case_analytics-ds.csv'\n",
        "\n",
        "\n",
        "df = pd.read_csv(gol, encoding=\"latin\")"
      ],
      "execution_count": 5,
      "outputs": []
    },
    {
      "cell_type": "markdown",
      "metadata": {
        "id": "c3heoFY56REc"
      },
      "source": [
        "### Estatística Descritiva"
      ]
    },
    {
      "cell_type": "code",
      "metadata": {
        "id": "RO3Q2eFZ4VMa",
        "colab": {
          "base_uri": "https://localhost:8080/"
        },
        "outputId": "dc1c75ce-ed54-4129-d04d-bbdd143c7c26"
      },
      "source": [
        "df.shape"
      ],
      "execution_count": 6,
      "outputs": [
        {
          "output_type": "execute_result",
          "data": {
            "text/plain": [
              "(2432, 6)"
            ]
          },
          "metadata": {
            "tags": []
          },
          "execution_count": 6
        }
      ]
    },
    {
      "cell_type": "code",
      "metadata": {
        "id": "VTqALKWy6REn",
        "colab": {
          "base_uri": "https://localhost:8080/",
          "height": 204
        },
        "outputId": "7c0c1487-cf38-4092-88ae-94d944668d9c"
      },
      "source": [
        "# Visualizando as primeiras linhas\n",
        "df.head()"
      ],
      "execution_count": 7,
      "outputs": [
        {
          "output_type": "execute_result",
          "data": {
            "text/html": [
              "<div>\n",
              "<style scoped>\n",
              "    .dataframe tbody tr th:only-of-type {\n",
              "        vertical-align: middle;\n",
              "    }\n",
              "\n",
              "    .dataframe tbody tr th {\n",
              "        vertical-align: top;\n",
              "    }\n",
              "\n",
              "    .dataframe thead th {\n",
              "        text-align: right;\n",
              "    }\n",
              "</style>\n",
              "<table border=\"1\" class=\"dataframe\">\n",
              "  <thead>\n",
              "    <tr style=\"text-align: right;\">\n",
              "      <th></th>\n",
              "      <th>Data Venda</th>\n",
              "      <th>Canal de Venda</th>\n",
              "      <th>Local de Venda</th>\n",
              "      <th>PAX</th>\n",
              "      <th>Monetário Vendido</th>\n",
              "      <th>RPK</th>\n",
              "    </tr>\n",
              "  </thead>\n",
              "  <tbody>\n",
              "    <tr>\n",
              "      <th>0</th>\n",
              "      <td>11/1/2016</td>\n",
              "      <td>Telégrafo</td>\n",
              "      <td>Mindscape</td>\n",
              "      <td>30</td>\n",
              "      <td>R$ 2,188.11</td>\n",
              "      <td>3476</td>\n",
              "    </tr>\n",
              "    <tr>\n",
              "      <th>1</th>\n",
              "      <td>11/1/2016</td>\n",
              "      <td>TeleVenda</td>\n",
              "      <td>Arena</td>\n",
              "      <td>52</td>\n",
              "      <td>R$ 3,302.38</td>\n",
              "      <td>8197</td>\n",
              "    </tr>\n",
              "    <tr>\n",
              "      <th>2</th>\n",
              "      <td>11/1/2016</td>\n",
              "      <td>TeleVenda</td>\n",
              "      <td>Mindscape</td>\n",
              "      <td>19</td>\n",
              "      <td>R$ 1,041.54</td>\n",
              "      <td>2425</td>\n",
              "    </tr>\n",
              "    <tr>\n",
              "      <th>3</th>\n",
              "      <td>11/1/2016</td>\n",
              "      <td>Porta a Porta</td>\n",
              "      <td>Mindscape</td>\n",
              "      <td>496</td>\n",
              "      <td>R$ 15,566.34</td>\n",
              "      <td>53278</td>\n",
              "    </tr>\n",
              "    <tr>\n",
              "      <th>4</th>\n",
              "      <td>11/1/2016</td>\n",
              "      <td>TeleVenda</td>\n",
              "      <td>Vast</td>\n",
              "      <td>46</td>\n",
              "      <td>R$ 2,721.43</td>\n",
              "      <td>2039</td>\n",
              "    </tr>\n",
              "  </tbody>\n",
              "</table>\n",
              "</div>"
            ],
            "text/plain": [
              "  Data Venda Canal de Venda Local de Venda  PAX Monetário Vendido    RPK\n",
              "0  11/1/2016      Telégrafo      Mindscape   30       R$ 2,188.11   3476\n",
              "1  11/1/2016      TeleVenda          Arena   52       R$ 3,302.38   8197\n",
              "2  11/1/2016      TeleVenda      Mindscape   19       R$ 1,041.54   2425\n",
              "3  11/1/2016  Porta a Porta      Mindscape  496      R$ 15,566.34  53278\n",
              "4  11/1/2016      TeleVenda           Vast   46       R$ 2,721.43   2039"
            ]
          },
          "metadata": {
            "tags": []
          },
          "execution_count": 7
        }
      ]
    },
    {
      "cell_type": "code",
      "metadata": {
        "id": "oZqJQsCsd0xv",
        "colab": {
          "base_uri": "https://localhost:8080/",
          "height": 83
        },
        "outputId": "63c8c9e8-b60b-4d8b-bebb-000b9c825d0b"
      },
      "source": [
        "missing_zero_values_table(df)"
      ],
      "execution_count": 8,
      "outputs": [
        {
          "output_type": "stream",
          "text": [
            "Your selected dataframe has 6 columns and 2432 Rows.\n",
            "There are 0 columns that have missing values.\n"
          ],
          "name": "stdout"
        },
        {
          "output_type": "execute_result",
          "data": {
            "text/html": [
              "<div>\n",
              "<style scoped>\n",
              "    .dataframe tbody tr th:only-of-type {\n",
              "        vertical-align: middle;\n",
              "    }\n",
              "\n",
              "    .dataframe tbody tr th {\n",
              "        vertical-align: top;\n",
              "    }\n",
              "\n",
              "    .dataframe thead th {\n",
              "        text-align: right;\n",
              "    }\n",
              "</style>\n",
              "<table border=\"1\" class=\"dataframe\">\n",
              "  <thead>\n",
              "    <tr style=\"text-align: right;\">\n",
              "      <th></th>\n",
              "      <th>Zero Values</th>\n",
              "      <th>Missing Values</th>\n",
              "      <th>% of Total Values</th>\n",
              "      <th>Total Zero Missing Values</th>\n",
              "      <th>% Total Zero Missing Values</th>\n",
              "      <th>Data Type</th>\n",
              "    </tr>\n",
              "  </thead>\n",
              "  <tbody>\n",
              "  </tbody>\n",
              "</table>\n",
              "</div>"
            ],
            "text/plain": [
              "Empty DataFrame\n",
              "Columns: [Zero Values, Missing Values, % of Total Values, Total Zero Missing Values, % Total Zero Missing Values, Data Type]\n",
              "Index: []"
            ]
          },
          "metadata": {
            "tags": []
          },
          "execution_count": 8
        }
      ]
    },
    {
      "cell_type": "code",
      "metadata": {
        "id": "P629roakar0W",
        "colab": {
          "base_uri": "https://localhost:8080/"
        },
        "outputId": "61ae836d-604c-45b6-e258-e5cf1f040842"
      },
      "source": [
        "df.isnull().sum()"
      ],
      "execution_count": 9,
      "outputs": [
        {
          "output_type": "execute_result",
          "data": {
            "text/plain": [
              "Data Venda           0\n",
              "Canal de Venda       0\n",
              "Local de Venda       0\n",
              "PAX                  0\n",
              "Monetário Vendido    0\n",
              "RPK                  0\n",
              "dtype: int64"
            ]
          },
          "metadata": {
            "tags": []
          },
          "execution_count": 9
        }
      ]
    },
    {
      "cell_type": "code",
      "metadata": {
        "id": "1X3YIDYDuNVa",
        "colab": {
          "base_uri": "https://localhost:8080/"
        },
        "outputId": "d5d68365-e8bb-439f-c201-3c72559e4439"
      },
      "source": [
        "df.info()"
      ],
      "execution_count": 10,
      "outputs": [
        {
          "output_type": "stream",
          "text": [
            "<class 'pandas.core.frame.DataFrame'>\n",
            "RangeIndex: 2432 entries, 0 to 2431\n",
            "Data columns (total 6 columns):\n",
            " #   Column             Non-Null Count  Dtype \n",
            "---  ------             --------------  ----- \n",
            " 0   Data Venda         2432 non-null   object\n",
            " 1   Canal de Venda     2432 non-null   object\n",
            " 2   Local de Venda     2432 non-null   object\n",
            " 3   PAX                2432 non-null   int64 \n",
            " 4   Monetário Vendido  2432 non-null   object\n",
            " 5   RPK                2432 non-null   int64 \n",
            "dtypes: int64(2), object(4)\n",
            "memory usage: 114.1+ KB\n"
          ],
          "name": "stdout"
        }
      ]
    },
    {
      "cell_type": "code",
      "metadata": {
        "id": "d1AtsjaLYjiP"
      },
      "source": [
        "temp = df['Monetário Vendido'].str.replace('R\\$', '')\r\n",
        "temp = temp.str.replace(',', '')\r\n",
        "df['Monetário Vendido'] = temp\r\n",
        "df['Monetário Vendido'] = df['Monetário Vendido'].astype('float64')\r\n"
      ],
      "execution_count": 11,
      "outputs": []
    },
    {
      "cell_type": "code",
      "metadata": {
        "id": "EiPgrpvrge_e"
      },
      "source": [
        "df['Data Venda'] = pd.to_datetime(df['Data Venda'], format='%m/%d/%Y')"
      ],
      "execution_count": 12,
      "outputs": []
    },
    {
      "cell_type": "code",
      "metadata": {
        "colab": {
          "base_uri": "https://localhost:8080/"
        },
        "id": "QsEOqrpilXtc",
        "outputId": "16e80cad-ced4-46ec-feac-bc62a4fa1e85"
      },
      "source": [
        "df.info()"
      ],
      "execution_count": 13,
      "outputs": [
        {
          "output_type": "stream",
          "text": [
            "<class 'pandas.core.frame.DataFrame'>\n",
            "RangeIndex: 2432 entries, 0 to 2431\n",
            "Data columns (total 6 columns):\n",
            " #   Column             Non-Null Count  Dtype         \n",
            "---  ------             --------------  -----         \n",
            " 0   Data Venda         2432 non-null   datetime64[ns]\n",
            " 1   Canal de Venda     2432 non-null   object        \n",
            " 2   Local de Venda     2432 non-null   object        \n",
            " 3   PAX                2432 non-null   int64         \n",
            " 4   Monetário Vendido  2432 non-null   float64       \n",
            " 5   RPK                2432 non-null   int64         \n",
            "dtypes: datetime64[ns](1), float64(1), int64(2), object(2)\n",
            "memory usage: 114.1+ KB\n"
          ],
          "name": "stdout"
        }
      ]
    },
    {
      "cell_type": "code",
      "metadata": {
        "id": "ICP1kiSRiYXx"
      },
      "source": [
        "df['Ano'] = df['Data Venda'].dt.year\r\n",
        "#\r\n",
        "df['Mês'] = df['Data Venda'].dt.month\r\n",
        "#\r\n",
        "df['Dia_do_Mês'] = df['Data Venda'].dt.day\r\n",
        "#\r\n",
        "df['Dia_da_Semana'] = df['Data Venda'].dt.day_name()\r\n",
        "df['Dia_da_Semana_Numero'] = df['Data Venda'].dt.dayofweek\r\n",
        "df['Nome_do_Dia'] = df['Dia_da_Semana']\r\n",
        "df[\"Nome_do_Dia\"].replace({\"Sunday\": \"Domingo\", \"Monday\": \"Segunda\",\r\n",
        "                             \"Tuesday\": \"Terça\", \"Wednesday\": \"Quarta\",\r\n",
        "                             \"Thursday\": \"Quinta\", 'Friday': \"Sexta\",\r\n",
        "                             'Saturday': \"Sabado\"}, inplace=True)\r\n",
        "del df['Dia_da_Semana']"
      ],
      "execution_count": 14,
      "outputs": []
    },
    {
      "cell_type": "code",
      "metadata": {
        "colab": {
          "base_uri": "https://localhost:8080/",
          "height": 419
        },
        "id": "62Mtm0GVlBf5",
        "outputId": "3965d480-1731-4264-a2c5-0084a101d7a9"
      },
      "source": [
        "df"
      ],
      "execution_count": 15,
      "outputs": [
        {
          "output_type": "execute_result",
          "data": {
            "text/html": [
              "<div>\n",
              "<style scoped>\n",
              "    .dataframe tbody tr th:only-of-type {\n",
              "        vertical-align: middle;\n",
              "    }\n",
              "\n",
              "    .dataframe tbody tr th {\n",
              "        vertical-align: top;\n",
              "    }\n",
              "\n",
              "    .dataframe thead th {\n",
              "        text-align: right;\n",
              "    }\n",
              "</style>\n",
              "<table border=\"1\" class=\"dataframe\">\n",
              "  <thead>\n",
              "    <tr style=\"text-align: right;\">\n",
              "      <th></th>\n",
              "      <th>Data Venda</th>\n",
              "      <th>Canal de Venda</th>\n",
              "      <th>Local de Venda</th>\n",
              "      <th>PAX</th>\n",
              "      <th>Monetário Vendido</th>\n",
              "      <th>RPK</th>\n",
              "      <th>Ano</th>\n",
              "      <th>Mês</th>\n",
              "      <th>Dia_do_Mês</th>\n",
              "      <th>Dia_da_Semana_Numero</th>\n",
              "      <th>Nome_do_Dia</th>\n",
              "    </tr>\n",
              "  </thead>\n",
              "  <tbody>\n",
              "    <tr>\n",
              "      <th>0</th>\n",
              "      <td>2016-11-01</td>\n",
              "      <td>Telégrafo</td>\n",
              "      <td>Mindscape</td>\n",
              "      <td>30</td>\n",
              "      <td>2188.11</td>\n",
              "      <td>3476</td>\n",
              "      <td>2016</td>\n",
              "      <td>11</td>\n",
              "      <td>1</td>\n",
              "      <td>1</td>\n",
              "      <td>Terça</td>\n",
              "    </tr>\n",
              "    <tr>\n",
              "      <th>1</th>\n",
              "      <td>2016-11-01</td>\n",
              "      <td>TeleVenda</td>\n",
              "      <td>Arena</td>\n",
              "      <td>52</td>\n",
              "      <td>3302.38</td>\n",
              "      <td>8197</td>\n",
              "      <td>2016</td>\n",
              "      <td>11</td>\n",
              "      <td>1</td>\n",
              "      <td>1</td>\n",
              "      <td>Terça</td>\n",
              "    </tr>\n",
              "    <tr>\n",
              "      <th>2</th>\n",
              "      <td>2016-11-01</td>\n",
              "      <td>TeleVenda</td>\n",
              "      <td>Mindscape</td>\n",
              "      <td>19</td>\n",
              "      <td>1041.54</td>\n",
              "      <td>2425</td>\n",
              "      <td>2016</td>\n",
              "      <td>11</td>\n",
              "      <td>1</td>\n",
              "      <td>1</td>\n",
              "      <td>Terça</td>\n",
              "    </tr>\n",
              "    <tr>\n",
              "      <th>3</th>\n",
              "      <td>2016-11-01</td>\n",
              "      <td>Porta a Porta</td>\n",
              "      <td>Mindscape</td>\n",
              "      <td>496</td>\n",
              "      <td>15566.34</td>\n",
              "      <td>53278</td>\n",
              "      <td>2016</td>\n",
              "      <td>11</td>\n",
              "      <td>1</td>\n",
              "      <td>1</td>\n",
              "      <td>Terça</td>\n",
              "    </tr>\n",
              "    <tr>\n",
              "      <th>4</th>\n",
              "      <td>2016-11-01</td>\n",
              "      <td>TeleVenda</td>\n",
              "      <td>Vast</td>\n",
              "      <td>46</td>\n",
              "      <td>2721.43</td>\n",
              "      <td>2039</td>\n",
              "      <td>2016</td>\n",
              "      <td>11</td>\n",
              "      <td>1</td>\n",
              "      <td>1</td>\n",
              "      <td>Terça</td>\n",
              "    </tr>\n",
              "    <tr>\n",
              "      <th>...</th>\n",
              "      <td>...</td>\n",
              "      <td>...</td>\n",
              "      <td>...</td>\n",
              "      <td>...</td>\n",
              "      <td>...</td>\n",
              "      <td>...</td>\n",
              "      <td>...</td>\n",
              "      <td>...</td>\n",
              "      <td>...</td>\n",
              "      <td>...</td>\n",
              "      <td>...</td>\n",
              "    </tr>\n",
              "    <tr>\n",
              "      <th>2427</th>\n",
              "      <td>2017-04-01</td>\n",
              "      <td>Porta a Porta</td>\n",
              "      <td>Vast</td>\n",
              "      <td>1079</td>\n",
              "      <td>28486.40</td>\n",
              "      <td>54551</td>\n",
              "      <td>2017</td>\n",
              "      <td>4</td>\n",
              "      <td>1</td>\n",
              "      <td>5</td>\n",
              "      <td>Sabado</td>\n",
              "    </tr>\n",
              "    <tr>\n",
              "      <th>2428</th>\n",
              "      <td>2017-04-01</td>\n",
              "      <td>Porta a Porta</td>\n",
              "      <td>Ellipsis</td>\n",
              "      <td>841</td>\n",
              "      <td>23601.00</td>\n",
              "      <td>46988</td>\n",
              "      <td>2017</td>\n",
              "      <td>4</td>\n",
              "      <td>1</td>\n",
              "      <td>5</td>\n",
              "      <td>Sabado</td>\n",
              "    </tr>\n",
              "    <tr>\n",
              "      <th>2429</th>\n",
              "      <td>2017-04-01</td>\n",
              "      <td>TeleVenda</td>\n",
              "      <td>Arena</td>\n",
              "      <td>175</td>\n",
              "      <td>10270.29</td>\n",
              "      <td>26599</td>\n",
              "      <td>2017</td>\n",
              "      <td>4</td>\n",
              "      <td>1</td>\n",
              "      <td>5</td>\n",
              "      <td>Sabado</td>\n",
              "    </tr>\n",
              "    <tr>\n",
              "      <th>2430</th>\n",
              "      <td>2017-04-01</td>\n",
              "      <td>Telégrafo</td>\n",
              "      <td>Arena</td>\n",
              "      <td>105</td>\n",
              "      <td>5470.41</td>\n",
              "      <td>15130</td>\n",
              "      <td>2017</td>\n",
              "      <td>4</td>\n",
              "      <td>1</td>\n",
              "      <td>5</td>\n",
              "      <td>Sabado</td>\n",
              "    </tr>\n",
              "    <tr>\n",
              "      <th>2431</th>\n",
              "      <td>2017-04-01</td>\n",
              "      <td>Telégrafo</td>\n",
              "      <td>Vast</td>\n",
              "      <td>61</td>\n",
              "      <td>2911.98</td>\n",
              "      <td>3050</td>\n",
              "      <td>2017</td>\n",
              "      <td>4</td>\n",
              "      <td>1</td>\n",
              "      <td>5</td>\n",
              "      <td>Sabado</td>\n",
              "    </tr>\n",
              "  </tbody>\n",
              "</table>\n",
              "<p>2432 rows × 11 columns</p>\n",
              "</div>"
            ],
            "text/plain": [
              "     Data Venda Canal de Venda Local de Venda   PAX  Monetário Vendido    RPK  \\\n",
              "0    2016-11-01      Telégrafo      Mindscape    30            2188.11   3476   \n",
              "1    2016-11-01      TeleVenda          Arena    52            3302.38   8197   \n",
              "2    2016-11-01      TeleVenda      Mindscape    19            1041.54   2425   \n",
              "3    2016-11-01  Porta a Porta      Mindscape   496           15566.34  53278   \n",
              "4    2016-11-01      TeleVenda           Vast    46            2721.43   2039   \n",
              "...         ...            ...            ...   ...                ...    ...   \n",
              "2427 2017-04-01  Porta a Porta           Vast  1079           28486.40  54551   \n",
              "2428 2017-04-01  Porta a Porta       Ellipsis   841           23601.00  46988   \n",
              "2429 2017-04-01      TeleVenda          Arena   175           10270.29  26599   \n",
              "2430 2017-04-01      Telégrafo          Arena   105            5470.41  15130   \n",
              "2431 2017-04-01      Telégrafo           Vast    61            2911.98   3050   \n",
              "\n",
              "       Ano  Mês  Dia_do_Mês  Dia_da_Semana_Numero Nome_do_Dia  \n",
              "0     2016   11           1                     1       Terça  \n",
              "1     2016   11           1                     1       Terça  \n",
              "2     2016   11           1                     1       Terça  \n",
              "3     2016   11           1                     1       Terça  \n",
              "4     2016   11           1                     1       Terça  \n",
              "...    ...  ...         ...                   ...         ...  \n",
              "2427  2017    4           1                     5      Sabado  \n",
              "2428  2017    4           1                     5      Sabado  \n",
              "2429  2017    4           1                     5      Sabado  \n",
              "2430  2017    4           1                     5      Sabado  \n",
              "2431  2017    4           1                     5      Sabado  \n",
              "\n",
              "[2432 rows x 11 columns]"
            ]
          },
          "metadata": {
            "tags": []
          },
          "execution_count": 15
        }
      ]
    },
    {
      "cell_type": "code",
      "metadata": {
        "colab": {
          "base_uri": "https://localhost:8080/"
        },
        "id": "OGxLOxZTd_8G",
        "outputId": "d115dfe3-bdcc-403f-f183-bef7239bc69e"
      },
      "source": [
        "df.info()"
      ],
      "execution_count": 16,
      "outputs": [
        {
          "output_type": "stream",
          "text": [
            "<class 'pandas.core.frame.DataFrame'>\n",
            "RangeIndex: 2432 entries, 0 to 2431\n",
            "Data columns (total 11 columns):\n",
            " #   Column                Non-Null Count  Dtype         \n",
            "---  ------                --------------  -----         \n",
            " 0   Data Venda            2432 non-null   datetime64[ns]\n",
            " 1   Canal de Venda        2432 non-null   object        \n",
            " 2   Local de Venda        2432 non-null   object        \n",
            " 3   PAX                   2432 non-null   int64         \n",
            " 4   Monetário Vendido     2432 non-null   float64       \n",
            " 5   RPK                   2432 non-null   int64         \n",
            " 6   Ano                   2432 non-null   int64         \n",
            " 7   Mês                   2432 non-null   int64         \n",
            " 8   Dia_do_Mês            2432 non-null   int64         \n",
            " 9   Dia_da_Semana_Numero  2432 non-null   int64         \n",
            " 10  Nome_do_Dia           2432 non-null   object        \n",
            "dtypes: datetime64[ns](1), float64(1), int64(6), object(3)\n",
            "memory usage: 209.1+ KB\n"
          ],
          "name": "stdout"
        }
      ]
    },
    {
      "cell_type": "code",
      "metadata": {
        "id": "WPT1E1VM6QUy",
        "colab": {
          "base_uri": "https://localhost:8080/",
          "height": 266
        },
        "outputId": "0fa92d6a-b4fd-434a-d23f-c9537bcc7090"
      },
      "source": [
        "# Apenas dos valores numéricos\r\n",
        "df.describe().T"
      ],
      "execution_count": 17,
      "outputs": [
        {
          "output_type": "execute_result",
          "data": {
            "text/html": [
              "<div>\n",
              "<style scoped>\n",
              "    .dataframe tbody tr th:only-of-type {\n",
              "        vertical-align: middle;\n",
              "    }\n",
              "\n",
              "    .dataframe tbody tr th {\n",
              "        vertical-align: top;\n",
              "    }\n",
              "\n",
              "    .dataframe thead th {\n",
              "        text-align: right;\n",
              "    }\n",
              "</style>\n",
              "<table border=\"1\" class=\"dataframe\">\n",
              "  <thead>\n",
              "    <tr style=\"text-align: right;\">\n",
              "      <th></th>\n",
              "      <th>count</th>\n",
              "      <th>mean</th>\n",
              "      <th>std</th>\n",
              "      <th>min</th>\n",
              "      <th>25%</th>\n",
              "      <th>50%</th>\n",
              "      <th>75%</th>\n",
              "      <th>max</th>\n",
              "    </tr>\n",
              "  </thead>\n",
              "  <tbody>\n",
              "    <tr>\n",
              "      <th>PAX</th>\n",
              "      <td>2432.0</td>\n",
              "      <td>723.00</td>\n",
              "      <td>735.94</td>\n",
              "      <td>18.00</td>\n",
              "      <td>100.00</td>\n",
              "      <td>395.50</td>\n",
              "      <td>1160.25</td>\n",
              "      <td>4705.00</td>\n",
              "    </tr>\n",
              "    <tr>\n",
              "      <th>Monetário Vendido</th>\n",
              "      <td>2432.0</td>\n",
              "      <td>24638.74</td>\n",
              "      <td>22424.84</td>\n",
              "      <td>1041.54</td>\n",
              "      <td>6122.92</td>\n",
              "      <td>17755.42</td>\n",
              "      <td>35535.33</td>\n",
              "      <td>144890.73</td>\n",
              "    </tr>\n",
              "    <tr>\n",
              "      <th>RPK</th>\n",
              "      <td>2432.0</td>\n",
              "      <td>66738.39</td>\n",
              "      <td>83479.04</td>\n",
              "      <td>1127.00</td>\n",
              "      <td>11372.00</td>\n",
              "      <td>33361.50</td>\n",
              "      <td>95116.75</td>\n",
              "      <td>695824.00</td>\n",
              "    </tr>\n",
              "    <tr>\n",
              "      <th>Ano</th>\n",
              "      <td>2432.0</td>\n",
              "      <td>2016.60</td>\n",
              "      <td>0.49</td>\n",
              "      <td>2016.00</td>\n",
              "      <td>2016.00</td>\n",
              "      <td>2017.00</td>\n",
              "      <td>2017.00</td>\n",
              "      <td>2017.00</td>\n",
              "    </tr>\n",
              "    <tr>\n",
              "      <th>Mês</th>\n",
              "      <td>2432.0</td>\n",
              "      <td>5.83</td>\n",
              "      <td>4.71</td>\n",
              "      <td>1.00</td>\n",
              "      <td>2.00</td>\n",
              "      <td>3.00</td>\n",
              "      <td>11.00</td>\n",
              "      <td>12.00</td>\n",
              "    </tr>\n",
              "    <tr>\n",
              "      <th>Dia_do_Mês</th>\n",
              "      <td>2432.0</td>\n",
              "      <td>15.53</td>\n",
              "      <td>8.80</td>\n",
              "      <td>1.00</td>\n",
              "      <td>8.00</td>\n",
              "      <td>15.50</td>\n",
              "      <td>23.00</td>\n",
              "      <td>31.00</td>\n",
              "    </tr>\n",
              "    <tr>\n",
              "      <th>Dia_da_Semana_Numero</th>\n",
              "      <td>2432.0</td>\n",
              "      <td>3.00</td>\n",
              "      <td>1.98</td>\n",
              "      <td>0.00</td>\n",
              "      <td>1.00</td>\n",
              "      <td>3.00</td>\n",
              "      <td>5.00</td>\n",
              "      <td>6.00</td>\n",
              "    </tr>\n",
              "  </tbody>\n",
              "</table>\n",
              "</div>"
            ],
            "text/plain": [
              "                       count      mean       std      min       25%       50%  \\\n",
              "PAX                   2432.0    723.00    735.94    18.00    100.00    395.50   \n",
              "Monetário Vendido     2432.0  24638.74  22424.84  1041.54   6122.92  17755.42   \n",
              "RPK                   2432.0  66738.39  83479.04  1127.00  11372.00  33361.50   \n",
              "Ano                   2432.0   2016.60      0.49  2016.00   2016.00   2017.00   \n",
              "Mês                   2432.0      5.83      4.71     1.00      2.00      3.00   \n",
              "Dia_do_Mês            2432.0     15.53      8.80     1.00      8.00     15.50   \n",
              "Dia_da_Semana_Numero  2432.0      3.00      1.98     0.00      1.00      3.00   \n",
              "\n",
              "                           75%        max  \n",
              "PAX                    1160.25    4705.00  \n",
              "Monetário Vendido     35535.33  144890.73  \n",
              "RPK                   95116.75  695824.00  \n",
              "Ano                    2017.00    2017.00  \n",
              "Mês                      11.00      12.00  \n",
              "Dia_do_Mês               23.00      31.00  \n",
              "Dia_da_Semana_Numero      5.00       6.00  "
            ]
          },
          "metadata": {
            "tags": []
          },
          "execution_count": 17
        }
      ]
    },
    {
      "cell_type": "code",
      "metadata": {
        "id": "x8ZUQ6vS7HNZ",
        "colab": {
          "base_uri": "https://localhost:8080/"
        },
        "outputId": "3544dea4-eba8-4204-f183-f2c3e441983b"
      },
      "source": [
        "df['RPK'].median()"
      ],
      "execution_count": 18,
      "outputs": [
        {
          "output_type": "execute_result",
          "data": {
            "text/plain": [
              "33361.5"
            ]
          },
          "metadata": {
            "tags": []
          },
          "execution_count": 18
        }
      ]
    },
    {
      "cell_type": "code",
      "metadata": {
        "id": "rMWD5YoPdcU8",
        "colab": {
          "base_uri": "https://localhost:8080/"
        },
        "outputId": "bdbbc547-0e60-4c6e-ae81-d56c9488a6c7"
      },
      "source": [
        "# Contagem por tipo de Canal de Venda\n",
        "df['Canal de Venda'].value_counts()\n"
      ],
      "execution_count": 19,
      "outputs": [
        {
          "output_type": "execute_result",
          "data": {
            "text/plain": [
              "TeleVenda        1216\n",
              "Porta a Porta     608\n",
              "Telégrafo         608\n",
              "Name: Canal de Venda, dtype: int64"
            ]
          },
          "metadata": {
            "tags": []
          },
          "execution_count": 19
        }
      ]
    },
    {
      "cell_type": "code",
      "metadata": {
        "colab": {
          "base_uri": "https://localhost:8080/"
        },
        "id": "wBeod5f7Prv_",
        "outputId": "4757b9b2-5a14-4938-ab83-b24ac09473ec"
      },
      "source": [
        "# Contagem por tipo de Local de Venda\r\n",
        "df['Local de Venda'].value_counts()"
      ],
      "execution_count": 20,
      "outputs": [
        {
          "output_type": "execute_result",
          "data": {
            "text/plain": [
              "Ellipsis     608\n",
              "Vast         608\n",
              "Mindscape    608\n",
              "Arena        608\n",
              "Name: Local de Venda, dtype: int64"
            ]
          },
          "metadata": {
            "tags": []
          },
          "execution_count": 20
        }
      ]
    },
    {
      "cell_type": "code",
      "metadata": {
        "colab": {
          "base_uri": "https://localhost:8080/"
        },
        "id": "2zKubiuKXDg3",
        "outputId": "8aa98bec-414e-4f9d-ec21-06439973cf86"
      },
      "source": [
        "# Contagem por Ano\r\n",
        "df['Ano'].value_counts()"
      ],
      "execution_count": 21,
      "outputs": [
        {
          "output_type": "execute_result",
          "data": {
            "text/plain": [
              "2017    1456\n",
              "2016     976\n",
              "Name: Ano, dtype: int64"
            ]
          },
          "metadata": {
            "tags": []
          },
          "execution_count": 21
        }
      ]
    },
    {
      "cell_type": "code",
      "metadata": {
        "colab": {
          "base_uri": "https://localhost:8080/"
        },
        "id": "bI2feLJkm6zx",
        "outputId": "6de49414-0652-43ef-9c22-1bf9b3205e62"
      },
      "source": [
        "# Contagem por Mês\r\n",
        "df['Mês'].value_counts()"
      ],
      "execution_count": 22,
      "outputs": [
        {
          "output_type": "execute_result",
          "data": {
            "text/plain": [
              "3     496\n",
              "1     496\n",
              "12    496\n",
              "11    480\n",
              "2     448\n",
              "4      16\n",
              "Name: Mês, dtype: int64"
            ]
          },
          "metadata": {
            "tags": []
          },
          "execution_count": 22
        }
      ]
    },
    {
      "cell_type": "code",
      "metadata": {
        "colab": {
          "base_uri": "https://localhost:8080/"
        },
        "id": "PrJKZxpjnLVo",
        "outputId": "1012cf24-782b-421e-e499-c064927b9680"
      },
      "source": [
        "# Contagem por Dia\r\n",
        "df['Nome_do_Dia'].value_counts()"
      ],
      "execution_count": 23,
      "outputs": [
        {
          "output_type": "execute_result",
          "data": {
            "text/plain": [
              "Terça      352\n",
              "Quinta     352\n",
              "Sexta      352\n",
              "Sabado     352\n",
              "Quarta     352\n",
              "Segunda    336\n",
              "Domingo    336\n",
              "Name: Nome_do_Dia, dtype: int64"
            ]
          },
          "metadata": {
            "tags": []
          },
          "execution_count": 23
        }
      ]
    },
    {
      "cell_type": "code",
      "metadata": {
        "colab": {
          "base_uri": "https://localhost:8080/",
          "height": 204
        },
        "id": "urkc3r8jqFs-",
        "outputId": "004a427f-8a33-402d-b3c0-c4a62b9e03cc"
      },
      "source": [
        "df.head()"
      ],
      "execution_count": 24,
      "outputs": [
        {
          "output_type": "execute_result",
          "data": {
            "text/html": [
              "<div>\n",
              "<style scoped>\n",
              "    .dataframe tbody tr th:only-of-type {\n",
              "        vertical-align: middle;\n",
              "    }\n",
              "\n",
              "    .dataframe tbody tr th {\n",
              "        vertical-align: top;\n",
              "    }\n",
              "\n",
              "    .dataframe thead th {\n",
              "        text-align: right;\n",
              "    }\n",
              "</style>\n",
              "<table border=\"1\" class=\"dataframe\">\n",
              "  <thead>\n",
              "    <tr style=\"text-align: right;\">\n",
              "      <th></th>\n",
              "      <th>Data Venda</th>\n",
              "      <th>Canal de Venda</th>\n",
              "      <th>Local de Venda</th>\n",
              "      <th>PAX</th>\n",
              "      <th>Monetário Vendido</th>\n",
              "      <th>RPK</th>\n",
              "      <th>Ano</th>\n",
              "      <th>Mês</th>\n",
              "      <th>Dia_do_Mês</th>\n",
              "      <th>Dia_da_Semana_Numero</th>\n",
              "      <th>Nome_do_Dia</th>\n",
              "    </tr>\n",
              "  </thead>\n",
              "  <tbody>\n",
              "    <tr>\n",
              "      <th>0</th>\n",
              "      <td>2016-11-01</td>\n",
              "      <td>Telégrafo</td>\n",
              "      <td>Mindscape</td>\n",
              "      <td>30</td>\n",
              "      <td>2188.11</td>\n",
              "      <td>3476</td>\n",
              "      <td>2016</td>\n",
              "      <td>11</td>\n",
              "      <td>1</td>\n",
              "      <td>1</td>\n",
              "      <td>Terça</td>\n",
              "    </tr>\n",
              "    <tr>\n",
              "      <th>1</th>\n",
              "      <td>2016-11-01</td>\n",
              "      <td>TeleVenda</td>\n",
              "      <td>Arena</td>\n",
              "      <td>52</td>\n",
              "      <td>3302.38</td>\n",
              "      <td>8197</td>\n",
              "      <td>2016</td>\n",
              "      <td>11</td>\n",
              "      <td>1</td>\n",
              "      <td>1</td>\n",
              "      <td>Terça</td>\n",
              "    </tr>\n",
              "    <tr>\n",
              "      <th>2</th>\n",
              "      <td>2016-11-01</td>\n",
              "      <td>TeleVenda</td>\n",
              "      <td>Mindscape</td>\n",
              "      <td>19</td>\n",
              "      <td>1041.54</td>\n",
              "      <td>2425</td>\n",
              "      <td>2016</td>\n",
              "      <td>11</td>\n",
              "      <td>1</td>\n",
              "      <td>1</td>\n",
              "      <td>Terça</td>\n",
              "    </tr>\n",
              "    <tr>\n",
              "      <th>3</th>\n",
              "      <td>2016-11-01</td>\n",
              "      <td>Porta a Porta</td>\n",
              "      <td>Mindscape</td>\n",
              "      <td>496</td>\n",
              "      <td>15566.34</td>\n",
              "      <td>53278</td>\n",
              "      <td>2016</td>\n",
              "      <td>11</td>\n",
              "      <td>1</td>\n",
              "      <td>1</td>\n",
              "      <td>Terça</td>\n",
              "    </tr>\n",
              "    <tr>\n",
              "      <th>4</th>\n",
              "      <td>2016-11-01</td>\n",
              "      <td>TeleVenda</td>\n",
              "      <td>Vast</td>\n",
              "      <td>46</td>\n",
              "      <td>2721.43</td>\n",
              "      <td>2039</td>\n",
              "      <td>2016</td>\n",
              "      <td>11</td>\n",
              "      <td>1</td>\n",
              "      <td>1</td>\n",
              "      <td>Terça</td>\n",
              "    </tr>\n",
              "  </tbody>\n",
              "</table>\n",
              "</div>"
            ],
            "text/plain": [
              "  Data Venda Canal de Venda Local de Venda  PAX  Monetário Vendido    RPK  \\\n",
              "0 2016-11-01      Telégrafo      Mindscape   30            2188.11   3476   \n",
              "1 2016-11-01      TeleVenda          Arena   52            3302.38   8197   \n",
              "2 2016-11-01      TeleVenda      Mindscape   19            1041.54   2425   \n",
              "3 2016-11-01  Porta a Porta      Mindscape  496           15566.34  53278   \n",
              "4 2016-11-01      TeleVenda           Vast   46            2721.43   2039   \n",
              "\n",
              "    Ano  Mês  Dia_do_Mês  Dia_da_Semana_Numero Nome_do_Dia  \n",
              "0  2016   11           1                     1       Terça  \n",
              "1  2016   11           1                     1       Terça  \n",
              "2  2016   11           1                     1       Terça  \n",
              "3  2016   11           1                     1       Terça  \n",
              "4  2016   11           1                     1       Terça  "
            ]
          },
          "metadata": {
            "tags": []
          },
          "execution_count": 24
        }
      ]
    },
    {
      "cell_type": "markdown",
      "metadata": {
        "id": "-jnJNDJqp1bm"
      },
      "source": [
        "#### Agrupando por Ano"
      ]
    },
    {
      "cell_type": "code",
      "metadata": {
        "colab": {
          "base_uri": "https://localhost:8080/",
          "height": 0
        },
        "id": "6kkKfwn5nYav",
        "outputId": "ef71b37e-f815-4532-cc41-086315f103a9"
      },
      "source": [
        "df[['Monetário Vendido', 'Ano']].groupby(by =[\"Ano\"]).sum()"
      ],
      "execution_count": 25,
      "outputs": [
        {
          "output_type": "execute_result",
          "data": {
            "text/html": [
              "<div>\n",
              "<style scoped>\n",
              "    .dataframe tbody tr th:only-of-type {\n",
              "        vertical-align: middle;\n",
              "    }\n",
              "\n",
              "    .dataframe tbody tr th {\n",
              "        vertical-align: top;\n",
              "    }\n",
              "\n",
              "    .dataframe thead th {\n",
              "        text-align: right;\n",
              "    }\n",
              "</style>\n",
              "<table border=\"1\" class=\"dataframe\">\n",
              "  <thead>\n",
              "    <tr style=\"text-align: right;\">\n",
              "      <th></th>\n",
              "      <th>Monetário Vendido</th>\n",
              "    </tr>\n",
              "    <tr>\n",
              "      <th>Ano</th>\n",
              "      <th></th>\n",
              "    </tr>\n",
              "  </thead>\n",
              "  <tbody>\n",
              "    <tr>\n",
              "      <th>2016</th>\n",
              "      <td>2.33e+07</td>\n",
              "    </tr>\n",
              "    <tr>\n",
              "      <th>2017</th>\n",
              "      <td>3.66e+07</td>\n",
              "    </tr>\n",
              "  </tbody>\n",
              "</table>\n",
              "</div>"
            ],
            "text/plain": [
              "      Monetário Vendido\n",
              "Ano                    \n",
              "2016           2.33e+07\n",
              "2017           3.66e+07"
            ]
          },
          "metadata": {
            "tags": []
          },
          "execution_count": 25
        }
      ]
    },
    {
      "cell_type": "markdown",
      "metadata": {
        "id": "IsZbu165q0uA"
      },
      "source": [
        "#### Agrupando por Mês\r\n"
      ]
    },
    {
      "cell_type": "code",
      "metadata": {
        "colab": {
          "base_uri": "https://localhost:8080/",
          "height": 0
        },
        "id": "vZNSx83xqvHI",
        "outputId": "981789d6-d523-4d89-fce8-af617bc0f233"
      },
      "source": [
        "df[['Monetário Vendido', 'Mês']].groupby(by =[\"Mês\"]).sum()"
      ],
      "execution_count": 26,
      "outputs": [
        {
          "output_type": "execute_result",
          "data": {
            "text/html": [
              "<div>\n",
              "<style scoped>\n",
              "    .dataframe tbody tr th:only-of-type {\n",
              "        vertical-align: middle;\n",
              "    }\n",
              "\n",
              "    .dataframe tbody tr th {\n",
              "        vertical-align: top;\n",
              "    }\n",
              "\n",
              "    .dataframe thead th {\n",
              "        text-align: right;\n",
              "    }\n",
              "</style>\n",
              "<table border=\"1\" class=\"dataframe\">\n",
              "  <thead>\n",
              "    <tr style=\"text-align: right;\">\n",
              "      <th></th>\n",
              "      <th>Monetário Vendido</th>\n",
              "    </tr>\n",
              "    <tr>\n",
              "      <th>Mês</th>\n",
              "      <th></th>\n",
              "    </tr>\n",
              "  </thead>\n",
              "  <tbody>\n",
              "    <tr>\n",
              "      <th>1</th>\n",
              "      <td>1.26e+07</td>\n",
              "    </tr>\n",
              "    <tr>\n",
              "      <th>2</th>\n",
              "      <td>1.12e+07</td>\n",
              "    </tr>\n",
              "    <tr>\n",
              "      <th>3</th>\n",
              "      <td>1.24e+07</td>\n",
              "    </tr>\n",
              "    <tr>\n",
              "      <th>4</th>\n",
              "      <td>4.35e+05</td>\n",
              "    </tr>\n",
              "    <tr>\n",
              "      <th>11</th>\n",
              "      <td>1.21e+07</td>\n",
              "    </tr>\n",
              "    <tr>\n",
              "      <th>12</th>\n",
              "      <td>1.12e+07</td>\n",
              "    </tr>\n",
              "  </tbody>\n",
              "</table>\n",
              "</div>"
            ],
            "text/plain": [
              "     Monetário Vendido\n",
              "Mês                   \n",
              "1             1.26e+07\n",
              "2             1.12e+07\n",
              "3             1.24e+07\n",
              "4             4.35e+05\n",
              "11            1.21e+07\n",
              "12            1.12e+07"
            ]
          },
          "metadata": {
            "tags": []
          },
          "execution_count": 26
        }
      ]
    },
    {
      "cell_type": "markdown",
      "metadata": {
        "id": "8acfBqTQqTlx"
      },
      "source": [
        "#### Agrupando por Canal de Venda"
      ]
    },
    {
      "cell_type": "code",
      "metadata": {
        "colab": {
          "base_uri": "https://localhost:8080/",
          "height": 0
        },
        "id": "U3rfZnMKp9P5",
        "outputId": "822e7442-0c87-44d3-dd5c-c355d06adb7a"
      },
      "source": [
        "df[['Monetário Vendido', 'Canal de Venda']].groupby(by =[\"Canal de Venda\"]).sum()"
      ],
      "execution_count": 27,
      "outputs": [
        {
          "output_type": "execute_result",
          "data": {
            "text/html": [
              "<div>\n",
              "<style scoped>\n",
              "    .dataframe tbody tr th:only-of-type {\n",
              "        vertical-align: middle;\n",
              "    }\n",
              "\n",
              "    .dataframe tbody tr th {\n",
              "        vertical-align: top;\n",
              "    }\n",
              "\n",
              "    .dataframe thead th {\n",
              "        text-align: right;\n",
              "    }\n",
              "</style>\n",
              "<table border=\"1\" class=\"dataframe\">\n",
              "  <thead>\n",
              "    <tr style=\"text-align: right;\">\n",
              "      <th></th>\n",
              "      <th>Monetário Vendido</th>\n",
              "    </tr>\n",
              "    <tr>\n",
              "      <th>Canal de Venda</th>\n",
              "      <th></th>\n",
              "    </tr>\n",
              "  </thead>\n",
              "  <tbody>\n",
              "    <tr>\n",
              "      <th>Porta a Porta</th>\n",
              "      <td>1.91e+07</td>\n",
              "    </tr>\n",
              "    <tr>\n",
              "      <th>TeleVenda</th>\n",
              "      <td>3.80e+07</td>\n",
              "    </tr>\n",
              "    <tr>\n",
              "      <th>Telégrafo</th>\n",
              "      <td>2.79e+06</td>\n",
              "    </tr>\n",
              "  </tbody>\n",
              "</table>\n",
              "</div>"
            ],
            "text/plain": [
              "                Monetário Vendido\n",
              "Canal de Venda                   \n",
              "Porta a Porta            1.91e+07\n",
              "TeleVenda                3.80e+07\n",
              "Telégrafo                2.79e+06"
            ]
          },
          "metadata": {
            "tags": []
          },
          "execution_count": 27
        }
      ]
    },
    {
      "cell_type": "markdown",
      "metadata": {
        "id": "1Ar_q2SZqmT1"
      },
      "source": [
        "#### Agrupando por Local de Venda"
      ]
    },
    {
      "cell_type": "code",
      "metadata": {
        "colab": {
          "base_uri": "https://localhost:8080/",
          "height": 204
        },
        "id": "4SQziMvyqh7_",
        "outputId": "317bf5b3-c789-421c-e781-4e4433caf072"
      },
      "source": [
        "df[['Monetário Vendido', 'Local de Venda']].groupby(by =[\"Local de Venda\"]).sum()"
      ],
      "execution_count": 28,
      "outputs": [
        {
          "output_type": "execute_result",
          "data": {
            "text/html": [
              "<div>\n",
              "<style scoped>\n",
              "    .dataframe tbody tr th:only-of-type {\n",
              "        vertical-align: middle;\n",
              "    }\n",
              "\n",
              "    .dataframe tbody tr th {\n",
              "        vertical-align: top;\n",
              "    }\n",
              "\n",
              "    .dataframe thead th {\n",
              "        text-align: right;\n",
              "    }\n",
              "</style>\n",
              "<table border=\"1\" class=\"dataframe\">\n",
              "  <thead>\n",
              "    <tr style=\"text-align: right;\">\n",
              "      <th></th>\n",
              "      <th>Monetário Vendido</th>\n",
              "    </tr>\n",
              "    <tr>\n",
              "      <th>Local de Venda</th>\n",
              "      <th></th>\n",
              "    </tr>\n",
              "  </thead>\n",
              "  <tbody>\n",
              "    <tr>\n",
              "      <th>Arena</th>\n",
              "      <td>1.92e+07</td>\n",
              "    </tr>\n",
              "    <tr>\n",
              "      <th>Ellipsis</th>\n",
              "      <td>1.12e+07</td>\n",
              "    </tr>\n",
              "    <tr>\n",
              "      <th>Mindscape</th>\n",
              "      <td>1.47e+07</td>\n",
              "    </tr>\n",
              "    <tr>\n",
              "      <th>Vast</th>\n",
              "      <td>1.48e+07</td>\n",
              "    </tr>\n",
              "  </tbody>\n",
              "</table>\n",
              "</div>"
            ],
            "text/plain": [
              "                Monetário Vendido\n",
              "Local de Venda                   \n",
              "Arena                    1.92e+07\n",
              "Ellipsis                 1.12e+07\n",
              "Mindscape                1.47e+07\n",
              "Vast                     1.48e+07"
            ]
          },
          "metadata": {
            "tags": []
          },
          "execution_count": 28
        }
      ]
    },
    {
      "cell_type": "code",
      "metadata": {
        "id": "Gma0cT4JCZba"
      },
      "source": [
        ""
      ],
      "execution_count": 28,
      "outputs": []
    },
    {
      "cell_type": "code",
      "metadata": {
        "colab": {
          "base_uri": "https://localhost:8080/",
          "height": 290
        },
        "id": "j2rbO7ixq7Wp",
        "outputId": "f986c5a4-3731-4e67-d1ca-ca98be8c71ec"
      },
      "source": [
        "# Distribuição dos dados - histograma\r\n",
        "sns.distplot(df['Monetário Vendido']);\r\n",
        "\r\n",
        "\r\n",
        "\r\n",
        "\r\n",
        "\r\n",
        "\r\n",
        "\r\n"
      ],
      "execution_count": 29,
      "outputs": [
        {
          "output_type": "display_data",
          "data": {
            "image/png": "[encoded data removed]",
            "text/plain": [
              "<Figure size 432x288 with 1 Axes>"
            ]
          },
          "metadata": {
            "tags": [],
            "needs_background": "light"
          }
        }
      ]
    },
    {
      "cell_type": "code",
      "metadata": {
        "colab": {
          "base_uri": "https://localhost:8080/",
          "height": 281
        },
        "id": "lh9z3SD7uW6b",
        "outputId": "f1a368de-c737-4271-8c67-3cb260cea4e7"
      },
      "source": [
        "# Distribuição dos dados - histograma\r\n",
        "sns.distplot(df['Dia_do_Mês']);"
      ],
      "execution_count": 32,
      "outputs": [
        {
          "output_type": "display_data",
          "data": {
            "image/png": "[encoded data removed]",
            "text/plain": [
              "<Figure size 432x288 with 1 Axes>"
            ]
          },
          "metadata": {
            "tags": [],
            "needs_background": "light"
          }
        }
      ]
    },
    {
      "cell_type": "code",
      "metadata": {
        "colab": {
          "base_uri": "https://localhost:8080/",
          "height": 296
        },
        "id": "pKQUoNNWuuc0",
        "outputId": "2e963697-333e-4426-badf-fdd6b3e2dc06"
      },
      "source": [
        "# Distribuição dos dados - histograma\r\n",
        "sns.distplot(df['Mês'])"
      ],
      "execution_count": 33,
      "outputs": [
        {
          "output_type": "execute_result",
          "data": {
            "text/plain": [
              "<matplotlib.axes._subplots.AxesSubplot at 0x7f0ed4e6b4a8>"
            ]
          },
          "metadata": {
            "tags": []
          },
          "execution_count": 33
        },
        {
          "output_type": "display_data",
          "data": {
            "image/png": "[encoded data removed]",
            "text/plain": [
              "<Figure size 432x288 with 1 Axes>"
            ]
          },
          "metadata": {
            "tags": [],
            "needs_background": "light"
          }
        }
      ]
    },
    {
      "cell_type": "code",
      "metadata": {
        "colab": {
          "base_uri": "https://localhost:8080/",
          "height": 471
        },
        "id": "pSSwB0zRu8Dj",
        "outputId": "9ab3a5ef-9050-40f9-aa30-594d84ba432a"
      },
      "source": [
        "# Total Vendas por Canal\r\n",
        "mx = sns.catplot(x = \"Canal de Venda\", hue = 'Ano', data = df, kind = \"count\", height = 6)\r\n",
        "mx.set(ylabel = 'Total de Vendas por Canal')\r\n",
        "plt.title('Vendas por Canal');"
      ],
      "execution_count": 34,
      "outputs": [
        {
          "output_type": "display_data",
          "data": {
            "image/png": "[encoded data removed]",
            "text/plain": [
              "<Figure size 493.375x432 with 1 Axes>"
            ]
          },
          "metadata": {
            "tags": [],
            "needs_background": "light"
          }
        }
      ]
    },
    {
      "cell_type": "code",
      "metadata": {
        "colab": {
          "base_uri": "https://localhost:8080/",
          "height": 471
        },
        "id": "nFUGXrSyyQjw",
        "outputId": "938d6627-3851-4102-b5f7-d73686698189"
      },
      "source": [
        "# Total Vendas por Local de Venda\r\n",
        "mx = sns.catplot(x = \"Local de Venda\", hue = 'Ano', data = df, kind = \"count\", height = 6)\r\n",
        "mx.set(ylabel = 'Total de Vendas por Local')\r\n",
        "plt.title('Vendas por Local');"
      ],
      "execution_count": 35,
      "outputs": [
        {
          "output_type": "display_data",
          "data": {
            "image/png": "[encoded data removed]",
            "text/plain": [
              "<Figure size 493.375x432 with 1 Axes>"
            ]
          },
          "metadata": {
            "tags": [],
            "needs_background": "light"
          }
        }
      ]
    },
    {
      "cell_type": "code",
      "metadata": {
        "colab": {
          "base_uri": "https://localhost:8080/",
          "height": 471
        },
        "id": "_77SVLRHyj9X",
        "outputId": "082f07cb-2148-4882-db42-ff047f861c7c"
      },
      "source": [
        "# Total Vendas por Mês\r\n",
        "mx = sns.catplot(x = \"Mês\", hue = 'Ano', data = df, kind = \"count\", height = 6)\r\n",
        "mx.set(ylabel = 'Total de Vendas por Mês')\r\n",
        "plt.title('Vendas por Mês');"
      ],
      "execution_count": 36,
      "outputs": [
        {
          "output_type": "display_data",
          "data": {
            "image/png": "[encoded data removed]",
            "text/plain": [
              "<Figure size 493.375x432 with 1 Axes>"
            ]
          },
          "metadata": {
            "tags": [],
            "needs_background": "light"
          }
        }
      ]
    },
    {
      "cell_type": "markdown",
      "metadata": {
        "id": "0PtQXGWC5l22"
      },
      "source": [
        "## Questões\r\n",
        "###1-Faça um ranking para o número total de PAX por dia da semana.\t\t\t\t\t\t\t\t\t\t\t\t\t\t\t\t\t\r\n",
        "###2-Qual a correlação de sábado e domingo somados com o total de RPK?\t\t\t\t\t\t\t\t\t\t\t\t\t\t\t\t\t\r\n",
        "###3-Qual a média de ‘Monetário’ por mês por Canal? E a mediana?\t\t\t\t\t\t\t\t\t\t\t\t\t\t\t\t\t\r\n",
        "###4-Crie um forecast de PAX por ‘Local de Venda’ para os próximos 15 dias a contar da última data de venda. (Aqui a técnica é livre) \t\t\t\t\t\t\t\t\t\t\t\t\t\t\t\t\t\r\n",
        "###5-Supondo que você precisa gerar um estudo para a área responsável, com base em qualquer modelo ou premissa, qual ‘Local de Venda’ você considera mais crítico. Por quê?\t\t\t\t\t\t\t\t\t\t\t\t\t\t\t\t\t\r\n",
        "###6-Criar modelo relacionando o comporatamento de venda com variaveis não apresentada nos dados (Ex : PIB, Dolar, e etc)\t\t\t"
      ]
    },
    {
      "cell_type": "code",
      "metadata": {
        "id": "TNwCgZUr5cOJ"
      },
      "source": [
        "\r\n",
        "\r\n",
        "\r\n",
        "\t\t\t\t\t\t\t\t\t\t\t\t\t\t\t\t\t\r\n",
        "\t\t\t\t\t\t\t\t\t\t\t\t\t\t\t\t\r\n",
        "4-Crie um forecast de PAX por ‘Local de Venda’ para os próximos 15 dias a contar da última data de venda. (Aqui a técnica é livre) \t\t\t\t\t\t\t\t\t\t\t\t\t\t\t\t\t\r\n",
        "5-Supondo que você precisa gerar um estudo para a área responsável, com base em qualquer modelo ou premissa, qual ‘Local de Venda’ você considera mais crítico. Por quê?\t\t\t\t\t\t\t\t\t\t\t\t\t\t\t\t\t\r\n",
        "6-Criar modelo relacionando o comporatamento de venda com variaveis não apresentada nos dados (Ex : PIB, Dolar, e etc)\t\t\t"
      ],
      "execution_count": null,
      "outputs": []
    },
    {
      "cell_type": "markdown",
      "metadata": {
        "id": "OcDZFH0_L807"
      },
      "source": [
        "### 1 - Faça um ranking para o número total de PAX por dia da semana."
      ]
    },
    {
      "cell_type": "code",
      "metadata": {
        "id": "1rpYhSfY7WIz",
        "colab": {
          "base_uri": "https://localhost:8080/",
          "height": 332
        },
        "outputId": "a010be4c-e94a-480b-d9de-1f8764a46c8a"
      },
      "source": [
        "ranking_Dia_PAX = df.groupby(['Nome_do_Dia'])['PAX'].sum().sort_values(ascending=False)\r\n",
        "ranking_Dia_PAX.plot(x='Nome_do_Dia', y=\"PAX\", kind= 'bar')"
      ],
      "execution_count": 41,
      "outputs": [
        {
          "output_type": "execute_result",
          "data": {
            "text/plain": [
              "<matplotlib.axes._subplots.AxesSubplot at 0x7f0ed13a2550>"
            ]
          },
          "metadata": {
            "tags": []
          },
          "execution_count": 41
        },
        {
          "output_type": "display_data",
          "data": {
            "image/png": "[encoded data removed]",
            "text/plain": [
              "<Figure size 432x288 with 1 Axes>"
            ]
          },
          "metadata": {
            "tags": [],
            "needs_background": "light"
          }
        }
      ]
    },
    {
      "cell_type": "markdown",
      "metadata": {
        "id": "gXmtdwF5MJCS"
      },
      "source": [
        "### 2 - Qual a correlação de sábado e domingo somados com o total de RPK?"
      ]
    },
    {
      "cell_type": "code",
      "metadata": {
        "id": "jLEzK4WLMN2M"
      },
      "source": [
        "df_sabado_domingo = df.loc[(df['Nome_do_Dia'] == 'Sabado') | (df['Nome_do_Dia'] == 'Domingo')]"
      ],
      "execution_count": 38,
      "outputs": []
    },
    {
      "cell_type": "code",
      "metadata": {
        "colab": {
          "base_uri": "https://localhost:8080/",
          "height": 419
        },
        "id": "a20Em4pFMHbF",
        "outputId": "a771e23c-2f5d-4ccd-c0cf-d117b4f5d5dc"
      },
      "source": [
        "df_sabado_domingo"
      ],
      "execution_count": 39,
      "outputs": [
        {
          "output_type": "execute_result",
          "data": {
            "text/html": [
              "<div>\n",
              "<style scoped>\n",
              "    .dataframe tbody tr th:only-of-type {\n",
              "        vertical-align: middle;\n",
              "    }\n",
              "\n",
              "    .dataframe tbody tr th {\n",
              "        vertical-align: top;\n",
              "    }\n",
              "\n",
              "    .dataframe thead th {\n",
              "        text-align: right;\n",
              "    }\n",
              "</style>\n",
              "<table border=\"1\" class=\"dataframe\">\n",
              "  <thead>\n",
              "    <tr style=\"text-align: right;\">\n",
              "      <th></th>\n",
              "      <th>Data Venda</th>\n",
              "      <th>Canal de Venda</th>\n",
              "      <th>Local de Venda</th>\n",
              "      <th>PAX</th>\n",
              "      <th>Monetário Vendido</th>\n",
              "      <th>RPK</th>\n",
              "      <th>Ano</th>\n",
              "      <th>Mês</th>\n",
              "      <th>Dia_do_Mês</th>\n",
              "      <th>Dia_da_Semana_Numero</th>\n",
              "      <th>Nome_do_Dia</th>\n",
              "    </tr>\n",
              "  </thead>\n",
              "  <tbody>\n",
              "    <tr>\n",
              "      <th>64</th>\n",
              "      <td>2016-11-05</td>\n",
              "      <td>TeleVenda</td>\n",
              "      <td>Mindscape</td>\n",
              "      <td>1378</td>\n",
              "      <td>60813.49</td>\n",
              "      <td>164710</td>\n",
              "      <td>2016</td>\n",
              "      <td>11</td>\n",
              "      <td>5</td>\n",
              "      <td>5</td>\n",
              "      <td>Sabado</td>\n",
              "    </tr>\n",
              "    <tr>\n",
              "      <th>65</th>\n",
              "      <td>2016-11-05</td>\n",
              "      <td>Telégrafo</td>\n",
              "      <td>Ellipsis</td>\n",
              "      <td>42</td>\n",
              "      <td>2695.44</td>\n",
              "      <td>2399</td>\n",
              "      <td>2016</td>\n",
              "      <td>11</td>\n",
              "      <td>5</td>\n",
              "      <td>5</td>\n",
              "      <td>Sabado</td>\n",
              "    </tr>\n",
              "    <tr>\n",
              "      <th>66</th>\n",
              "      <td>2016-11-05</td>\n",
              "      <td>TeleVenda</td>\n",
              "      <td>Arena</td>\n",
              "      <td>206</td>\n",
              "      <td>15726.53</td>\n",
              "      <td>32153</td>\n",
              "      <td>2016</td>\n",
              "      <td>11</td>\n",
              "      <td>5</td>\n",
              "      <td>5</td>\n",
              "      <td>Sabado</td>\n",
              "    </tr>\n",
              "    <tr>\n",
              "      <th>67</th>\n",
              "      <td>2016-11-05</td>\n",
              "      <td>Porta a Porta</td>\n",
              "      <td>Vast</td>\n",
              "      <td>1314</td>\n",
              "      <td>30005.76</td>\n",
              "      <td>61962</td>\n",
              "      <td>2016</td>\n",
              "      <td>11</td>\n",
              "      <td>5</td>\n",
              "      <td>5</td>\n",
              "      <td>Sabado</td>\n",
              "    </tr>\n",
              "    <tr>\n",
              "      <th>68</th>\n",
              "      <td>2016-11-05</td>\n",
              "      <td>Porta a Porta</td>\n",
              "      <td>Mindscape</td>\n",
              "      <td>877</td>\n",
              "      <td>34594.72</td>\n",
              "      <td>98153</td>\n",
              "      <td>2016</td>\n",
              "      <td>11</td>\n",
              "      <td>5</td>\n",
              "      <td>5</td>\n",
              "      <td>Sabado</td>\n",
              "    </tr>\n",
              "    <tr>\n",
              "      <th>...</th>\n",
              "      <td>...</td>\n",
              "      <td>...</td>\n",
              "      <td>...</td>\n",
              "      <td>...</td>\n",
              "      <td>...</td>\n",
              "      <td>...</td>\n",
              "      <td>...</td>\n",
              "      <td>...</td>\n",
              "      <td>...</td>\n",
              "      <td>...</td>\n",
              "      <td>...</td>\n",
              "    </tr>\n",
              "    <tr>\n",
              "      <th>2427</th>\n",
              "      <td>2017-04-01</td>\n",
              "      <td>Porta a Porta</td>\n",
              "      <td>Vast</td>\n",
              "      <td>1079</td>\n",
              "      <td>28486.40</td>\n",
              "      <td>54551</td>\n",
              "      <td>2017</td>\n",
              "      <td>4</td>\n",
              "      <td>1</td>\n",
              "      <td>5</td>\n",
              "      <td>Sabado</td>\n",
              "    </tr>\n",
              "    <tr>\n",
              "      <th>2428</th>\n",
              "      <td>2017-04-01</td>\n",
              "      <td>Porta a Porta</td>\n",
              "      <td>Ellipsis</td>\n",
              "      <td>841</td>\n",
              "      <td>23601.00</td>\n",
              "      <td>46988</td>\n",
              "      <td>2017</td>\n",
              "      <td>4</td>\n",
              "      <td>1</td>\n",
              "      <td>5</td>\n",
              "      <td>Sabado</td>\n",
              "    </tr>\n",
              "    <tr>\n",
              "      <th>2429</th>\n",
              "      <td>2017-04-01</td>\n",
              "      <td>TeleVenda</td>\n",
              "      <td>Arena</td>\n",
              "      <td>175</td>\n",
              "      <td>10270.29</td>\n",
              "      <td>26599</td>\n",
              "      <td>2017</td>\n",
              "      <td>4</td>\n",
              "      <td>1</td>\n",
              "      <td>5</td>\n",
              "      <td>Sabado</td>\n",
              "    </tr>\n",
              "    <tr>\n",
              "      <th>2430</th>\n",
              "      <td>2017-04-01</td>\n",
              "      <td>Telégrafo</td>\n",
              "      <td>Arena</td>\n",
              "      <td>105</td>\n",
              "      <td>5470.41</td>\n",
              "      <td>15130</td>\n",
              "      <td>2017</td>\n",
              "      <td>4</td>\n",
              "      <td>1</td>\n",
              "      <td>5</td>\n",
              "      <td>Sabado</td>\n",
              "    </tr>\n",
              "    <tr>\n",
              "      <th>2431</th>\n",
              "      <td>2017-04-01</td>\n",
              "      <td>Telégrafo</td>\n",
              "      <td>Vast</td>\n",
              "      <td>61</td>\n",
              "      <td>2911.98</td>\n",
              "      <td>3050</td>\n",
              "      <td>2017</td>\n",
              "      <td>4</td>\n",
              "      <td>1</td>\n",
              "      <td>5</td>\n",
              "      <td>Sabado</td>\n",
              "    </tr>\n",
              "  </tbody>\n",
              "</table>\n",
              "<p>688 rows × 11 columns</p>\n",
              "</div>"
            ],
            "text/plain": [
              "     Data Venda Canal de Venda Local de Venda   PAX  Monetário Vendido  \\\n",
              "64   2016-11-05      TeleVenda      Mindscape  1378           60813.49   \n",
              "65   2016-11-05      Telégrafo       Ellipsis    42            2695.44   \n",
              "66   2016-11-05      TeleVenda          Arena   206           15726.53   \n",
              "67   2016-11-05  Porta a Porta           Vast  1314           30005.76   \n",
              "68   2016-11-05  Porta a Porta      Mindscape   877           34594.72   \n",
              "...         ...            ...            ...   ...                ...   \n",
              "2427 2017-04-01  Porta a Porta           Vast  1079           28486.40   \n",
              "2428 2017-04-01  Porta a Porta       Ellipsis   841           23601.00   \n",
              "2429 2017-04-01      TeleVenda          Arena   175           10270.29   \n",
              "2430 2017-04-01      Telégrafo          Arena   105            5470.41   \n",
              "2431 2017-04-01      Telégrafo           Vast    61            2911.98   \n",
              "\n",
              "         RPK   Ano  Mês  Dia_do_Mês  Dia_da_Semana_Numero Nome_do_Dia  \n",
              "64    164710  2016   11           5                     5      Sabado  \n",
              "65      2399  2016   11           5                     5      Sabado  \n",
              "66     32153  2016   11           5                     5      Sabado  \n",
              "67     61962  2016   11           5                     5      Sabado  \n",
              "68     98153  2016   11           5                     5      Sabado  \n",
              "...      ...   ...  ...         ...                   ...         ...  \n",
              "2427   54551  2017    4           1                     5      Sabado  \n",
              "2428   46988  2017    4           1                     5      Sabado  \n",
              "2429   26599  2017    4           1                     5      Sabado  \n",
              "2430   15130  2017    4           1                     5      Sabado  \n",
              "2431    3050  2017    4           1                     5      Sabado  \n",
              "\n",
              "[688 rows x 11 columns]"
            ]
          },
          "metadata": {
            "tags": []
          },
          "execution_count": 39
        }
      ]
    },
    {
      "cell_type": "code",
      "metadata": {
        "colab": {
          "base_uri": "https://localhost:8080/",
          "height": 111
        },
        "id": "X1-_ABwU9Z3d",
        "outputId": "b30dc097-58cf-4f4d-d853-be4d16c36572"
      },
      "source": [
        "df[['Dia_da_Semana_Numero', 'RPK']].corr()"
      ],
      "execution_count": 42,
      "outputs": [
        {
          "output_type": "execute_result",
          "data": {
            "text/html": [
              "<div>\n",
              "<style scoped>\n",
              "    .dataframe tbody tr th:only-of-type {\n",
              "        vertical-align: middle;\n",
              "    }\n",
              "\n",
              "    .dataframe tbody tr th {\n",
              "        vertical-align: top;\n",
              "    }\n",
              "\n",
              "    .dataframe thead th {\n",
              "        text-align: right;\n",
              "    }\n",
              "</style>\n",
              "<table border=\"1\" class=\"dataframe\">\n",
              "  <thead>\n",
              "    <tr style=\"text-align: right;\">\n",
              "      <th></th>\n",
              "      <th>Dia_da_Semana_Numero</th>\n",
              "      <th>RPK</th>\n",
              "    </tr>\n",
              "  </thead>\n",
              "  <tbody>\n",
              "    <tr>\n",
              "      <th>Dia_da_Semana_Numero</th>\n",
              "      <td>1.00e+00</td>\n",
              "      <td>1.34e-04</td>\n",
              "    </tr>\n",
              "    <tr>\n",
              "      <th>RPK</th>\n",
              "      <td>1.34e-04</td>\n",
              "      <td>1.00e+00</td>\n",
              "    </tr>\n",
              "  </tbody>\n",
              "</table>\n",
              "</div>"
            ],
            "text/plain": [
              "                      Dia_da_Semana_Numero       RPK\n",
              "Dia_da_Semana_Numero              1.00e+00  1.34e-04\n",
              "RPK                               1.34e-04  1.00e+00"
            ]
          },
          "metadata": {
            "tags": []
          },
          "execution_count": 42
        }
      ]
    },
    {
      "cell_type": "markdown",
      "metadata": {
        "id": "cXtFBv7FTF48"
      },
      "source": [
        "### 3 - Qual a média de ‘Monetário’ por mês por Canal? E a mediana?\t"
      ]
    },
    {
      "cell_type": "code",
      "metadata": {
        "id": "YIKomdbuUhTv"
      },
      "source": [
        "temp = df.copy()\r\n",
        "temp = temp.rename(columns={\"Monetário Vendido\": \"Monetário\"})"
      ],
      "execution_count": 43,
      "outputs": []
    },
    {
      "cell_type": "code",
      "metadata": {
        "id": "cvNU5W3aWSM6"
      },
      "source": [
        "# Media de Monetário por Mês e Canal de Venda\r\n",
        "monet_mean = temp[['Monetário', 'Mês', \"Canal de Venda\"]].groupby(by =['Mês', \"Canal de Venda\"]).mean()\r\n",
        "#\r\n",
        "# Mediana de Monetário por Mês e Canal de Venda\r\n",
        "monet_mead = temp[['Monetário', 'Mês', \"Canal de Venda\"]].groupby(by =['Mês', \"Canal de Venda\"]).median()"
      ],
      "execution_count": 44,
      "outputs": []
    },
    {
      "cell_type": "code",
      "metadata": {
        "colab": {
          "base_uri": "https://localhost:8080/"
        },
        "id": "ii7VtfS56prR",
        "outputId": "c35fc277-958f-45b2-966c-fb18aa5c5ef8"
      },
      "source": [
        "print(\"Valor da Mediana de Monetário por Mês e Canal de Venda\\n\\n\", monet_mead)"
      ],
      "execution_count": 45,
      "outputs": [
        {
          "output_type": "stream",
          "text": [
            "Valor da Mediana de Monetário por Mês e Canal de Venda\n",
            "\n",
            "                     Monetário\n",
            "Mês Canal de Venda           \n",
            "1   Porta a Porta    28823.03\n",
            "    TeleVenda        19085.12\n",
            "    Telégrafo         3782.25\n",
            "2   Porta a Porta    29711.58\n",
            "    TeleVenda        18926.69\n",
            "    Telégrafo         4045.89\n",
            "3   Porta a Porta    30488.19\n",
            "    TeleVenda        18666.88\n",
            "    Telégrafo         4345.56\n",
            "4   Porta a Porta    32421.61\n",
            "    TeleVenda        28091.89\n",
            "    Telégrafo         3458.89\n",
            "11  Porta a Porta    30262.98\n",
            "    TeleVenda        18757.71\n",
            "    Telégrafo         4029.14\n",
            "12  Porta a Porta    25527.52\n",
            "    TeleVenda        17567.60\n",
            "    Telégrafo         4227.57\n"
          ],
          "name": "stdout"
        }
      ]
    },
    {
      "cell_type": "code",
      "metadata": {
        "colab": {
          "base_uri": "https://localhost:8080/"
        },
        "id": "RSIxdDW_cGP4",
        "outputId": "557b520c-d409-4f22-ce67-cd3504d5c77b"
      },
      "source": [
        "print(\"Valor da Medio de Monetário por Mês e Canal de Venda\\n\\n\", monet_mean)"
      ],
      "execution_count": 46,
      "outputs": [
        {
          "output_type": "stream",
          "text": [
            "Valor da Medio de Monetário por Mês e Canal de Venda\n",
            "\n",
            "                     Monetário\n",
            "Mês Canal de Venda           \n",
            "1   Porta a Porta    31320.57\n",
            "    TeleVenda        32868.88\n",
            "    Telégrafo         4234.02\n",
            "2   Porta a Porta    31710.15\n",
            "    TeleVenda        32208.45\n",
            "    Telégrafo         4307.63\n",
            "3   Porta a Porta    31055.94\n",
            "    TeleVenda        32132.25\n",
            "    Telégrafo         4568.15\n",
            "4   Porta a Porta    33319.50\n",
            "    TeleVenda        35795.78\n",
            "    Telégrafo         3778.59\n",
            "11  Porta a Porta    34638.07\n",
            "    TeleVenda        30963.46\n",
            "    Telégrafo         4614.31\n",
            "12  Porta a Porta    28615.45\n",
            "    TeleVenda        28045.72\n",
            "    Telégrafo         5212.65\n"
          ],
          "name": "stdout"
        }
      ]
    },
    {
      "cell_type": "markdown",
      "metadata": {
        "id": "Od6wiJXucwVx"
      },
      "source": [
        "### 4 - Crie um forecast de PAX por ‘Local de Venda’ para os próximos 15 dias a contar da última data de venda. (Aqui a técnica é livre)"
      ]
    },
    {
      "cell_type": "code",
      "metadata": {
        "colab": {
          "base_uri": "https://localhost:8080/",
          "height": 204
        },
        "id": "q1Q6m-o5coGq",
        "outputId": "16c89d3d-af99-42fe-a34f-9c8ed800b2cb"
      },
      "source": [
        "df.head()"
      ],
      "execution_count": 47,
      "outputs": [
        {
          "output_type": "execute_result",
          "data": {
            "text/html": [
              "<div>\n",
              "<style scoped>\n",
              "    .dataframe tbody tr th:only-of-type {\n",
              "        vertical-align: middle;\n",
              "    }\n",
              "\n",
              "    .dataframe tbody tr th {\n",
              "        vertical-align: top;\n",
              "    }\n",
              "\n",
              "    .dataframe thead th {\n",
              "        text-align: right;\n",
              "    }\n",
              "</style>\n",
              "<table border=\"1\" class=\"dataframe\">\n",
              "  <thead>\n",
              "    <tr style=\"text-align: right;\">\n",
              "      <th></th>\n",
              "      <th>Data Venda</th>\n",
              "      <th>Canal de Venda</th>\n",
              "      <th>Local de Venda</th>\n",
              "      <th>PAX</th>\n",
              "      <th>Monetário Vendido</th>\n",
              "      <th>RPK</th>\n",
              "      <th>Ano</th>\n",
              "      <th>Mês</th>\n",
              "      <th>Dia_do_Mês</th>\n",
              "      <th>Dia_da_Semana_Numero</th>\n",
              "      <th>Nome_do_Dia</th>\n",
              "    </tr>\n",
              "  </thead>\n",
              "  <tbody>\n",
              "    <tr>\n",
              "      <th>0</th>\n",
              "      <td>2016-11-01</td>\n",
              "      <td>Telégrafo</td>\n",
              "      <td>Mindscape</td>\n",
              "      <td>30</td>\n",
              "      <td>2188.11</td>\n",
              "      <td>3476</td>\n",
              "      <td>2016</td>\n",
              "      <td>11</td>\n",
              "      <td>1</td>\n",
              "      <td>1</td>\n",
              "      <td>Terça</td>\n",
              "    </tr>\n",
              "    <tr>\n",
              "      <th>1</th>\n",
              "      <td>2016-11-01</td>\n",
              "      <td>TeleVenda</td>\n",
              "      <td>Arena</td>\n",
              "      <td>52</td>\n",
              "      <td>3302.38</td>\n",
              "      <td>8197</td>\n",
              "      <td>2016</td>\n",
              "      <td>11</td>\n",
              "      <td>1</td>\n",
              "      <td>1</td>\n",
              "      <td>Terça</td>\n",
              "    </tr>\n",
              "    <tr>\n",
              "      <th>2</th>\n",
              "      <td>2016-11-01</td>\n",
              "      <td>TeleVenda</td>\n",
              "      <td>Mindscape</td>\n",
              "      <td>19</td>\n",
              "      <td>1041.54</td>\n",
              "      <td>2425</td>\n",
              "      <td>2016</td>\n",
              "      <td>11</td>\n",
              "      <td>1</td>\n",
              "      <td>1</td>\n",
              "      <td>Terça</td>\n",
              "    </tr>\n",
              "    <tr>\n",
              "      <th>3</th>\n",
              "      <td>2016-11-01</td>\n",
              "      <td>Porta a Porta</td>\n",
              "      <td>Mindscape</td>\n",
              "      <td>496</td>\n",
              "      <td>15566.34</td>\n",
              "      <td>53278</td>\n",
              "      <td>2016</td>\n",
              "      <td>11</td>\n",
              "      <td>1</td>\n",
              "      <td>1</td>\n",
              "      <td>Terça</td>\n",
              "    </tr>\n",
              "    <tr>\n",
              "      <th>4</th>\n",
              "      <td>2016-11-01</td>\n",
              "      <td>TeleVenda</td>\n",
              "      <td>Vast</td>\n",
              "      <td>46</td>\n",
              "      <td>2721.43</td>\n",
              "      <td>2039</td>\n",
              "      <td>2016</td>\n",
              "      <td>11</td>\n",
              "      <td>1</td>\n",
              "      <td>1</td>\n",
              "      <td>Terça</td>\n",
              "    </tr>\n",
              "  </tbody>\n",
              "</table>\n",
              "</div>"
            ],
            "text/plain": [
              "  Data Venda Canal de Venda Local de Venda  PAX  Monetário Vendido    RPK  \\\n",
              "0 2016-11-01      Telégrafo      Mindscape   30            2188.11   3476   \n",
              "1 2016-11-01      TeleVenda          Arena   52            3302.38   8197   \n",
              "2 2016-11-01      TeleVenda      Mindscape   19            1041.54   2425   \n",
              "3 2016-11-01  Porta a Porta      Mindscape  496           15566.34  53278   \n",
              "4 2016-11-01      TeleVenda           Vast   46            2721.43   2039   \n",
              "\n",
              "    Ano  Mês  Dia_do_Mês  Dia_da_Semana_Numero Nome_do_Dia  \n",
              "0  2016   11           1                     1       Terça  \n",
              "1  2016   11           1                     1       Terça  \n",
              "2  2016   11           1                     1       Terça  \n",
              "3  2016   11           1                     1       Terça  \n",
              "4  2016   11           1                     1       Terça  "
            ]
          },
          "metadata": {
            "tags": []
          },
          "execution_count": 47
        }
      ]
    },
    {
      "cell_type": "code",
      "metadata": {
        "colab": {
          "base_uri": "https://localhost:8080/"
        },
        "id": "lPbOXitCdNzG",
        "outputId": "c4d22e39-eab2-4884-cd35-2dd06b524aa5"
      },
      "source": [
        "df['Local de Venda'].value_counts()"
      ],
      "execution_count": 48,
      "outputs": [
        {
          "output_type": "execute_result",
          "data": {
            "text/plain": [
              "Ellipsis     608\n",
              "Vast         608\n",
              "Mindscape    608\n",
              "Arena        608\n",
              "Name: Local de Venda, dtype: int64"
            ]
          },
          "metadata": {
            "tags": []
          },
          "execution_count": 48
        }
      ]
    },
    {
      "cell_type": "markdown",
      "metadata": {
        "id": "QNgpQIcUkkh6"
      },
      "source": [
        "#### Separando os conjuntos de dados de cada Local de Venda"
      ]
    },
    {
      "cell_type": "code",
      "metadata": {
        "id": "XmV6NSDadlme"
      },
      "source": [
        "temp = df.copy()\r\n",
        "temp_Mindscape = df.loc[temp['Local de Venda']== \"Mindscape\"]\r\n",
        "#\r\n",
        "temp_Arena = df.loc[temp['Local de Venda']== \"Arena\"]\r\n",
        "#\r\n",
        "temp_Vast = df.loc[temp['Local de Venda']== \"Vast\"]\r\n",
        "#\r\n",
        "temp_Ellipsis = df.loc[temp['Local de Venda']== \"Ellipsis\"]"
      ],
      "execution_count": 162,
      "outputs": []
    },
    {
      "cell_type": "markdown",
      "metadata": {
        "id": "0dBjoX5NnMf0"
      },
      "source": [
        "#### Forecast dos próximos 15 dias de PAX por Local de Venda, \r\n",
        "#### a partir do última dia de venda."
      ]
    },
    {
      "cell_type": "code",
      "metadata": {
        "id": "u7Oft4qRlEkM"
      },
      "source": [
        "# Forecast by Prophet\r\n",
        "prediction_size = 15 # dias"
      ],
      "execution_count": 51,
      "outputs": []
    },
    {
      "cell_type": "code",
      "metadata": {
        "id": "Lumz6O4EqSH2"
      },
      "source": [
        "# A função recebe o local de venda e o conjunto de dados naquele local\r\n",
        "# A ultima data de venda no local é extraida selecionado o maior valor no campo Data Venda\r\n",
        "# A previsão é definida para um intervalo de confiança~de 95%\r\n",
        "# Após o modelo fazer a previsão, é feita filtragem dos 15 dias previstos\r\n",
        "# É feito um gráfico que apresenta a evolução do valor de PAX no periodo.\r\n",
        "#\r\n",
        "# retorna o dataset com as previsões de 15 dias\r\n",
        "#\r\n",
        "def predict_pax(local,df):\r\n",
        "  model = Prophet(interval_width=0.95)\r\n",
        "  df = df.rename(columns={\"Data Venda\": \"ds\", \"PAX\": \"y\"})\r\n",
        "  model.fit(df)\r\n",
        "  future = model.make_future_dataframe(periods=prediction_size)\r\n",
        "  forecast = model.predict(future)\r\n",
        "  ultima_venda = df['ds'].max()\r\n",
        "  forecast_next_15_days = forecast.loc[forecast.ds > ultima_venda ]\r\n",
        "  fig = model.plot(forecast_next_15_days, figsize=(10,5))\r\n",
        "  ax = fig.gca()\r\n",
        "  ax.set_title(local+\"\\nForecast by Prophet\\nPeriodo: 15 dias a partir da última registrada\", size=18)\r\n",
        "  ax.set_xlabel(\"Date\", size=14)\r\n",
        "  ax.set_ylabel(\"PAX\", size=14)\r\n",
        "  ax.tick_params(axis='x', labelsize=10)\r\n",
        "  ax.tick_params(axis='y', labelsize=10)\r\n",
        "  #\r\n",
        "  #fig = model.plot_components(forecast, figsize=(10,5))\r\n",
        "  return forecast_next_15_days"
      ],
      "execution_count": 52,
      "outputs": []
    },
    {
      "cell_type": "code",
      "metadata": {
        "id": "I4BXBP006_rS"
      },
      "source": [
        "# A função recebe o local e as previsões, faz ajustes nos nomes das colunas\r\n",
        "# E apresentas previsões efetuadas pela lib Prophet\r\n",
        "def resultado(local, forecast):\r\n",
        "  forecast= forecast.rename(columns={\"ds\": \"Data Venda\", \"yhat\": \"PAX\"})\r\n",
        "  print(\"\\n\",local)\r\n",
        "  print(\"\\nValores previstos pros próximos 15 dias\")\r\n",
        "  print(\"Inicio:\",forecast['Data Venda'].min())\r\n",
        "  print(\"Final :\", forecast['Data Venda'].max())\r\n",
        "  print(\"\\n\",forecast[['Data Venda', 'PAX']])"
      ],
      "execution_count": 53,
      "outputs": []
    },
    {
      "cell_type": "markdown",
      "metadata": {
        "id": "O2hFuQ5q87yE"
      },
      "source": [
        "#### Efetuando as previsões para cada local"
      ]
    },
    {
      "cell_type": "markdown",
      "metadata": {
        "id": "Gt3pvtUo-FzI"
      },
      "source": [
        "### Mindscape"
      ]
    },
    {
      "cell_type": "code",
      "metadata": {
        "colab": {
          "base_uri": "https://localhost:8080/",
          "height": 860
        },
        "id": "dj8wQ25FrV0p",
        "outputId": "a4993101-83c4-4f44-8e5b-786134f7e997"
      },
      "source": [
        "forecast_mindscape = predict_pax('Mindscape',temp_Mindscape);\r\n",
        "resultado('Mindcaspe',forecast_mindscape)\r\n"
      ],
      "execution_count": 56,
      "outputs": [
        {
          "output_type": "stream",
          "text": [
            "INFO:fbprophet:Disabling yearly seasonality. Run prophet with yearly_seasonality=True to override this.\n",
            "INFO:fbprophet:Disabling daily seasonality. Run prophet with daily_seasonality=True to override this.\n"
          ],
          "name": "stderr"
        },
        {
          "output_type": "stream",
          "text": [
            "\n",
            " Mindcaspe\n",
            "\n",
            "Valores previstos pros próximos 15 dias\n",
            "Inicio: 2017-04-02 00:00:00\n",
            "Final : 2017-04-16 00:00:00\n",
            "\n",
            "     Data Venda     PAX\n",
            "152 2017-04-02  655.47\n",
            "153 2017-04-03  678.82\n",
            "154 2017-04-04  595.40\n",
            "155 2017-04-05  778.86\n",
            "156 2017-04-06  684.70\n",
            "157 2017-04-07  678.15\n",
            "158 2017-04-08  673.19\n",
            "159 2017-04-09  657.35\n",
            "160 2017-04-10  680.70\n",
            "161 2017-04-11  597.28\n",
            "162 2017-04-12  780.74\n",
            "163 2017-04-13  686.58\n",
            "164 2017-04-14  680.03\n",
            "165 2017-04-15  675.07\n",
            "166 2017-04-16  659.24\n"
          ],
          "name": "stdout"
        },
        {
          "output_type": "display_data",
          "data": {
            "image/png": "[encoded data removed]",
            "text/plain": [
              "<Figure size 720x360 with 1 Axes>"
            ]
          },
          "metadata": {
            "tags": []
          }
        }
      ]
    },
    {
      "cell_type": "markdown",
      "metadata": {
        "id": "4D6PiiWA_r6k"
      },
      "source": [
        "### Arena"
      ]
    },
    {
      "cell_type": "code",
      "metadata": {
        "colab": {
          "base_uri": "https://localhost:8080/",
          "height": 860
        },
        "id": "TXTEX9Hd_olN",
        "outputId": "597d15d0-7258-441b-9714-3d4e6abdf57b"
      },
      "source": [
        "forecast_arena = predict_pax('Arena',temp_Arena);\r\n",
        "resultado('Arena',forecast_arena)"
      ],
      "execution_count": 64,
      "outputs": [
        {
          "output_type": "stream",
          "text": [
            "INFO:fbprophet:Disabling yearly seasonality. Run prophet with yearly_seasonality=True to override this.\n",
            "INFO:fbprophet:Disabling daily seasonality. Run prophet with daily_seasonality=True to override this.\n"
          ],
          "name": "stderr"
        },
        {
          "output_type": "stream",
          "text": [
            "\n",
            " Arena\n",
            "\n",
            "Valores previstos pros próximos 15 dias\n",
            "Inicio: 2017-04-02 00:00:00\n",
            "Final : 2017-04-16 00:00:00\n",
            "\n",
            "     Data Venda     PAX\n",
            "152 2017-04-02  793.23\n",
            "153 2017-04-03  885.65\n",
            "154 2017-04-04  682.59\n",
            "155 2017-04-05  835.99\n",
            "156 2017-04-06  770.91\n",
            "157 2017-04-07  767.12\n",
            "158 2017-04-08  769.12\n",
            "159 2017-04-09  793.85\n",
            "160 2017-04-10  886.28\n",
            "161 2017-04-11  683.22\n",
            "162 2017-04-12  836.62\n",
            "163 2017-04-13  771.53\n",
            "164 2017-04-14  767.75\n",
            "165 2017-04-15  769.75\n",
            "166 2017-04-16  794.48\n"
          ],
          "name": "stdout"
        },
        {
          "output_type": "display_data",
          "data": {
            "image/png": "[encoded data removed]",
            "text/plain": [
              "<Figure size 720x360 with 1 Axes>"
            ]
          },
          "metadata": {
            "tags": []
          }
        }
      ]
    },
    {
      "cell_type": "markdown",
      "metadata": {
        "id": "KiAh2PMKBYVA"
      },
      "source": [
        "### Vast\r\n"
      ]
    },
    {
      "cell_type": "code",
      "metadata": {
        "colab": {
          "base_uri": "https://localhost:8080/",
          "height": 860
        },
        "id": "veC7mGhgBXtL",
        "outputId": "4678d3d1-0b6b-4f35-f11c-2a42d6c9362c"
      },
      "source": [
        "forecast_vast = predict_pax('Vast',temp_Vast);\r\n",
        "resultado('Vast',forecast_vast)"
      ],
      "execution_count": 58,
      "outputs": [
        {
          "output_type": "stream",
          "text": [
            "INFO:fbprophet:Disabling yearly seasonality. Run prophet with yearly_seasonality=True to override this.\n",
            "INFO:fbprophet:Disabling daily seasonality. Run prophet with daily_seasonality=True to override this.\n"
          ],
          "name": "stderr"
        },
        {
          "output_type": "stream",
          "text": [
            "\n",
            " Vast\n",
            "\n",
            "Valores previstos pros próximos 15 dias\n",
            "Inicio: 2017-04-02 00:00:00\n",
            "Final : 2017-04-16 00:00:00\n",
            "\n",
            "     Data Venda      PAX\n",
            "152 2017-04-02   884.68\n",
            "153 2017-04-03   763.77\n",
            "154 2017-04-04   754.40\n",
            "155 2017-04-05  1051.70\n",
            "156 2017-04-06   921.21\n",
            "157 2017-04-07   902.84\n",
            "158 2017-04-08   890.92\n",
            "159 2017-04-09   888.32\n",
            "160 2017-04-10   767.40\n",
            "161 2017-04-11   758.04\n",
            "162 2017-04-12  1055.33\n",
            "163 2017-04-13   924.84\n",
            "164 2017-04-14   906.47\n",
            "165 2017-04-15   894.55\n",
            "166 2017-04-16   891.95\n"
          ],
          "name": "stdout"
        },
        {
          "output_type": "display_data",
          "data": {
            "image/png": "[encoded data removed]",
            "text/plain": [
              "<Figure size 720x360 with 1 Axes>"
            ]
          },
          "metadata": {
            "tags": []
          }
        }
      ]
    },
    {
      "cell_type": "markdown",
      "metadata": {
        "id": "kTvIuJrrBry5"
      },
      "source": [
        "### Ellipsis"
      ]
    },
    {
      "cell_type": "code",
      "metadata": {
        "colab": {
          "base_uri": "https://localhost:8080/",
          "height": 860
        },
        "id": "AaaWTB0TBqBd",
        "outputId": "4935f408-9103-4013-bef9-6caa846d65a0"
      },
      "source": [
        "forecast_ellipsis = predict_pax('Ellipsis',temp_Ellipsis);\r\n",
        "resultado('Ellipsis',forecast_ellipsis)"
      ],
      "execution_count": 59,
      "outputs": [
        {
          "output_type": "stream",
          "text": [
            "INFO:fbprophet:Disabling yearly seasonality. Run prophet with yearly_seasonality=True to override this.\n",
            "INFO:fbprophet:Disabling daily seasonality. Run prophet with daily_seasonality=True to override this.\n"
          ],
          "name": "stderr"
        },
        {
          "output_type": "stream",
          "text": [
            "\n",
            " Ellipsis\n",
            "\n",
            "Valores previstos pros próximos 15 dias\n",
            "Inicio: 2017-04-02 00:00:00\n",
            "Final : 2017-04-16 00:00:00\n",
            "\n",
            "     Data Venda     PAX\n",
            "152 2017-04-02  656.69\n",
            "153 2017-04-03  598.55\n",
            "154 2017-04-04  584.79\n",
            "155 2017-04-05  782.61\n",
            "156 2017-04-06  679.66\n",
            "157 2017-04-07  675.66\n",
            "158 2017-04-08  665.83\n",
            "159 2017-04-09  661.30\n",
            "160 2017-04-10  603.16\n",
            "161 2017-04-11  589.39\n",
            "162 2017-04-12  787.22\n",
            "163 2017-04-13  684.27\n",
            "164 2017-04-14  680.26\n",
            "165 2017-04-15  670.44\n",
            "166 2017-04-16  665.91\n"
          ],
          "name": "stdout"
        },
        {
          "output_type": "display_data",
          "data": {
            "image/png": "[encoded data removed]",
            "text/plain": [
              "<Figure size 720x360 with 1 Axes>"
            ]
          },
          "metadata": {
            "tags": []
          }
        }
      ]
    },
    {
      "cell_type": "code",
      "metadata": {
        "id": "jo33Doy8iTuc"
      },
      "source": [
        "mindscape = forecast_mindscape[['ds', 'yhat']].rename(columns={\"ds\": \"Data Venda\", \"yhat\": \"PAX_MINDSCAPE\"})\r\n",
        "arena = forecast_arena[['ds', 'yhat']].rename(columns={\"ds\": \"Data Venda\", \"yhat\": \"PAX_ARENA\"})\r\n",
        "vast = forecast_vast[['ds', 'yhat']].rename(columns={\"ds\": \"Data Venda\", \"yhat\": \"PAX_VAST\"})\r\n",
        "ellipsis = forecast_ellipsis[['ds', 'yhat']].rename(columns={\"ds\": \"Data Venda\", \"yhat\": \"PAX_Ellipsis\"})"
      ],
      "execution_count": 129,
      "outputs": []
    },
    {
      "cell_type": "code",
      "metadata": {
        "id": "ouXJ0el5j4_9"
      },
      "source": [
        "merge1 = pd.merge(vast, arena)\r\n",
        "#\r\n",
        "merge2 = pd.merge(merge1, mindscape)\r\n",
        "#\r\n",
        "all_forecast = pd.merge(merge2, ellipsis)\r\n"
      ],
      "execution_count": 98,
      "outputs": []
    },
    {
      "cell_type": "markdown",
      "metadata": {
        "id": "OEcViUyioKhR"
      },
      "source": [
        "### Previsões para os locais de venda"
      ]
    },
    {
      "cell_type": "code",
      "metadata": {
        "colab": {
          "base_uri": "https://localhost:8080/",
          "height": 514
        },
        "id": "s8vwhHU8ksfa",
        "outputId": "c46d4b42-5acc-4508-a3dd-5e4fc40ac0b0"
      },
      "source": [
        "all_forecast"
      ],
      "execution_count": 109,
      "outputs": [
        {
          "output_type": "execute_result",
          "data": {
            "text/html": [
              "<div>\n",
              "<style scoped>\n",
              "    .dataframe tbody tr th:only-of-type {\n",
              "        vertical-align: middle;\n",
              "    }\n",
              "\n",
              "    .dataframe tbody tr th {\n",
              "        vertical-align: top;\n",
              "    }\n",
              "\n",
              "    .dataframe thead th {\n",
              "        text-align: right;\n",
              "    }\n",
              "</style>\n",
              "<table border=\"1\" class=\"dataframe\">\n",
              "  <thead>\n",
              "    <tr style=\"text-align: right;\">\n",
              "      <th></th>\n",
              "      <th>Data Venda</th>\n",
              "      <th>PAX_VAST</th>\n",
              "      <th>PAX_ARENA</th>\n",
              "      <th>PAX_MINDSCAPE</th>\n",
              "      <th>PAX_Ellipsis</th>\n",
              "    </tr>\n",
              "  </thead>\n",
              "  <tbody>\n",
              "    <tr>\n",
              "      <th>0</th>\n",
              "      <td>2017-04-02</td>\n",
              "      <td>884.68</td>\n",
              "      <td>793.23</td>\n",
              "      <td>655.47</td>\n",
              "      <td>656.69</td>\n",
              "    </tr>\n",
              "    <tr>\n",
              "      <th>1</th>\n",
              "      <td>2017-04-03</td>\n",
              "      <td>763.77</td>\n",
              "      <td>885.65</td>\n",
              "      <td>678.82</td>\n",
              "      <td>598.55</td>\n",
              "    </tr>\n",
              "    <tr>\n",
              "      <th>2</th>\n",
              "      <td>2017-04-04</td>\n",
              "      <td>754.40</td>\n",
              "      <td>682.59</td>\n",
              "      <td>595.40</td>\n",
              "      <td>584.79</td>\n",
              "    </tr>\n",
              "    <tr>\n",
              "      <th>3</th>\n",
              "      <td>2017-04-05</td>\n",
              "      <td>1051.70</td>\n",
              "      <td>835.99</td>\n",
              "      <td>778.86</td>\n",
              "      <td>782.61</td>\n",
              "    </tr>\n",
              "    <tr>\n",
              "      <th>4</th>\n",
              "      <td>2017-04-06</td>\n",
              "      <td>921.21</td>\n",
              "      <td>770.91</td>\n",
              "      <td>684.70</td>\n",
              "      <td>679.66</td>\n",
              "    </tr>\n",
              "    <tr>\n",
              "      <th>5</th>\n",
              "      <td>2017-04-07</td>\n",
              "      <td>902.84</td>\n",
              "      <td>767.12</td>\n",
              "      <td>678.15</td>\n",
              "      <td>675.66</td>\n",
              "    </tr>\n",
              "    <tr>\n",
              "      <th>6</th>\n",
              "      <td>2017-04-08</td>\n",
              "      <td>890.92</td>\n",
              "      <td>769.12</td>\n",
              "      <td>673.19</td>\n",
              "      <td>665.83</td>\n",
              "    </tr>\n",
              "    <tr>\n",
              "      <th>7</th>\n",
              "      <td>2017-04-09</td>\n",
              "      <td>888.32</td>\n",
              "      <td>793.85</td>\n",
              "      <td>657.35</td>\n",
              "      <td>661.30</td>\n",
              "    </tr>\n",
              "    <tr>\n",
              "      <th>8</th>\n",
              "      <td>2017-04-10</td>\n",
              "      <td>767.40</td>\n",
              "      <td>886.28</td>\n",
              "      <td>680.70</td>\n",
              "      <td>603.16</td>\n",
              "    </tr>\n",
              "    <tr>\n",
              "      <th>9</th>\n",
              "      <td>2017-04-11</td>\n",
              "      <td>758.04</td>\n",
              "      <td>683.22</td>\n",
              "      <td>597.28</td>\n",
              "      <td>589.39</td>\n",
              "    </tr>\n",
              "    <tr>\n",
              "      <th>10</th>\n",
              "      <td>2017-04-12</td>\n",
              "      <td>1055.33</td>\n",
              "      <td>836.62</td>\n",
              "      <td>780.74</td>\n",
              "      <td>787.22</td>\n",
              "    </tr>\n",
              "    <tr>\n",
              "      <th>11</th>\n",
              "      <td>2017-04-13</td>\n",
              "      <td>924.84</td>\n",
              "      <td>771.53</td>\n",
              "      <td>686.58</td>\n",
              "      <td>684.27</td>\n",
              "    </tr>\n",
              "    <tr>\n",
              "      <th>12</th>\n",
              "      <td>2017-04-14</td>\n",
              "      <td>906.47</td>\n",
              "      <td>767.75</td>\n",
              "      <td>680.03</td>\n",
              "      <td>680.26</td>\n",
              "    </tr>\n",
              "    <tr>\n",
              "      <th>13</th>\n",
              "      <td>2017-04-15</td>\n",
              "      <td>894.55</td>\n",
              "      <td>769.75</td>\n",
              "      <td>675.07</td>\n",
              "      <td>670.44</td>\n",
              "    </tr>\n",
              "    <tr>\n",
              "      <th>14</th>\n",
              "      <td>2017-04-16</td>\n",
              "      <td>891.95</td>\n",
              "      <td>794.48</td>\n",
              "      <td>659.24</td>\n",
              "      <td>665.91</td>\n",
              "    </tr>\n",
              "  </tbody>\n",
              "</table>\n",
              "</div>"
            ],
            "text/plain": [
              "   Data Venda  PAX_VAST  PAX_ARENA  PAX_MINDSCAPE  PAX_Ellipsis\n",
              "0  2017-04-02    884.68     793.23         655.47        656.69\n",
              "1  2017-04-03    763.77     885.65         678.82        598.55\n",
              "2  2017-04-04    754.40     682.59         595.40        584.79\n",
              "3  2017-04-05   1051.70     835.99         778.86        782.61\n",
              "4  2017-04-06    921.21     770.91         684.70        679.66\n",
              "5  2017-04-07    902.84     767.12         678.15        675.66\n",
              "6  2017-04-08    890.92     769.12         673.19        665.83\n",
              "7  2017-04-09    888.32     793.85         657.35        661.30\n",
              "8  2017-04-10    767.40     886.28         680.70        603.16\n",
              "9  2017-04-11    758.04     683.22         597.28        589.39\n",
              "10 2017-04-12   1055.33     836.62         780.74        787.22\n",
              "11 2017-04-13    924.84     771.53         686.58        684.27\n",
              "12 2017-04-14    906.47     767.75         680.03        680.26\n",
              "13 2017-04-15    894.55     769.75         675.07        670.44\n",
              "14 2017-04-16    891.95     794.48         659.24        665.91"
            ]
          },
          "metadata": {
            "tags": []
          },
          "execution_count": 109
        }
      ]
    },
    {
      "cell_type": "markdown",
      "metadata": {
        "id": "sYDVL-nisYfW"
      },
      "source": [
        "### 5 - Supondo que você precisa gerar um estudo para a área responsável, com base em qualquer modelo ou premissa, qual ‘Local de Venda’ você considera mais crítico. Por quê?"
      ]
    },
    {
      "cell_type": "code",
      "metadata": {
        "colab": {
          "base_uri": "https://localhost:8080/",
          "height": 266
        },
        "id": "eB0SBHWuoXG_",
        "outputId": "fa97631c-9200-4f56-ffb8-da44baa182a0"
      },
      "source": [
        "temp_Mindscape.describe().T"
      ],
      "execution_count": 136,
      "outputs": [
        {
          "output_type": "execute_result",
          "data": {
            "text/html": [
              "<div>\n",
              "<style scoped>\n",
              "    .dataframe tbody tr th:only-of-type {\n",
              "        vertical-align: middle;\n",
              "    }\n",
              "\n",
              "    .dataframe tbody tr th {\n",
              "        vertical-align: top;\n",
              "    }\n",
              "\n",
              "    .dataframe thead th {\n",
              "        text-align: right;\n",
              "    }\n",
              "</style>\n",
              "<table border=\"1\" class=\"dataframe\">\n",
              "  <thead>\n",
              "    <tr style=\"text-align: right;\">\n",
              "      <th></th>\n",
              "      <th>count</th>\n",
              "      <th>mean</th>\n",
              "      <th>std</th>\n",
              "      <th>min</th>\n",
              "      <th>25%</th>\n",
              "      <th>50%</th>\n",
              "      <th>75%</th>\n",
              "      <th>max</th>\n",
              "    </tr>\n",
              "  </thead>\n",
              "  <tbody>\n",
              "    <tr>\n",
              "      <th>PAX</th>\n",
              "      <td>608.0</td>\n",
              "      <td>656.78</td>\n",
              "      <td>690.23</td>\n",
              "      <td>19.00</td>\n",
              "      <td>84.50</td>\n",
              "      <td>327.50</td>\n",
              "      <td>1034.00</td>\n",
              "      <td>3961.00</td>\n",
              "    </tr>\n",
              "    <tr>\n",
              "      <th>Monetário Vendido</th>\n",
              "      <td>608.0</td>\n",
              "      <td>24242.94</td>\n",
              "      <td>22567.80</td>\n",
              "      <td>1041.54</td>\n",
              "      <td>5434.19</td>\n",
              "      <td>13115.23</td>\n",
              "      <td>34991.99</td>\n",
              "      <td>94836.67</td>\n",
              "    </tr>\n",
              "    <tr>\n",
              "      <th>RPK</th>\n",
              "      <td>608.0</td>\n",
              "      <td>78781.87</td>\n",
              "      <td>84845.12</td>\n",
              "      <td>2425.00</td>\n",
              "      <td>10556.00</td>\n",
              "      <td>35823.00</td>\n",
              "      <td>120343.75</td>\n",
              "      <td>537259.00</td>\n",
              "    </tr>\n",
              "    <tr>\n",
              "      <th>Ano</th>\n",
              "      <td>608.0</td>\n",
              "      <td>2016.60</td>\n",
              "      <td>0.49</td>\n",
              "      <td>2016.00</td>\n",
              "      <td>2016.00</td>\n",
              "      <td>2017.00</td>\n",
              "      <td>2017.00</td>\n",
              "      <td>2017.00</td>\n",
              "    </tr>\n",
              "    <tr>\n",
              "      <th>Mês</th>\n",
              "      <td>608.0</td>\n",
              "      <td>5.83</td>\n",
              "      <td>4.71</td>\n",
              "      <td>1.00</td>\n",
              "      <td>2.00</td>\n",
              "      <td>3.00</td>\n",
              "      <td>11.00</td>\n",
              "      <td>12.00</td>\n",
              "    </tr>\n",
              "    <tr>\n",
              "      <th>Dia_do_Mês</th>\n",
              "      <td>608.0</td>\n",
              "      <td>15.53</td>\n",
              "      <td>8.81</td>\n",
              "      <td>1.00</td>\n",
              "      <td>8.00</td>\n",
              "      <td>15.50</td>\n",
              "      <td>23.00</td>\n",
              "      <td>31.00</td>\n",
              "    </tr>\n",
              "    <tr>\n",
              "      <th>Dia_da_Semana_Numero</th>\n",
              "      <td>608.0</td>\n",
              "      <td>3.00</td>\n",
              "      <td>1.99</td>\n",
              "      <td>0.00</td>\n",
              "      <td>1.00</td>\n",
              "      <td>3.00</td>\n",
              "      <td>5.00</td>\n",
              "      <td>6.00</td>\n",
              "    </tr>\n",
              "  </tbody>\n",
              "</table>\n",
              "</div>"
            ],
            "text/plain": [
              "                      count      mean       std      min       25%       50%  \\\n",
              "PAX                   608.0    656.78    690.23    19.00     84.50    327.50   \n",
              "Monetário Vendido     608.0  24242.94  22567.80  1041.54   5434.19  13115.23   \n",
              "RPK                   608.0  78781.87  84845.12  2425.00  10556.00  35823.00   \n",
              "Ano                   608.0   2016.60      0.49  2016.00   2016.00   2017.00   \n",
              "Mês                   608.0      5.83      4.71     1.00      2.00      3.00   \n",
              "Dia_do_Mês            608.0     15.53      8.81     1.00      8.00     15.50   \n",
              "Dia_da_Semana_Numero  608.0      3.00      1.99     0.00      1.00      3.00   \n",
              "\n",
              "                            75%        max  \n",
              "PAX                     1034.00    3961.00  \n",
              "Monetário Vendido      34991.99   94836.67  \n",
              "RPK                   120343.75  537259.00  \n",
              "Ano                     2017.00    2017.00  \n",
              "Mês                       11.00      12.00  \n",
              "Dia_do_Mês                23.00      31.00  \n",
              "Dia_da_Semana_Numero       5.00       6.00  "
            ]
          },
          "metadata": {
            "tags": []
          },
          "execution_count": 136
        }
      ]
    },
    {
      "cell_type": "code",
      "metadata": {
        "colab": {
          "base_uri": "https://localhost:8080/",
          "height": 266
        },
        "id": "cZix_T2n7yBr",
        "outputId": "c10a4269-ecfb-450d-e781-4e1c5c3ed983"
      },
      "source": [
        "temp_Arena.describe().T"
      ],
      "execution_count": 137,
      "outputs": [
        {
          "output_type": "execute_result",
          "data": {
            "text/html": [
              "<div>\n",
              "<style scoped>\n",
              "    .dataframe tbody tr th:only-of-type {\n",
              "        vertical-align: middle;\n",
              "    }\n",
              "\n",
              "    .dataframe tbody tr th {\n",
              "        vertical-align: top;\n",
              "    }\n",
              "\n",
              "    .dataframe thead th {\n",
              "        text-align: right;\n",
              "    }\n",
              "</style>\n",
              "<table border=\"1\" class=\"dataframe\">\n",
              "  <thead>\n",
              "    <tr style=\"text-align: right;\">\n",
              "      <th></th>\n",
              "      <th>count</th>\n",
              "      <th>mean</th>\n",
              "      <th>std</th>\n",
              "      <th>min</th>\n",
              "      <th>25%</th>\n",
              "      <th>50%</th>\n",
              "      <th>75%</th>\n",
              "      <th>max</th>\n",
              "    </tr>\n",
              "  </thead>\n",
              "  <tbody>\n",
              "    <tr>\n",
              "      <th>PAX</th>\n",
              "      <td>608.0</td>\n",
              "      <td>780.24</td>\n",
              "      <td>804.76</td>\n",
              "      <td>39.00</td>\n",
              "      <td>121.00</td>\n",
              "      <td>461.00</td>\n",
              "      <td>1264.25</td>\n",
              "      <td>4705.00</td>\n",
              "    </tr>\n",
              "    <tr>\n",
              "      <th>Monetário Vendido</th>\n",
              "      <td>608.0</td>\n",
              "      <td>31592.25</td>\n",
              "      <td>27062.72</td>\n",
              "      <td>2249.26</td>\n",
              "      <td>7654.44</td>\n",
              "      <td>21175.89</td>\n",
              "      <td>48186.69</td>\n",
              "      <td>144890.73</td>\n",
              "    </tr>\n",
              "    <tr>\n",
              "      <th>RPK</th>\n",
              "      <td>608.0</td>\n",
              "      <td>113754.87</td>\n",
              "      <td>118382.80</td>\n",
              "      <td>5471.00</td>\n",
              "      <td>18211.25</td>\n",
              "      <td>62085.00</td>\n",
              "      <td>180144.50</td>\n",
              "      <td>695824.00</td>\n",
              "    </tr>\n",
              "    <tr>\n",
              "      <th>Ano</th>\n",
              "      <td>608.0</td>\n",
              "      <td>2016.60</td>\n",
              "      <td>0.49</td>\n",
              "      <td>2016.00</td>\n",
              "      <td>2016.00</td>\n",
              "      <td>2017.00</td>\n",
              "      <td>2017.00</td>\n",
              "      <td>2017.00</td>\n",
              "    </tr>\n",
              "    <tr>\n",
              "      <th>Mês</th>\n",
              "      <td>608.0</td>\n",
              "      <td>5.83</td>\n",
              "      <td>4.71</td>\n",
              "      <td>1.00</td>\n",
              "      <td>2.00</td>\n",
              "      <td>3.00</td>\n",
              "      <td>11.00</td>\n",
              "      <td>12.00</td>\n",
              "    </tr>\n",
              "    <tr>\n",
              "      <th>Dia_do_Mês</th>\n",
              "      <td>608.0</td>\n",
              "      <td>15.53</td>\n",
              "      <td>8.81</td>\n",
              "      <td>1.00</td>\n",
              "      <td>8.00</td>\n",
              "      <td>15.50</td>\n",
              "      <td>23.00</td>\n",
              "      <td>31.00</td>\n",
              "    </tr>\n",
              "    <tr>\n",
              "      <th>Dia_da_Semana_Numero</th>\n",
              "      <td>608.0</td>\n",
              "      <td>3.00</td>\n",
              "      <td>1.99</td>\n",
              "      <td>0.00</td>\n",
              "      <td>1.00</td>\n",
              "      <td>3.00</td>\n",
              "      <td>5.00</td>\n",
              "      <td>6.00</td>\n",
              "    </tr>\n",
              "  </tbody>\n",
              "</table>\n",
              "</div>"
            ],
            "text/plain": [
              "                      count       mean        std      min       25%  \\\n",
              "PAX                   608.0     780.24     804.76    39.00    121.00   \n",
              "Monetário Vendido     608.0   31592.25   27062.72  2249.26   7654.44   \n",
              "RPK                   608.0  113754.87  118382.80  5471.00  18211.25   \n",
              "Ano                   608.0    2016.60       0.49  2016.00   2016.00   \n",
              "Mês                   608.0       5.83       4.71     1.00      2.00   \n",
              "Dia_do_Mês            608.0      15.53       8.81     1.00      8.00   \n",
              "Dia_da_Semana_Numero  608.0       3.00       1.99     0.00      1.00   \n",
              "\n",
              "                           50%        75%        max  \n",
              "PAX                     461.00    1264.25    4705.00  \n",
              "Monetário Vendido     21175.89   48186.69  144890.73  \n",
              "RPK                   62085.00  180144.50  695824.00  \n",
              "Ano                    2017.00    2017.00    2017.00  \n",
              "Mês                       3.00      11.00      12.00  \n",
              "Dia_do_Mês               15.50      23.00      31.00  \n",
              "Dia_da_Semana_Numero      3.00       5.00       6.00  "
            ]
          },
          "metadata": {
            "tags": []
          },
          "execution_count": 137
        }
      ]
    },
    {
      "cell_type": "code",
      "metadata": {
        "colab": {
          "base_uri": "https://localhost:8080/",
          "height": 266
        },
        "id": "O9IjuCak71ry",
        "outputId": "8bf4c91e-0caa-47e7-f234-7edc8b1c71f4"
      },
      "source": [
        "temp_Vast.describe().T"
      ],
      "execution_count": 138,
      "outputs": [
        {
          "output_type": "execute_result",
          "data": {
            "text/html": [
              "<div>\n",
              "<style scoped>\n",
              "    .dataframe tbody tr th:only-of-type {\n",
              "        vertical-align: middle;\n",
              "    }\n",
              "\n",
              "    .dataframe tbody tr th {\n",
              "        vertical-align: top;\n",
              "    }\n",
              "\n",
              "    .dataframe thead th {\n",
              "        text-align: right;\n",
              "    }\n",
              "</style>\n",
              "<table border=\"1\" class=\"dataframe\">\n",
              "  <thead>\n",
              "    <tr style=\"text-align: right;\">\n",
              "      <th></th>\n",
              "      <th>count</th>\n",
              "      <th>mean</th>\n",
              "      <th>std</th>\n",
              "      <th>min</th>\n",
              "      <th>25%</th>\n",
              "      <th>50%</th>\n",
              "      <th>75%</th>\n",
              "      <th>max</th>\n",
              "    </tr>\n",
              "  </thead>\n",
              "  <tbody>\n",
              "    <tr>\n",
              "      <th>PAX</th>\n",
              "      <td>608.0</td>\n",
              "      <td>839.90</td>\n",
              "      <td>823.41</td>\n",
              "      <td>40.00</td>\n",
              "      <td>96.00</td>\n",
              "      <td>429.00</td>\n",
              "      <td>1330.75</td>\n",
              "      <td>4191.00</td>\n",
              "    </tr>\n",
              "    <tr>\n",
              "      <th>Monetário Vendido</th>\n",
              "      <td>608.0</td>\n",
              "      <td>24273.38</td>\n",
              "      <td>21818.45</td>\n",
              "      <td>1497.62</td>\n",
              "      <td>5267.68</td>\n",
              "      <td>18908.01</td>\n",
              "      <td>30509.54</td>\n",
              "      <td>92007.17</td>\n",
              "    </tr>\n",
              "    <tr>\n",
              "      <th>RPK</th>\n",
              "      <td>608.0</td>\n",
              "      <td>39919.86</td>\n",
              "      <td>39204.33</td>\n",
              "      <td>1932.00</td>\n",
              "      <td>4551.25</td>\n",
              "      <td>20010.00</td>\n",
              "      <td>63788.25</td>\n",
              "      <td>209750.00</td>\n",
              "    </tr>\n",
              "    <tr>\n",
              "      <th>Ano</th>\n",
              "      <td>608.0</td>\n",
              "      <td>2016.60</td>\n",
              "      <td>0.49</td>\n",
              "      <td>2016.00</td>\n",
              "      <td>2016.00</td>\n",
              "      <td>2017.00</td>\n",
              "      <td>2017.00</td>\n",
              "      <td>2017.00</td>\n",
              "    </tr>\n",
              "    <tr>\n",
              "      <th>Mês</th>\n",
              "      <td>608.0</td>\n",
              "      <td>5.83</td>\n",
              "      <td>4.71</td>\n",
              "      <td>1.00</td>\n",
              "      <td>2.00</td>\n",
              "      <td>3.00</td>\n",
              "      <td>11.00</td>\n",
              "      <td>12.00</td>\n",
              "    </tr>\n",
              "    <tr>\n",
              "      <th>Dia_do_Mês</th>\n",
              "      <td>608.0</td>\n",
              "      <td>15.53</td>\n",
              "      <td>8.81</td>\n",
              "      <td>1.00</td>\n",
              "      <td>8.00</td>\n",
              "      <td>15.50</td>\n",
              "      <td>23.00</td>\n",
              "      <td>31.00</td>\n",
              "    </tr>\n",
              "    <tr>\n",
              "      <th>Dia_da_Semana_Numero</th>\n",
              "      <td>608.0</td>\n",
              "      <td>3.00</td>\n",
              "      <td>1.99</td>\n",
              "      <td>0.00</td>\n",
              "      <td>1.00</td>\n",
              "      <td>3.00</td>\n",
              "      <td>5.00</td>\n",
              "      <td>6.00</td>\n",
              "    </tr>\n",
              "  </tbody>\n",
              "</table>\n",
              "</div>"
            ],
            "text/plain": [
              "                      count      mean       std      min      25%       50%  \\\n",
              "PAX                   608.0    839.90    823.41    40.00    96.00    429.00   \n",
              "Monetário Vendido     608.0  24273.38  21818.45  1497.62  5267.68  18908.01   \n",
              "RPK                   608.0  39919.86  39204.33  1932.00  4551.25  20010.00   \n",
              "Ano                   608.0   2016.60      0.49  2016.00  2016.00   2017.00   \n",
              "Mês                   608.0      5.83      4.71     1.00     2.00      3.00   \n",
              "Dia_do_Mês            608.0     15.53      8.81     1.00     8.00     15.50   \n",
              "Dia_da_Semana_Numero  608.0      3.00      1.99     0.00     1.00      3.00   \n",
              "\n",
              "                           75%        max  \n",
              "PAX                    1330.75    4191.00  \n",
              "Monetário Vendido     30509.54   92007.17  \n",
              "RPK                   63788.25  209750.00  \n",
              "Ano                    2017.00    2017.00  \n",
              "Mês                      11.00      12.00  \n",
              "Dia_do_Mês               23.00      31.00  \n",
              "Dia_da_Semana_Numero      5.00       6.00  "
            ]
          },
          "metadata": {
            "tags": []
          },
          "execution_count": 138
        }
      ]
    },
    {
      "cell_type": "code",
      "metadata": {
        "colab": {
          "base_uri": "https://localhost:8080/",
          "height": 266
        },
        "id": "d8F3PxIw766R",
        "outputId": "ea7cc4b7-d6c5-4396-ba08-b9da3ab3dd45"
      },
      "source": [
        "temp_Ellipsis.describe().T"
      ],
      "execution_count": 139,
      "outputs": [
        {
          "output_type": "execute_result",
          "data": {
            "text/html": [
              "<div>\n",
              "<style scoped>\n",
              "    .dataframe tbody tr th:only-of-type {\n",
              "        vertical-align: middle;\n",
              "    }\n",
              "\n",
              "    .dataframe tbody tr th {\n",
              "        vertical-align: top;\n",
              "    }\n",
              "\n",
              "    .dataframe thead th {\n",
              "        text-align: right;\n",
              "    }\n",
              "</style>\n",
              "<table border=\"1\" class=\"dataframe\">\n",
              "  <thead>\n",
              "    <tr style=\"text-align: right;\">\n",
              "      <th></th>\n",
              "      <th>count</th>\n",
              "      <th>mean</th>\n",
              "      <th>std</th>\n",
              "      <th>min</th>\n",
              "      <th>25%</th>\n",
              "      <th>50%</th>\n",
              "      <th>75%</th>\n",
              "      <th>max</th>\n",
              "    </tr>\n",
              "  </thead>\n",
              "  <tbody>\n",
              "    <tr>\n",
              "      <th>PAX</th>\n",
              "      <td>608.0</td>\n",
              "      <td>615.08</td>\n",
              "      <td>577.93</td>\n",
              "      <td>18.00</td>\n",
              "      <td>78.00</td>\n",
              "      <td>334.50</td>\n",
              "      <td>953.25</td>\n",
              "      <td>2697.00</td>\n",
              "    </tr>\n",
              "    <tr>\n",
              "      <th>Monetário Vendido</th>\n",
              "      <td>608.0</td>\n",
              "      <td>18446.39</td>\n",
              "      <td>14460.58</td>\n",
              "      <td>1126.69</td>\n",
              "      <td>4383.74</td>\n",
              "      <td>16457.54</td>\n",
              "      <td>25017.52</td>\n",
              "      <td>60758.26</td>\n",
              "    </tr>\n",
              "    <tr>\n",
              "      <th>RPK</th>\n",
              "      <td>608.0</td>\n",
              "      <td>34496.96</td>\n",
              "      <td>32220.57</td>\n",
              "      <td>1127.00</td>\n",
              "      <td>4579.00</td>\n",
              "      <td>19990.50</td>\n",
              "      <td>53505.75</td>\n",
              "      <td>152788.00</td>\n",
              "    </tr>\n",
              "    <tr>\n",
              "      <th>Ano</th>\n",
              "      <td>608.0</td>\n",
              "      <td>2016.60</td>\n",
              "      <td>0.49</td>\n",
              "      <td>2016.00</td>\n",
              "      <td>2016.00</td>\n",
              "      <td>2017.00</td>\n",
              "      <td>2017.00</td>\n",
              "      <td>2017.00</td>\n",
              "    </tr>\n",
              "    <tr>\n",
              "      <th>Mês</th>\n",
              "      <td>608.0</td>\n",
              "      <td>5.83</td>\n",
              "      <td>4.71</td>\n",
              "      <td>1.00</td>\n",
              "      <td>2.00</td>\n",
              "      <td>3.00</td>\n",
              "      <td>11.00</td>\n",
              "      <td>12.00</td>\n",
              "    </tr>\n",
              "    <tr>\n",
              "      <th>Dia_do_Mês</th>\n",
              "      <td>608.0</td>\n",
              "      <td>15.53</td>\n",
              "      <td>8.81</td>\n",
              "      <td>1.00</td>\n",
              "      <td>8.00</td>\n",
              "      <td>15.50</td>\n",
              "      <td>23.00</td>\n",
              "      <td>31.00</td>\n",
              "    </tr>\n",
              "    <tr>\n",
              "      <th>Dia_da_Semana_Numero</th>\n",
              "      <td>608.0</td>\n",
              "      <td>3.00</td>\n",
              "      <td>1.99</td>\n",
              "      <td>0.00</td>\n",
              "      <td>1.00</td>\n",
              "      <td>3.00</td>\n",
              "      <td>5.00</td>\n",
              "      <td>6.00</td>\n",
              "    </tr>\n",
              "  </tbody>\n",
              "</table>\n",
              "</div>"
            ],
            "text/plain": [
              "                      count      mean       std      min      25%       50%  \\\n",
              "PAX                   608.0    615.08    577.93    18.00    78.00    334.50   \n",
              "Monetário Vendido     608.0  18446.39  14460.58  1126.69  4383.74  16457.54   \n",
              "RPK                   608.0  34496.96  32220.57  1127.00  4579.00  19990.50   \n",
              "Ano                   608.0   2016.60      0.49  2016.00  2016.00   2017.00   \n",
              "Mês                   608.0      5.83      4.71     1.00     2.00      3.00   \n",
              "Dia_do_Mês            608.0     15.53      8.81     1.00     8.00     15.50   \n",
              "Dia_da_Semana_Numero  608.0      3.00      1.99     0.00     1.00      3.00   \n",
              "\n",
              "                           75%        max  \n",
              "PAX                     953.25    2697.00  \n",
              "Monetário Vendido     25017.52   60758.26  \n",
              "RPK                   53505.75  152788.00  \n",
              "Ano                    2017.00    2017.00  \n",
              "Mês                      11.00      12.00  \n",
              "Dia_do_Mês               23.00      31.00  \n",
              "Dia_da_Semana_Numero      5.00       6.00  "
            ]
          },
          "metadata": {
            "tags": []
          },
          "execution_count": 139
        }
      ]
    },
    {
      "cell_type": "code",
      "metadata": {
        "id": "JHu7rT3A7_Sc"
      },
      "source": [
        ""
      ],
      "execution_count": null,
      "outputs": []
    },
    {
      "cell_type": "code",
      "metadata": {
        "colab": {
          "base_uri": "https://localhost:8080/",
          "height": 281
        },
        "id": "DV2gTNhgtxuH",
        "outputId": "a628d3ac-0879-44f6-c4fd-a8c6e3a90ef3"
      },
      "source": [
        "temp_Mindscape[['PAX', 'Monetário Vendido', 'RPK']].hist();"
      ],
      "execution_count": 144,
      "outputs": [
        {
          "output_type": "display_data",
          "data": {
            "image/png": "[encoded data removed]",
            "text/plain": [
              "<Figure size 432x288 with 4 Axes>"
            ]
          },
          "metadata": {
            "tags": [],
            "needs_background": "light"
          }
        }
      ]
    },
    {
      "cell_type": "code",
      "metadata": {
        "colab": {
          "base_uri": "https://localhost:8080/"
        },
        "id": "dpyVpytrDkEB",
        "outputId": "64227e46-ebd5-4631-b6e2-3ec15642af01"
      },
      "source": [
        "type(temp_Mindscape)"
      ],
      "execution_count": 153,
      "outputs": [
        {
          "output_type": "execute_result",
          "data": {
            "text/plain": [
              "pandas.core.frame.DataFrame"
            ]
          },
          "metadata": {
            "tags": []
          },
          "execution_count": 153
        }
      ]
    },
    {
      "cell_type": "code",
      "metadata": {
        "colab": {
          "base_uri": "https://localhost:8080/",
          "height": 419
        },
        "id": "oNR9cee_D5Sj",
        "outputId": "04479ad8-7c6a-4367-dbdf-6b113eef2b25"
      },
      "source": [
        "temp_Mindscape"
      ],
      "execution_count": 149,
      "outputs": [
        {
          "output_type": "execute_result",
          "data": {
            "text/html": [
              "<div>\n",
              "<style scoped>\n",
              "    .dataframe tbody tr th:only-of-type {\n",
              "        vertical-align: middle;\n",
              "    }\n",
              "\n",
              "    .dataframe tbody tr th {\n",
              "        vertical-align: top;\n",
              "    }\n",
              "\n",
              "    .dataframe thead th {\n",
              "        text-align: right;\n",
              "    }\n",
              "</style>\n",
              "<table border=\"1\" class=\"dataframe\">\n",
              "  <thead>\n",
              "    <tr style=\"text-align: right;\">\n",
              "      <th></th>\n",
              "      <th>Data Venda</th>\n",
              "      <th>Canal de Venda</th>\n",
              "      <th>Local de Venda</th>\n",
              "      <th>PAX</th>\n",
              "      <th>Monetário Vendido</th>\n",
              "      <th>RPK</th>\n",
              "      <th>Ano</th>\n",
              "      <th>Mês</th>\n",
              "      <th>Dia_do_Mês</th>\n",
              "      <th>Dia_da_Semana_Numero</th>\n",
              "      <th>Nome_do_Dia</th>\n",
              "    </tr>\n",
              "  </thead>\n",
              "  <tbody>\n",
              "    <tr>\n",
              "      <th>0</th>\n",
              "      <td>2016-11-01</td>\n",
              "      <td>Telégrafo</td>\n",
              "      <td>Mindscape</td>\n",
              "      <td>30</td>\n",
              "      <td>2188.11</td>\n",
              "      <td>3476</td>\n",
              "      <td>2016</td>\n",
              "      <td>11</td>\n",
              "      <td>1</td>\n",
              "      <td>1</td>\n",
              "      <td>Terça</td>\n",
              "    </tr>\n",
              "    <tr>\n",
              "      <th>2</th>\n",
              "      <td>2016-11-01</td>\n",
              "      <td>TeleVenda</td>\n",
              "      <td>Mindscape</td>\n",
              "      <td>19</td>\n",
              "      <td>1041.54</td>\n",
              "      <td>2425</td>\n",
              "      <td>2016</td>\n",
              "      <td>11</td>\n",
              "      <td>1</td>\n",
              "      <td>1</td>\n",
              "      <td>Terça</td>\n",
              "    </tr>\n",
              "    <tr>\n",
              "      <th>3</th>\n",
              "      <td>2016-11-01</td>\n",
              "      <td>Porta a Porta</td>\n",
              "      <td>Mindscape</td>\n",
              "      <td>496</td>\n",
              "      <td>15566.34</td>\n",
              "      <td>53278</td>\n",
              "      <td>2016</td>\n",
              "      <td>11</td>\n",
              "      <td>1</td>\n",
              "      <td>1</td>\n",
              "      <td>Terça</td>\n",
              "    </tr>\n",
              "    <tr>\n",
              "      <th>11</th>\n",
              "      <td>2016-11-01</td>\n",
              "      <td>TeleVenda</td>\n",
              "      <td>Mindscape</td>\n",
              "      <td>425</td>\n",
              "      <td>12875.54</td>\n",
              "      <td>48274</td>\n",
              "      <td>2016</td>\n",
              "      <td>11</td>\n",
              "      <td>1</td>\n",
              "      <td>1</td>\n",
              "      <td>Terça</td>\n",
              "    </tr>\n",
              "    <tr>\n",
              "      <th>18</th>\n",
              "      <td>2016-11-02</td>\n",
              "      <td>TeleVenda</td>\n",
              "      <td>Mindscape</td>\n",
              "      <td>1029</td>\n",
              "      <td>39705.82</td>\n",
              "      <td>122484</td>\n",
              "      <td>2016</td>\n",
              "      <td>11</td>\n",
              "      <td>2</td>\n",
              "      <td>2</td>\n",
              "      <td>Quarta</td>\n",
              "    </tr>\n",
              "    <tr>\n",
              "      <th>...</th>\n",
              "      <td>...</td>\n",
              "      <td>...</td>\n",
              "      <td>...</td>\n",
              "      <td>...</td>\n",
              "      <td>...</td>\n",
              "      <td>...</td>\n",
              "      <td>...</td>\n",
              "      <td>...</td>\n",
              "      <td>...</td>\n",
              "      <td>...</td>\n",
              "      <td>...</td>\n",
              "    </tr>\n",
              "    <tr>\n",
              "      <th>2412</th>\n",
              "      <td>2017-03-31</td>\n",
              "      <td>Telégrafo</td>\n",
              "      <td>Mindscape</td>\n",
              "      <td>78</td>\n",
              "      <td>4631.52</td>\n",
              "      <td>10472</td>\n",
              "      <td>2017</td>\n",
              "      <td>3</td>\n",
              "      <td>31</td>\n",
              "      <td>4</td>\n",
              "      <td>Sexta</td>\n",
              "    </tr>\n",
              "    <tr>\n",
              "      <th>2418</th>\n",
              "      <td>2017-04-01</td>\n",
              "      <td>TeleVenda</td>\n",
              "      <td>Mindscape</td>\n",
              "      <td>104</td>\n",
              "      <td>6125.41</td>\n",
              "      <td>12725</td>\n",
              "      <td>2017</td>\n",
              "      <td>4</td>\n",
              "      <td>1</td>\n",
              "      <td>5</td>\n",
              "      <td>Sabado</td>\n",
              "    </tr>\n",
              "    <tr>\n",
              "      <th>2423</th>\n",
              "      <td>2017-04-01</td>\n",
              "      <td>TeleVenda</td>\n",
              "      <td>Mindscape</td>\n",
              "      <td>1527</td>\n",
              "      <td>64818.93</td>\n",
              "      <td>184869</td>\n",
              "      <td>2017</td>\n",
              "      <td>4</td>\n",
              "      <td>1</td>\n",
              "      <td>5</td>\n",
              "      <td>Sabado</td>\n",
              "    </tr>\n",
              "    <tr>\n",
              "      <th>2424</th>\n",
              "      <td>2017-04-01</td>\n",
              "      <td>Porta a Porta</td>\n",
              "      <td>Mindscape</td>\n",
              "      <td>950</td>\n",
              "      <td>36356.82</td>\n",
              "      <td>110375</td>\n",
              "      <td>2017</td>\n",
              "      <td>4</td>\n",
              "      <td>1</td>\n",
              "      <td>5</td>\n",
              "      <td>Sabado</td>\n",
              "    </tr>\n",
              "    <tr>\n",
              "      <th>2425</th>\n",
              "      <td>2017-04-01</td>\n",
              "      <td>Telégrafo</td>\n",
              "      <td>Mindscape</td>\n",
              "      <td>67</td>\n",
              "      <td>4005.79</td>\n",
              "      <td>8001</td>\n",
              "      <td>2017</td>\n",
              "      <td>4</td>\n",
              "      <td>1</td>\n",
              "      <td>5</td>\n",
              "      <td>Sabado</td>\n",
              "    </tr>\n",
              "  </tbody>\n",
              "</table>\n",
              "<p>608 rows × 11 columns</p>\n",
              "</div>"
            ],
            "text/plain": [
              "     Data Venda Canal de Venda Local de Venda   PAX  Monetário Vendido  \\\n",
              "0    2016-11-01      Telégrafo      Mindscape    30            2188.11   \n",
              "2    2016-11-01      TeleVenda      Mindscape    19            1041.54   \n",
              "3    2016-11-01  Porta a Porta      Mindscape   496           15566.34   \n",
              "11   2016-11-01      TeleVenda      Mindscape   425           12875.54   \n",
              "18   2016-11-02      TeleVenda      Mindscape  1029           39705.82   \n",
              "...         ...            ...            ...   ...                ...   \n",
              "2412 2017-03-31      Telégrafo      Mindscape    78            4631.52   \n",
              "2418 2017-04-01      TeleVenda      Mindscape   104            6125.41   \n",
              "2423 2017-04-01      TeleVenda      Mindscape  1527           64818.93   \n",
              "2424 2017-04-01  Porta a Porta      Mindscape   950           36356.82   \n",
              "2425 2017-04-01      Telégrafo      Mindscape    67            4005.79   \n",
              "\n",
              "         RPK   Ano  Mês  Dia_do_Mês  Dia_da_Semana_Numero Nome_do_Dia  \n",
              "0       3476  2016   11           1                     1       Terça  \n",
              "2       2425  2016   11           1                     1       Terça  \n",
              "3      53278  2016   11           1                     1       Terça  \n",
              "11     48274  2016   11           1                     1       Terça  \n",
              "18    122484  2016   11           2                     2      Quarta  \n",
              "...      ...   ...  ...         ...                   ...         ...  \n",
              "2412   10472  2017    3          31                     4       Sexta  \n",
              "2418   12725  2017    4           1                     5      Sabado  \n",
              "2423  184869  2017    4           1                     5      Sabado  \n",
              "2424  110375  2017    4           1                     5      Sabado  \n",
              "2425    8001  2017    4           1                     5      Sabado  \n",
              "\n",
              "[608 rows x 11 columns]"
            ]
          },
          "metadata": {
            "tags": []
          },
          "execution_count": 149
        }
      ]
    },
    {
      "cell_type": "code",
      "metadata": {
        "colab": {
          "base_uri": "https://localhost:8080/",
          "height": 308
        },
        "id": "_NMFseU4ABds",
        "outputId": "e442d91e-e570-4a72-941f-170fa3477b71"
      },
      "source": [
        "temp_Arena[['PAX', 'Monetário Vendido', 'RPK']].hist();"
      ],
      "execution_count": 161,
      "outputs": [
        {
          "output_type": "error",
          "ename": "KeyError",
          "evalue": "ignored",
          "traceback": [
            "\u001b[0;31m---------------------------------------------------------------------------\u001b[0m",
            "\u001b[0;31mKeyError\u001b[0m                                  Traceback (most recent call last)",
            "\u001b[0;32m<ipython-input-161-85b6741bdbd8>\u001b[0m in \u001b[0;36m<module>\u001b[0;34m()\u001b[0m\n\u001b[0;32m----> 1\u001b[0;31m \u001b[0mtemp_Arena\u001b[0m\u001b[0;34m[\u001b[0m\u001b[0;34m[\u001b[0m\u001b[0;34m'PAX'\u001b[0m\u001b[0;34m,\u001b[0m \u001b[0;34m'Monetário Vendido'\u001b[0m\u001b[0;34m,\u001b[0m \u001b[0;34m'RPK'\u001b[0m\u001b[0;34m]\u001b[0m\u001b[0;34m]\u001b[0m\u001b[0;34m.\u001b[0m\u001b[0mhist\u001b[0m\u001b[0;34m(\u001b[0m\u001b[0;34m)\u001b[0m\u001b[0;34m;\u001b[0m\u001b[0;34m\u001b[0m\u001b[0;34m\u001b[0m\u001b[0m\n\u001b[0m",
            "\u001b[0;32m/usr/local/lib/python3.6/dist-packages/pandas/core/frame.py\u001b[0m in \u001b[0;36m__getitem__\u001b[0;34m(self, key)\u001b[0m\n\u001b[1;32m   2910\u001b[0m             \u001b[0;32mif\u001b[0m \u001b[0mis_iterator\u001b[0m\u001b[0;34m(\u001b[0m\u001b[0mkey\u001b[0m\u001b[0;34m)\u001b[0m\u001b[0;34m:\u001b[0m\u001b[0;34m\u001b[0m\u001b[0;34m\u001b[0m\u001b[0m\n\u001b[1;32m   2911\u001b[0m                 \u001b[0mkey\u001b[0m \u001b[0;34m=\u001b[0m \u001b[0mlist\u001b[0m\u001b[0;34m(\u001b[0m\u001b[0mkey\u001b[0m\u001b[0;34m)\u001b[0m\u001b[0;34m\u001b[0m\u001b[0;34m\u001b[0m\u001b[0m\n\u001b[0;32m-> 2912\u001b[0;31m             \u001b[0mindexer\u001b[0m \u001b[0;34m=\u001b[0m \u001b[0mself\u001b[0m\u001b[0;34m.\u001b[0m\u001b[0mloc\u001b[0m\u001b[0;34m.\u001b[0m\u001b[0m_get_listlike_indexer\u001b[0m\u001b[0;34m(\u001b[0m\u001b[0mkey\u001b[0m\u001b[0;34m,\u001b[0m \u001b[0maxis\u001b[0m\u001b[0;34m=\u001b[0m\u001b[0;36m1\u001b[0m\u001b[0;34m,\u001b[0m \u001b[0mraise_missing\u001b[0m\u001b[0;34m=\u001b[0m\u001b[0;32mTrue\u001b[0m\u001b[0;34m)\u001b[0m\u001b[0;34m[\u001b[0m\u001b[0;36m1\u001b[0m\u001b[0;34m]\u001b[0m\u001b[0;34m\u001b[0m\u001b[0;34m\u001b[0m\u001b[0m\n\u001b[0m\u001b[1;32m   2913\u001b[0m \u001b[0;34m\u001b[0m\u001b[0m\n\u001b[1;32m   2914\u001b[0m         \u001b[0;31m# take() does not accept boolean indexers\u001b[0m\u001b[0;34m\u001b[0m\u001b[0;34m\u001b[0m\u001b[0;34m\u001b[0m\u001b[0m\n",
            "\u001b[0;32m/usr/local/lib/python3.6/dist-packages/pandas/core/indexing.py\u001b[0m in \u001b[0;36m_get_listlike_indexer\u001b[0;34m(self, key, axis, raise_missing)\u001b[0m\n\u001b[1;32m   1252\u001b[0m             \u001b[0mkeyarr\u001b[0m\u001b[0;34m,\u001b[0m \u001b[0mindexer\u001b[0m\u001b[0;34m,\u001b[0m \u001b[0mnew_indexer\u001b[0m \u001b[0;34m=\u001b[0m \u001b[0max\u001b[0m\u001b[0;34m.\u001b[0m\u001b[0m_reindex_non_unique\u001b[0m\u001b[0;34m(\u001b[0m\u001b[0mkeyarr\u001b[0m\u001b[0;34m)\u001b[0m\u001b[0;34m\u001b[0m\u001b[0;34m\u001b[0m\u001b[0m\n\u001b[1;32m   1253\u001b[0m \u001b[0;34m\u001b[0m\u001b[0m\n\u001b[0;32m-> 1254\u001b[0;31m         \u001b[0mself\u001b[0m\u001b[0;34m.\u001b[0m\u001b[0m_validate_read_indexer\u001b[0m\u001b[0;34m(\u001b[0m\u001b[0mkeyarr\u001b[0m\u001b[0;34m,\u001b[0m \u001b[0mindexer\u001b[0m\u001b[0;34m,\u001b[0m \u001b[0maxis\u001b[0m\u001b[0;34m,\u001b[0m \u001b[0mraise_missing\u001b[0m\u001b[0;34m=\u001b[0m\u001b[0mraise_missing\u001b[0m\u001b[0;34m)\u001b[0m\u001b[0;34m\u001b[0m\u001b[0;34m\u001b[0m\u001b[0m\n\u001b[0m\u001b[1;32m   1255\u001b[0m         \u001b[0;32mreturn\u001b[0m \u001b[0mkeyarr\u001b[0m\u001b[0;34m,\u001b[0m \u001b[0mindexer\u001b[0m\u001b[0;34m\u001b[0m\u001b[0;34m\u001b[0m\u001b[0m\n\u001b[1;32m   1256\u001b[0m \u001b[0;34m\u001b[0m\u001b[0m\n",
            "\u001b[0;32m/usr/local/lib/python3.6/dist-packages/pandas/core/indexing.py\u001b[0m in \u001b[0;36m_validate_read_indexer\u001b[0;34m(self, key, indexer, axis, raise_missing)\u001b[0m\n\u001b[1;32m   1302\u001b[0m             \u001b[0;32mif\u001b[0m \u001b[0mraise_missing\u001b[0m\u001b[0;34m:\u001b[0m\u001b[0;34m\u001b[0m\u001b[0;34m\u001b[0m\u001b[0m\n\u001b[1;32m   1303\u001b[0m                 \u001b[0mnot_found\u001b[0m \u001b[0;34m=\u001b[0m \u001b[0mlist\u001b[0m\u001b[0;34m(\u001b[0m\u001b[0mset\u001b[0m\u001b[0;34m(\u001b[0m\u001b[0mkey\u001b[0m\u001b[0;34m)\u001b[0m \u001b[0;34m-\u001b[0m \u001b[0mset\u001b[0m\u001b[0;34m(\u001b[0m\u001b[0max\u001b[0m\u001b[0;34m)\u001b[0m\u001b[0;34m)\u001b[0m\u001b[0;34m\u001b[0m\u001b[0;34m\u001b[0m\u001b[0m\n\u001b[0;32m-> 1304\u001b[0;31m                 \u001b[0;32mraise\u001b[0m \u001b[0mKeyError\u001b[0m\u001b[0;34m(\u001b[0m\u001b[0;34mf\"{not_found} not in index\"\u001b[0m\u001b[0;34m)\u001b[0m\u001b[0;34m\u001b[0m\u001b[0;34m\u001b[0m\u001b[0m\n\u001b[0m\u001b[1;32m   1305\u001b[0m \u001b[0;34m\u001b[0m\u001b[0m\n\u001b[1;32m   1306\u001b[0m             \u001b[0;31m# we skip the warning on Categorical\u001b[0m\u001b[0;34m\u001b[0m\u001b[0;34m\u001b[0m\u001b[0;34m\u001b[0m\u001b[0m\n",
            "\u001b[0;31mKeyError\u001b[0m: \"['Monetário Vendido', 'RPK'] not in index\""
          ]
        }
      ]
    },
    {
      "cell_type": "code",
      "metadata": {
        "colab": {
          "base_uri": "https://localhost:8080/",
          "height": 308
        },
        "id": "IUkzWoL0SjVr",
        "outputId": "f0d9e091-f9d0-4bba-be51-99fb5d4a43c9"
      },
      "source": [
        "Arena_pax=temp_Arena[['PAX','Data Venda']]\r\n",
        "(Arena_pax.set_index(['Data Venda'])).plot();\r\n",
        "plt.title(\"Arena\\nPAX x Data Venda\")\r\n",
        "plt.xlabel(\"Data Venda\"), plt.ylabel(\"PAX\"), plt.grid(b=True);"
      ],
      "execution_count": 173,
      "outputs": [
        {
          "output_type": "display_data",
          "data": {
            "image/png": "[encoded data removed]",
            "text/plain": [
              "<Figure size 432x288 with 1 Axes>"
            ]
          },
          "metadata": {
            "tags": [],
            "needs_background": "light"
          }
        }
      ]
    },
    {
      "cell_type": "code",
      "metadata": {
        "colab": {
          "base_uri": "https://localhost:8080/",
          "height": 419
        },
        "id": "NvCOe9uhVpt0",
        "outputId": "f029a420-20d6-4534-cef2-e3f23ac25821"
      },
      "source": [
        "temp_Arena"
      ],
      "execution_count": 174,
      "outputs": [
        {
          "output_type": "execute_result",
          "data": {
            "text/html": [
              "<div>\n",
              "<style scoped>\n",
              "    .dataframe tbody tr th:only-of-type {\n",
              "        vertical-align: middle;\n",
              "    }\n",
              "\n",
              "    .dataframe tbody tr th {\n",
              "        vertical-align: top;\n",
              "    }\n",
              "\n",
              "    .dataframe thead th {\n",
              "        text-align: right;\n",
              "    }\n",
              "</style>\n",
              "<table border=\"1\" class=\"dataframe\">\n",
              "  <thead>\n",
              "    <tr style=\"text-align: right;\">\n",
              "      <th></th>\n",
              "      <th>PAX</th>\n",
              "      <th>Data Venda</th>\n",
              "    </tr>\n",
              "  </thead>\n",
              "  <tbody>\n",
              "    <tr>\n",
              "      <th>1</th>\n",
              "      <td>52</td>\n",
              "      <td>2016-11-01</td>\n",
              "    </tr>\n",
              "    <tr>\n",
              "      <th>5</th>\n",
              "      <td>485</td>\n",
              "      <td>2016-11-01</td>\n",
              "    </tr>\n",
              "    <tr>\n",
              "      <th>7</th>\n",
              "      <td>39</td>\n",
              "      <td>2016-11-01</td>\n",
              "    </tr>\n",
              "    <tr>\n",
              "      <th>15</th>\n",
              "      <td>437</td>\n",
              "      <td>2016-11-01</td>\n",
              "    </tr>\n",
              "    <tr>\n",
              "      <th>17</th>\n",
              "      <td>900</td>\n",
              "      <td>2016-11-02</td>\n",
              "    </tr>\n",
              "    <tr>\n",
              "      <th>...</th>\n",
              "      <td>...</td>\n",
              "      <td>...</td>\n",
              "    </tr>\n",
              "    <tr>\n",
              "      <th>2409</th>\n",
              "      <td>1006</td>\n",
              "      <td>2017-03-31</td>\n",
              "    </tr>\n",
              "    <tr>\n",
              "      <th>2419</th>\n",
              "      <td>1026</td>\n",
              "      <td>2017-04-01</td>\n",
              "    </tr>\n",
              "    <tr>\n",
              "      <th>2426</th>\n",
              "      <td>1786</td>\n",
              "      <td>2017-04-01</td>\n",
              "    </tr>\n",
              "    <tr>\n",
              "      <th>2429</th>\n",
              "      <td>175</td>\n",
              "      <td>2017-04-01</td>\n",
              "    </tr>\n",
              "    <tr>\n",
              "      <th>2430</th>\n",
              "      <td>105</td>\n",
              "      <td>2017-04-01</td>\n",
              "    </tr>\n",
              "  </tbody>\n",
              "</table>\n",
              "<p>608 rows × 2 columns</p>\n",
              "</div>"
            ],
            "text/plain": [
              "       PAX Data Venda\n",
              "1       52 2016-11-01\n",
              "5      485 2016-11-01\n",
              "7       39 2016-11-01\n",
              "15     437 2016-11-01\n",
              "17     900 2016-11-02\n",
              "...    ...        ...\n",
              "2409  1006 2017-03-31\n",
              "2419  1026 2017-04-01\n",
              "2426  1786 2017-04-01\n",
              "2429   175 2017-04-01\n",
              "2430   105 2017-04-01\n",
              "\n",
              "[608 rows x 2 columns]"
            ]
          },
          "metadata": {
            "tags": []
          },
          "execution_count": 174
        }
      ]
    },
    {
      "cell_type": "code",
      "metadata": {
        "colab": {
          "base_uri": "https://localhost:8080/",
          "height": 359
        },
        "id": "xJk9-hOFVSTs",
        "outputId": "87a1bf8a-c417-403a-9fb3-238e1094bcc2"
      },
      "source": [
        "temp_Arena=temp_Arena[['Monetário Vendido','Data Venda']]\r\n",
        "(temp_Arena.set_index(['Data Venda'])).plot();\r\n",
        "plt.title(\"Arena\\nMonetário Vendido x Data Venda\")\r\n",
        "plt.xlabel(\"Data Venda\"), plt.ylabel(\"Monetário Vendido\"), plt.grid(b=True);"
      ],
      "execution_count": 171,
      "outputs": [
        {
          "output_type": "error",
          "ename": "KeyError",
          "evalue": "ignored",
          "traceback": [
            "\u001b[0;31m---------------------------------------------------------------------------\u001b[0m",
            "\u001b[0;31mKeyError\u001b[0m                                  Traceback (most recent call last)",
            "\u001b[0;32m<ipython-input-171-e42ea4bac0f9>\u001b[0m in \u001b[0;36m<module>\u001b[0;34m()\u001b[0m\n\u001b[0;32m----> 1\u001b[0;31m \u001b[0mtemp_Arena\u001b[0m\u001b[0;34m=\u001b[0m\u001b[0mtemp_Arena\u001b[0m\u001b[0;34m[\u001b[0m\u001b[0;34m[\u001b[0m\u001b[0;34m'Monetário Vendido'\u001b[0m\u001b[0;34m,\u001b[0m\u001b[0;34m'Data Venda'\u001b[0m\u001b[0;34m]\u001b[0m\u001b[0;34m]\u001b[0m\u001b[0;34m\u001b[0m\u001b[0;34m\u001b[0m\u001b[0m\n\u001b[0m\u001b[1;32m      2\u001b[0m \u001b[0;34m(\u001b[0m\u001b[0mtemp_Arena\u001b[0m\u001b[0;34m.\u001b[0m\u001b[0mset_index\u001b[0m\u001b[0;34m(\u001b[0m\u001b[0;34m[\u001b[0m\u001b[0;34m'Data Venda'\u001b[0m\u001b[0;34m]\u001b[0m\u001b[0;34m)\u001b[0m\u001b[0;34m)\u001b[0m\u001b[0;34m.\u001b[0m\u001b[0mplot\u001b[0m\u001b[0;34m(\u001b[0m\u001b[0;34m)\u001b[0m\u001b[0;34m;\u001b[0m\u001b[0;34m\u001b[0m\u001b[0;34m\u001b[0m\u001b[0m\n\u001b[1;32m      3\u001b[0m \u001b[0mplt\u001b[0m\u001b[0;34m.\u001b[0m\u001b[0mtitle\u001b[0m\u001b[0;34m(\u001b[0m\u001b[0;34m\"Arena\\nMonetário Vendido x Data Venda\"\u001b[0m\u001b[0;34m)\u001b[0m\u001b[0;34m\u001b[0m\u001b[0;34m\u001b[0m\u001b[0m\n\u001b[1;32m      4\u001b[0m \u001b[0mplt\u001b[0m\u001b[0;34m.\u001b[0m\u001b[0mxlabel\u001b[0m\u001b[0;34m(\u001b[0m\u001b[0;34m\"Data Venda\"\u001b[0m\u001b[0;34m)\u001b[0m\u001b[0;34m,\u001b[0m \u001b[0mplt\u001b[0m\u001b[0;34m.\u001b[0m\u001b[0mylabel\u001b[0m\u001b[0;34m(\u001b[0m\u001b[0;34m\"Monetário Vendido\"\u001b[0m\u001b[0;34m)\u001b[0m\u001b[0;34m,\u001b[0m \u001b[0mplt\u001b[0m\u001b[0;34m.\u001b[0m\u001b[0mgrid\u001b[0m\u001b[0;34m(\u001b[0m\u001b[0mb\u001b[0m\u001b[0;34m=\u001b[0m\u001b[0;32mTrue\u001b[0m\u001b[0;34m)\u001b[0m\u001b[0;34m;\u001b[0m\u001b[0;34m\u001b[0m\u001b[0;34m\u001b[0m\u001b[0m\n",
            "\u001b[0;32m/usr/local/lib/python3.6/dist-packages/pandas/core/frame.py\u001b[0m in \u001b[0;36m__getitem__\u001b[0;34m(self, key)\u001b[0m\n\u001b[1;32m   2910\u001b[0m             \u001b[0;32mif\u001b[0m \u001b[0mis_iterator\u001b[0m\u001b[0;34m(\u001b[0m\u001b[0mkey\u001b[0m\u001b[0;34m)\u001b[0m\u001b[0;34m:\u001b[0m\u001b[0;34m\u001b[0m\u001b[0;34m\u001b[0m\u001b[0m\n\u001b[1;32m   2911\u001b[0m                 \u001b[0mkey\u001b[0m \u001b[0;34m=\u001b[0m \u001b[0mlist\u001b[0m\u001b[0;34m(\u001b[0m\u001b[0mkey\u001b[0m\u001b[0;34m)\u001b[0m\u001b[0;34m\u001b[0m\u001b[0;34m\u001b[0m\u001b[0m\n\u001b[0;32m-> 2912\u001b[0;31m             \u001b[0mindexer\u001b[0m \u001b[0;34m=\u001b[0m \u001b[0mself\u001b[0m\u001b[0;34m.\u001b[0m\u001b[0mloc\u001b[0m\u001b[0;34m.\u001b[0m\u001b[0m_get_listlike_indexer\u001b[0m\u001b[0;34m(\u001b[0m\u001b[0mkey\u001b[0m\u001b[0;34m,\u001b[0m \u001b[0maxis\u001b[0m\u001b[0;34m=\u001b[0m\u001b[0;36m1\u001b[0m\u001b[0;34m,\u001b[0m \u001b[0mraise_missing\u001b[0m\u001b[0;34m=\u001b[0m\u001b[0;32mTrue\u001b[0m\u001b[0;34m)\u001b[0m\u001b[0;34m[\u001b[0m\u001b[0;36m1\u001b[0m\u001b[0;34m]\u001b[0m\u001b[0;34m\u001b[0m\u001b[0;34m\u001b[0m\u001b[0m\n\u001b[0m\u001b[1;32m   2913\u001b[0m \u001b[0;34m\u001b[0m\u001b[0m\n\u001b[1;32m   2914\u001b[0m         \u001b[0;31m# take() does not accept boolean indexers\u001b[0m\u001b[0;34m\u001b[0m\u001b[0;34m\u001b[0m\u001b[0;34m\u001b[0m\u001b[0m\n",
            "\u001b[0;32m/usr/local/lib/python3.6/dist-packages/pandas/core/indexing.py\u001b[0m in \u001b[0;36m_get_listlike_indexer\u001b[0;34m(self, key, axis, raise_missing)\u001b[0m\n\u001b[1;32m   1252\u001b[0m             \u001b[0mkeyarr\u001b[0m\u001b[0;34m,\u001b[0m \u001b[0mindexer\u001b[0m\u001b[0;34m,\u001b[0m \u001b[0mnew_indexer\u001b[0m \u001b[0;34m=\u001b[0m \u001b[0max\u001b[0m\u001b[0;34m.\u001b[0m\u001b[0m_reindex_non_unique\u001b[0m\u001b[0;34m(\u001b[0m\u001b[0mkeyarr\u001b[0m\u001b[0;34m)\u001b[0m\u001b[0;34m\u001b[0m\u001b[0;34m\u001b[0m\u001b[0m\n\u001b[1;32m   1253\u001b[0m \u001b[0;34m\u001b[0m\u001b[0m\n\u001b[0;32m-> 1254\u001b[0;31m         \u001b[0mself\u001b[0m\u001b[0;34m.\u001b[0m\u001b[0m_validate_read_indexer\u001b[0m\u001b[0;34m(\u001b[0m\u001b[0mkeyarr\u001b[0m\u001b[0;34m,\u001b[0m \u001b[0mindexer\u001b[0m\u001b[0;34m,\u001b[0m \u001b[0maxis\u001b[0m\u001b[0;34m,\u001b[0m \u001b[0mraise_missing\u001b[0m\u001b[0;34m=\u001b[0m\u001b[0mraise_missing\u001b[0m\u001b[0;34m)\u001b[0m\u001b[0;34m\u001b[0m\u001b[0;34m\u001b[0m\u001b[0m\n\u001b[0m\u001b[1;32m   1255\u001b[0m         \u001b[0;32mreturn\u001b[0m \u001b[0mkeyarr\u001b[0m\u001b[0;34m,\u001b[0m \u001b[0mindexer\u001b[0m\u001b[0;34m\u001b[0m\u001b[0;34m\u001b[0m\u001b[0m\n\u001b[1;32m   1256\u001b[0m \u001b[0;34m\u001b[0m\u001b[0m\n",
            "\u001b[0;32m/usr/local/lib/python3.6/dist-packages/pandas/core/indexing.py\u001b[0m in \u001b[0;36m_validate_read_indexer\u001b[0;34m(self, key, indexer, axis, raise_missing)\u001b[0m\n\u001b[1;32m   1302\u001b[0m             \u001b[0;32mif\u001b[0m \u001b[0mraise_missing\u001b[0m\u001b[0;34m:\u001b[0m\u001b[0;34m\u001b[0m\u001b[0;34m\u001b[0m\u001b[0m\n\u001b[1;32m   1303\u001b[0m                 \u001b[0mnot_found\u001b[0m \u001b[0;34m=\u001b[0m \u001b[0mlist\u001b[0m\u001b[0;34m(\u001b[0m\u001b[0mset\u001b[0m\u001b[0;34m(\u001b[0m\u001b[0mkey\u001b[0m\u001b[0;34m)\u001b[0m \u001b[0;34m-\u001b[0m \u001b[0mset\u001b[0m\u001b[0;34m(\u001b[0m\u001b[0max\u001b[0m\u001b[0;34m)\u001b[0m\u001b[0;34m)\u001b[0m\u001b[0;34m\u001b[0m\u001b[0;34m\u001b[0m\u001b[0m\n\u001b[0;32m-> 1304\u001b[0;31m                 \u001b[0;32mraise\u001b[0m \u001b[0mKeyError\u001b[0m\u001b[0;34m(\u001b[0m\u001b[0;34mf\"{not_found} not in index\"\u001b[0m\u001b[0;34m)\u001b[0m\u001b[0;34m\u001b[0m\u001b[0;34m\u001b[0m\u001b[0m\n\u001b[0m\u001b[1;32m   1305\u001b[0m \u001b[0;34m\u001b[0m\u001b[0m\n\u001b[1;32m   1306\u001b[0m             \u001b[0;31m# we skip the warning on Categorical\u001b[0m\u001b[0;34m\u001b[0m\u001b[0;34m\u001b[0m\u001b[0;34m\u001b[0m\u001b[0m\n",
            "\u001b[0;31mKeyError\u001b[0m: \"['Monetário Vendido'] not in index\""
          ]
        }
      ]
    },
    {
      "cell_type": "code",
      "metadata": {
        "colab": {
          "base_uri": "https://localhost:8080/",
          "height": 281
        },
        "id": "SOHEGp2F_z3u",
        "outputId": "3ca51a06-5713-42c7-b3e1-c66461eff631"
      },
      "source": [
        "temp_Vast[['PAX', 'Monetário Vendido', 'RPK']].hist();"
      ],
      "execution_count": 146,
      "outputs": [
        {
          "output_type": "display_data",
          "data": {
            "image/png": "[encoded data removed]",
            "text/plain": [
              "<Figure size 432x288 with 4 Axes>"
            ]
          },
          "metadata": {
            "tags": [],
            "needs_background": "light"
          }
        }
      ]
    },
    {
      "cell_type": "code",
      "metadata": {
        "colab": {
          "base_uri": "https://localhost:8080/",
          "height": 281
        },
        "id": "VajQDlGHDCkA",
        "outputId": "dfcfdca3-d458-4d14-b322-db7cc2e21ad5"
      },
      "source": [
        "temp_Ellipsis[['PAX', 'Monetário Vendido', 'RPK']].hist();"
      ],
      "execution_count": 147,
      "outputs": [
        {
          "output_type": "display_data",
          "data": {
            "image/png": "[encoded data removed]",
            "text/plain": [
              "<Figure size 432x288 with 4 Axes>"
            ]
          },
          "metadata": {
            "tags": [],
            "needs_background": "light"
          }
        }
      ]
    },
    {
      "cell_type": "code",
      "metadata": {
        "colab": {
          "base_uri": "https://localhost:8080/",
          "height": 303
        },
        "id": "OTxzWVVf0uwr",
        "outputId": "e43306dd-2ff2-4a37-a0b9-e6b602b5b3ee"
      },
      "source": [
        "(vast.set_index(['Data Venda'])).plot();"
      ],
      "execution_count": 132,
      "outputs": [
        {
          "output_type": "display_data",
          "data": {
            "image/png": "[encoded data removed]",
            "text/plain": [
              "<Figure size 432x288 with 1 Axes>"
            ]
          },
          "metadata": {
            "tags": [],
            "needs_background": "light"
          }
        }
      ]
    },
    {
      "cell_type": "code",
      "metadata": {
        "colab": {
          "base_uri": "https://localhost:8080/",
          "height": 315
        },
        "id": "xanMjmh_uK89",
        "outputId": "e9e1cf7d-6812-464a-8e88-edb8e602394c"
      },
      "source": [
        "arena.hist()"
      ],
      "execution_count": 104,
      "outputs": [
        {
          "output_type": "execute_result",
          "data": {
            "text/plain": [
              "array([[<matplotlib.axes._subplots.AxesSubplot object at 0x7f0ec6f7d5f8>]],\n",
              "      dtype=object)"
            ]
          },
          "metadata": {
            "tags": []
          },
          "execution_count": 104
        },
        {
          "output_type": "display_data",
          "data": {
            "image/png": "[encoded data removed]",
            "text/plain": [
              "<Figure size 432x288 with 1 Axes>"
            ]
          },
          "metadata": {
            "tags": [],
            "needs_background": "light"
          }
        }
      ]
    },
    {
      "cell_type": "code",
      "metadata": {
        "colab": {
          "base_uri": "https://localhost:8080/",
          "height": 303
        },
        "id": "B0HraPgx2kiY",
        "outputId": "eb4fadba-4762-48cc-d95c-65a51b412caa"
      },
      "source": [
        "(arena.set_index(['Data Venda'])).plot();"
      ],
      "execution_count": 133,
      "outputs": [
        {
          "output_type": "display_data",
          "data": {
            "image/png": "[encoded data removed]",
            "text/plain": [
              "<Figure size 432x288 with 1 Axes>"
            ]
          },
          "metadata": {
            "tags": [],
            "needs_background": "light"
          }
        }
      ]
    },
    {
      "cell_type": "code",
      "metadata": {
        "colab": {
          "base_uri": "https://localhost:8080/",
          "height": 315
        },
        "id": "BNLXsN8_ubp5",
        "outputId": "5a451553-d674-4ed3-eaa4-edae0eae7c20"
      },
      "source": [
        "mindscape.hist()"
      ],
      "execution_count": 105,
      "outputs": [
        {
          "output_type": "execute_result",
          "data": {
            "text/plain": [
              "array([[<matplotlib.axes._subplots.AxesSubplot object at 0x7f0ec6f61240>]],\n",
              "      dtype=object)"
            ]
          },
          "metadata": {
            "tags": []
          },
          "execution_count": 105
        },
        {
          "output_type": "display_data",
          "data": {
            "image/png": "[encoded data removed]",
            "text/plain": [
              "<Figure size 432x288 with 1 Axes>"
            ]
          },
          "metadata": {
            "tags": [],
            "needs_background": "light"
          }
        }
      ]
    },
    {
      "cell_type": "code",
      "metadata": {
        "colab": {
          "base_uri": "https://localhost:8080/",
          "height": 303
        },
        "id": "IFHrS4Yr2rET",
        "outputId": "a141ec31-c314-4ed8-cbd9-0fa01db06193"
      },
      "source": [
        "(mindscape.set_index(['Data Venda'])).plot();"
      ],
      "execution_count": 134,
      "outputs": [
        {
          "output_type": "display_data",
          "data": {
            "image/png": "[encoded data removed]",
            "text/plain": [
              "<Figure size 432x288 with 1 Axes>"
            ]
          },
          "metadata": {
            "tags": [],
            "needs_background": "light"
          }
        }
      ]
    },
    {
      "cell_type": "code",
      "metadata": {
        "colab": {
          "base_uri": "https://localhost:8080/",
          "height": 315
        },
        "id": "SyQgAFkQuifF",
        "outputId": "6f2cc6a9-7292-412c-94ba-bc328c2b56f0"
      },
      "source": [
        "ellipsis.hist()"
      ],
      "execution_count": 106,
      "outputs": [
        {
          "output_type": "execute_result",
          "data": {
            "text/plain": [
              "array([[<matplotlib.axes._subplots.AxesSubplot object at 0x7f0ec6fe5d68>]],\n",
              "      dtype=object)"
            ]
          },
          "metadata": {
            "tags": []
          },
          "execution_count": 106
        },
        {
          "output_type": "display_data",
          "data": {
            "image/png": "[encoded data removed]",
            "text/plain": [
              "<Figure size 432x288 with 1 Axes>"
            ]
          },
          "metadata": {
            "tags": [],
            "needs_background": "light"
          }
        }
      ]
    },
    {
      "cell_type": "code",
      "metadata": {
        "colab": {
          "base_uri": "https://localhost:8080/",
          "height": 303
        },
        "id": "Sndw6Uq920XW",
        "outputId": "a17b5ee9-0759-4c18-ff24-23b572dff9bf"
      },
      "source": [
        "(ellipsis.set_index(['Data Venda'])).plot();"
      ],
      "execution_count": 135,
      "outputs": [
        {
          "output_type": "display_data",
          "data": {
            "image/png": "[encoded data removed]",
            "text/plain": [
              "<Figure size 432x288 with 1 Axes>"
            ]
          },
          "metadata": {
            "tags": [],
            "needs_background": "light"
          }
        }
      ]
    },
    {
      "cell_type": "markdown",
      "metadata": {
        "id": "AtRGVyJ357cL"
      },
      "source": [
        "#### Todos conjuntos de dados apresentam grande variação"
      ]
    },
    {
      "cell_type": "code",
      "metadata": {
        "id": "GdvqBFy23aXx"
      },
      "source": [
        ""
      ],
      "execution_count": null,
      "outputs": []
    },
    {
      "cell_type": "markdown",
      "metadata": {
        "id": "G5Y4EiKs9D5e"
      },
      "source": [
        "## Treinamento do modelo"
      ]
    },
    {
      "cell_type": "code",
      "metadata": {
        "id": "XXh5j7_cAZyy"
      },
      "source": [
        "data_train = df_wine\n",
        "\n",
        "#\n",
        "# Separando dados e Classes\n",
        "X = data_train.drop(['quality'], axis=1)\n",
        "y_class = data_train['quality']\n",
        "\n",
        "# Padronizando os dados\n",
        "scaler = MinMaxScaler()\n",
        "X_scaled = scaler.fit_transform(X)\n",
        "\n",
        "\n",
        "X = X_scaled\n",
        "y = y_class\n"
      ],
      "execution_count": null,
      "outputs": []
    },
    {
      "cell_type": "code",
      "metadata": {
        "id": "avaih9O8S-fw"
      },
      "source": [
        "X.shape"
      ],
      "execution_count": null,
      "outputs": []
    },
    {
      "cell_type": "code",
      "metadata": {
        "id": "8oZ9yzUmHI3p"
      },
      "source": [
        "y.shape"
      ],
      "execution_count": null,
      "outputs": []
    },
    {
      "cell_type": "code",
      "metadata": {
        "id": "nwy3F4K-CX8g"
      },
      "source": [
        "# Criando uma funcao para criação, execução e validação do modelo\n",
        "def run_model():\n",
        "       \n",
        "    clf_KNN = KNeighborsClassifier(n_neighbors=5)\n",
        "    clf_arvore = DecisionTreeClassifier()\n",
        "    clf_floresta = RandomForestClassifier(max_depth=10, random_state=1)\n",
        "    clf_svm=SVC(gamma='auto',kernel='rbf')\n",
        "    clf_mlp = MLPClassifier(alpha=1e-5, hidden_layer_sizes=(5, 5), random_state=1)\n",
        "\n",
        "\n",
        "    modelos= [clf_KNN, clf_arvore, clf_floresta, clf_svm, clf_mlp]\n",
        "    nome_modelos = ['clf_KNN', 'clf_arvore', 'clf_floresta', 'clf_svm', 'clf_mlp']\n",
        "\n",
        "    x_train, x_test, y_train, y_test = train_test_split(X, y, test_size=0.3, random_state=1)\n",
        "    \n",
        "    # Fit do modelo\n",
        "    for i in range(len(modelos)):\n",
        "        print(\"Treinando modelo: \", nome_modelos[i])\n",
        "        modelos[i].fit(x_train, y_train)\n",
        "    print(\"\\n\")    \n",
        "    # Predição no dataset de treino\n",
        "    preds=[]\n",
        "    for i in range(len(modelos)):\n",
        "        print(\"Previsoes com o modelo: \", nome_modelos[i])\n",
        "        preds.append(modelos[i].predict(x_test))\n",
        "    print(\"\\n\") \n",
        "\n",
        "    # Exibir o relatorio do modelo\n",
        "    for i in range(len(preds)):\n",
        "        print(\"Modelo: \", nome_modelos[i],\"--> Acurácia : %.4g\" % accuracy_score(y_test, preds[i]))\n",
        "        print(\"Modelo: \", nome_modelos[i],\"--> Acurácia : %.4g\\n\" % modelos[i].score(x_test, y_test))\n"
      ],
      "execution_count": null,
      "outputs": []
    },
    {
      "cell_type": "code",
      "metadata": {
        "id": "l2g7f2s5LfUA"
      },
      "source": [
        "run_model()"
      ],
      "execution_count": null,
      "outputs": []
    },
    {
      "cell_type": "code",
      "metadata": {
        "id": "dulqxLcdMmLJ"
      },
      "source": [
        "# Importando o algoritmo MLP\n",
        "from sklearn.neural_network import MLPClassifier\n",
        "\n",
        "# Instanciando o algoritmo\n",
        "clf_mlp = MLPClassifier(alpha=1e-5, hidden_layer_sizes=(5, 5), random_state=1)\n",
        "\n",
        "# Efetuando o treinamento do modelo\n",
        "clf_mlp.fit(x_train, y_train)\n",
        "\n",
        "\n",
        "print(\"Acurácia: {}\".format(clf_mlp.score(x_test, y_test)))"
      ],
      "execution_count": null,
      "outputs": []
    },
    {
      "cell_type": "code",
      "metadata": {
        "id": "qA15KgYrKLdd"
      },
      "source": [
        "# Checar o ultimo resultado com clf_mlp\n",
        "from sklearn.neural_network import MLPClassifier\n",
        "clf_mlp = MLPClassifier(alpha=1e-5, hidden_layer_sizes=(5, 5), random_state=1)\n",
        "clf_mlp.fit(x_train, y_train)\n",
        "print(\"clf_mlp -->  Acurácia : %.4g\\n\" % clf_mlp.score(x_test, y_test))"
      ],
      "execution_count": null,
      "outputs": []
    },
    {
      "cell_type": "markdown",
      "metadata": {
        "id": "R5Z_a3O7GUVo"
      },
      "source": [
        "### Alterada a classe quality para class: bom ou ruim"
      ]
    },
    {
      "cell_type": "code",
      "metadata": {
        "id": "UjUqqgwyDG4y"
      },
      "source": [
        "df_wine2 = df_wine"
      ],
      "execution_count": null,
      "outputs": []
    },
    {
      "cell_type": "code",
      "metadata": {
        "id": "ofa28DgmDODs"
      },
      "source": [
        "df_wine2.head()"
      ],
      "execution_count": null,
      "outputs": []
    },
    {
      "cell_type": "code",
      "metadata": {
        "id": "CHK-0UdEDaZf"
      },
      "source": [
        "df_wine2['class'] = np.where(df_wine['quality'] <= 5, \"ruim\", \"bom\")"
      ],
      "execution_count": null,
      "outputs": []
    },
    {
      "cell_type": "code",
      "metadata": {
        "id": "lqLdfLXVDwt8"
      },
      "source": [
        "df_wine2.head()"
      ],
      "execution_count": null,
      "outputs": []
    },
    {
      "cell_type": "code",
      "metadata": {
        "id": "DdsFgAloEBrj"
      },
      "source": [
        "df_wine2.drop('quality', axis=1, inplace=True)\n",
        "\n",
        "data_train = df_wine2\n",
        "\n",
        "#\n",
        "# Separando dados e Classes\n",
        "X = data_train.drop(['class'], axis=1)\n",
        "y_class = data_train['class']\n",
        "\n",
        "# Padronizando os dados\n",
        "scaler = MinMaxScaler()\n",
        "X_scaled = scaler.fit_transform(X)\n",
        "\n",
        "\n",
        "X = X_scaled\n",
        "y = y_class\n",
        "\n",
        "x_train, x_test, y_train, y_test = train_test_split(X, y, test_size=0.3, random_state=1)\n"
      ],
      "execution_count": null,
      "outputs": []
    },
    {
      "cell_type": "code",
      "metadata": {
        "id": "rpGF0sM7EQHY"
      },
      "source": [
        "# Aplicar no randomforest\n",
        "clf_floresta = RandomForestClassifier(max_depth=10, random_state=1)\n",
        "# Treinamento\n",
        "clf_floresta.fit(x_train, y_train)\n",
        "# Previsao\n",
        "pred = clf_floresta.predict(x_test)\n",
        "# Acurácia\n",
        "accuracy_score(y_test,pred)\n",
        "print(\"clf_floresta -->  Acurácia : %.4g\\n\" % accuracy_score(y_test, pred))\n",
        "\n",
        "\n",
        "\n",
        "\n"
      ],
      "execution_count": null,
      "outputs": []
    },
    {
      "cell_type": "markdown",
      "metadata": {
        "id": "hm75NaWb6RiU"
      },
      "source": [
        "## Eliminação Recursiva de Atributos"
      ]
    },
    {
      "cell_type": "markdown",
      "metadata": {
        "id": "m3B_rjGZ6RiV"
      },
      "source": [
        "https://scikit-learn.org/stable/modules/generated/sklearn.feature_selection.RFE.html"
      ]
    },
    {
      "cell_type": "markdown",
      "metadata": {
        "id": "Br5zXtLI6RiW"
      },
      "source": [
        "Esta é outra técnica para seleção de atributos, que recursivamente remove os atributos e constrói o modelo com os atributos remanescentes. Esta técnica utiliza a acurácia do modelo para identificar os atributos que mais contribuem para prever a variável alvo. Em inglês esta técnia é chamada Recursive Feature Elimination (RFE)."
      ]
    },
    {
      "cell_type": "markdown",
      "metadata": {
        "id": "lKWgztw96RiX"
      },
      "source": [
        "O exemplo abaixo utiliza a técnica de eliminação recursiva de atributos com um algoritmo de Regressão Logística para selecionar as 3 melhores variáveis preditoras. O RFE selecionou as variáveis preg, mass e pedi, que estão marcadas como True em \"Atributos Selecionados\" e com valor 1 em \"Ranking dos Atributos\"."
      ]
    },
    {
      "cell_type": "code",
      "metadata": {
        "id": "uMUNWQjV6Ric"
      },
      "source": [
        "# Eliminação Recursiva de Variáveis\n",
        "\n",
        "# Import dos módulos\n",
        "from pandas import read_csv\n",
        "from sklearn.feature_selection import RFE\n",
        "from sklearn.linear_model import LogisticRegression\n",
        "\n",
        "# Carregando os dados\n",
        "#arquivo = 'data/pima-data.csv'\n",
        "#colunas = ['preg', 'plas', 'pres', 'skin', 'test', 'mass', 'pedi', 'age', 'class']\n",
        "#dados = read_csv(arquivo, names = colunas)\n",
        "#array = dados.values\n",
        "\n",
        "# Separando dados e Classes\n",
        "X = data_train.drop(['ID','target'], axis=1)\n",
        "y = data_train['target']\n",
        "\n",
        "# Padronizando os dados\n",
        "#scaler = StandardScaler()\n",
        "scaler = MinMaxScaler()\n",
        "X = scaler.fit_transform(X)\n",
        "\n",
        "smt = SMOTE()\n",
        "X_train_sm, y_train_sm = smt.fit_sample(X, y)\n",
        "\n",
        "dados = data_train\n",
        "\n",
        "# Separando o array em componentes de input e output\n",
        "#X = array[:,0:8]\n",
        "#Y = array[:,8]\n",
        "\n",
        "# Criação do modelo\n",
        "modelo = LogisticRegression()\n",
        "\n",
        "# RFE\n",
        "rfe = RFE(modelo, 5)\n",
        "#fit = rfe.fit(X, Y)\n",
        "fit = rfe.fit(X_train_sm, y_train_sm)\n",
        "\n",
        "# Print dos resultados\n",
        "print(\"Variáveis Preditoras:\", dados.columns[2:50])\n",
        "print(\"Variáveis Selecionadas: %s\" % fit.support_)\n",
        "print(\"Ranking dos Atributos: %s\" % fit.ranking_)\n",
        "print(\"Número de Melhores Atributos: %d\" % fit.n_features_)"
      ],
      "execution_count": null,
      "outputs": []
    },
    {
      "cell_type": "markdown",
      "metadata": {
        "id": "jSPmcvN36Rih"
      },
      "source": [
        "## Método Ensemble para Seleção de Variáveis"
      ]
    },
    {
      "cell_type": "markdown",
      "metadata": {
        "id": "V29WsOvi6Rii"
      },
      "source": [
        "https://scikit-learn.org/stable/modules/generated/sklearn.ensemble.ExtraTreesClassifier.html"
      ]
    },
    {
      "cell_type": "markdown",
      "metadata": {
        "id": "MCJdyNbC6Rii"
      },
      "source": [
        "Bagged Decision Trees, como o algoritmo RandomForest (esses são chamados de Métodos Ensemble), podem ser usados para estimar a importância de cada atributo. Esse método retorna um score para cada atributo."
      ]
    },
    {
      "cell_type": "markdown",
      "metadata": {
        "id": "lWZT9zPQ6Rij"
      },
      "source": [
        "Quanto maior o score, maior a importância do atributo."
      ]
    },
    {
      "cell_type": "code",
      "metadata": {
        "id": "7Yf6hnfT6Rik"
      },
      "source": [
        "# Importância do Atributo com o Extra Trees Classifier\n",
        "\n",
        "# Import dos Módulos\n",
        "from pandas import read_csv\n",
        "from sklearn.ensemble import ExtraTreesClassifier\n",
        "\n",
        "# Carregando os dados\n",
        "#arquivo = 'data/pima-data.csv'\n",
        "#colunas = ['preg', 'plas', 'pres', 'skin', 'test', 'mass', 'pedi', 'age', 'class']\n",
        "#dados = read_csv(arquivo, names = colunas)\n",
        "#array = dados.values\n",
        "\n",
        "# Separando o array em componentes de input e output\n",
        "#X = array[:,0:8]\n",
        "#Y = array[:,8]\n",
        "\n",
        "# Criação do Modelo - Feature Selection\n",
        "modelo = ExtraTreesClassifier()\n",
        "modelo.fit(X_train_sm, y_train_sm)\n",
        "importances = modelo.feature_importances_\n",
        "std = np.std([tree.feature_importances_ for tree in modelo.estimators_],\n",
        "             axis=0)\n",
        "indices = np.argsort(importances)[::-1]\n",
        "\n",
        "# Print the feature ranking\n",
        "print(\"Feature ranking:\")\n",
        "\n",
        "for f in range(X.shape[1]):\n",
        "    print(\"%d. feature %d (%f)\" % (f + 1, indices[f], importances[indices[f]]))\n",
        "\n",
        "#modelo.fit(X, Y)\n",
        "#modelo.fit(X_train_sm, y_train_sm)\n",
        "\n",
        "# Print dos Resultados\n",
        "#print(dados.columns[2:20])\n",
        "#print(modelo.feature_importances_)"
      ],
      "execution_count": null,
      "outputs": []
    },
    {
      "cell_type": "markdown",
      "metadata": {
        "id": "kvhUKy2L6Rio"
      },
      "source": [
        "## Redução de Dimensionalidade (Feature Extraction)"
      ]
    },
    {
      "cell_type": "markdown",
      "metadata": {
        "id": "O21pFpJr6Rip"
      },
      "source": [
        "## Principal Component Analysis (PCA)"
      ]
    },
    {
      "cell_type": "markdown",
      "metadata": {
        "id": "OulzBq_-6Riq"
      },
      "source": [
        "O PCA foi inventado em 1901 por Karl Pearson e utiliza álgebra linear para transformar datasets em uma forma comprimida, o que é geralmente conhecido como Redução de Dimensionalidade. Com PCA você pode escolher o número de dimensões (chamados componentes principais) no resultado transformado. Vamos usar PCA para selecionar 3 componentes principais."
      ]
    },
    {
      "cell_type": "markdown",
      "metadata": {
        "id": "kvuNSF4C6Riq"
      },
      "source": [
        "A Análise de Componentes Principais (PCA) é um método para extração das variáveis importantes (na forma de componentes) a partir de um grande conjunto de variáveis, disponíveis em um conjunto de dados. Esta técnica permite extrair um número pequenos de conjuntos dimensionais a partir de um dataset altamente dimensional. Com menos variáveis a visualização também se torna muito mais significativa. PCA é mais útil quando se lida com 3 ou mais dimensões."
      ]
    },
    {
      "cell_type": "code",
      "metadata": {
        "id": "ZMhCkkoj6Rir"
      },
      "source": [
        "# Image source: http://www.nlpca.org/pca_principal_component_analysis.html\n",
        "from IPython.display import Image\n",
        "Image(url = 'images/PCA2.png')"
      ],
      "execution_count": null,
      "outputs": []
    },
    {
      "cell_type": "markdown",
      "metadata": {
        "id": "c_lcqOwF6Rit"
      },
      "source": [
        "Cada componente resultante é uma combinação linear de n atributos. Ou seja, cada componente principal é uma combinação de atributos presentes no dataset. O Primeiro Componente Principal é a combinação linear dos atributos com máxima variância e determina a direção em que há mais alta variabilidade nos dados. Quanto maior a variabilidade capturada no primeiro componente principal, mais informação será capturada pelo componente. O Segundo Componente Principal captura a variabilidade remanescente. Todos os componentes subsequentes possuem o mesmo conceito."
      ]
    },
    {
      "cell_type": "code",
      "metadata": {
        "id": "cLIS8gR-6Riy"
      },
      "source": [
        "# Image source: http://www.nlpca.org/pca_principal_component_analysis.html\n",
        "from IPython.display import Image\n",
        "Image(url = 'images/PCA3.png')"
      ],
      "execution_count": null,
      "outputs": []
    },
    {
      "cell_type": "markdown",
      "metadata": {
        "id": "b5f_Vr6W6Ri1"
      },
      "source": [
        "O PCA precisa ser alimentado com dados normalizados. Utilizar o PCA em dados não normalizados pode gerar resultados inesperados."
      ]
    },
    {
      "cell_type": "markdown",
      "metadata": {
        "id": "Q6WqD5zL6Ri2"
      },
      "source": [
        "A análise de componentes principais é uma técnica da estatística multivariada que consiste em transformar um conjunto de variáveis originais em outro conjunto de variáveis denominadas de componentes principais. Os componentes principais apresentam propriedades importantes: cada componente principal é uma combinação linear de todas as variáveis originais, são independentes entre si e estimados com o propósito de reter, em ordem de estimação, o máximo de informação, em termos da variação total contida nos dados. Os componentes principais são garantidamente independentes apenas se os dados forem normalmente distribuídos (conjuntamente)."
      ]
    },
    {
      "cell_type": "markdown",
      "metadata": {
        "id": "34347vt06Ri3"
      },
      "source": [
        "Procura-se redistribuir a variação observada nos eixos originais de forma a se obter um conjunto de eixos ortogonais não correlacionados. Esta técnica pode ser utilizada para geração de índices e agrupamento de indivíduos. A análise agrupa os indivíduos de acordo com sua variação, isto é, os indivíduos são agrupados segundo suas variâncias, ou seja, segundo seu comportamento dentro da população, representado pela variação do conjunto de características que define o indivíduo, ou seja, a técnica agrupa os indivíduos de uma população segundo a variação de suas características."
      ]
    },
    {
      "cell_type": "markdown",
      "metadata": {
        "id": "RpNBIiSQ6Ri5"
      },
      "source": [
        "A análise de componentes principais é associada à idéia de redução de massa de dados, com menor perda possível da informação. "
      ]
    },
    {
      "cell_type": "markdown",
      "metadata": {
        "id": "bM_lu97V6Ri5"
      },
      "source": [
        "O objetivo é sumarizar os dados que contém muitas variáveis (p) por um conjunto menor de variáveis (k) compostas derivadas a partir do conjunto original. PCA usa uma conjunto de dados representado por uma matriz de n registros por p atributos, que podem estar correlacionados, e sumariza esse conjunto por eixos não correlacionados (componentes principais) que são uma combinação linear das p variáveis originais. As primeiras k componentes contém a maior quantidade de variação dos dados."
      ]
    },
    {
      "cell_type": "markdown",
      "metadata": {
        "id": "aQ0Ju1KF6Ri6"
      },
      "source": [
        "Em termos gerais a PCA busca reduzir o número de dimensões de um dataset, projetando os dados em um novo plano. Usando essa nova projeção os dados originais, que podem envolver diversas variáveis, podem ser interpretados utilizando menos \"dimensões.\"\n",
        "\n",
        "No dataset reduzido podemos observar com mais clareza tendências, padrões e/ou outliers. Mas vale lembrar que a regra: \"Se não está nos dados brutos não existe!\" é sempre válida. A PCA fornece apenas mais clareza aos padrões que já estão lá."
      ]
    },
    {
      "cell_type": "code",
      "metadata": {
        "id": "lQ-mzrwo6Ri8"
      },
      "source": [
        "from IPython.display import Image\n",
        "Image(url = 'images/PCA.png')"
      ],
      "execution_count": null,
      "outputs": []
    },
    {
      "cell_type": "markdown",
      "metadata": {
        "id": "0ZNpZ9Na6RjB"
      },
      "source": [
        "Quanto maior a variância, maior a quantidade de informação contida no componente."
      ]
    },
    {
      "cell_type": "code",
      "metadata": {
        "id": "AcLgngQF6RjD"
      },
      "source": [
        "# Feature Extraction\n",
        "\n",
        "# Import dos módulos\n",
        "from pandas import read_csv\n",
        "from sklearn.preprocessing import MinMaxScaler\n",
        "from sklearn.decomposition import PCA\n",
        "\n",
        "# Carregando os dados\n",
        "arquivo = 'data/pima-data.csv'\n",
        "colunas = ['preg', 'plas', 'pres', 'skin', 'test', 'mass', 'pedi', 'age', 'class']\n",
        "dados = read_csv(arquivo, names = colunas)\n",
        "array = dados.values\n",
        "\n",
        "# Separando o array em componentes de input e output\n",
        "X = array[:,0:8]\n",
        "Y = array[:,8]\n",
        "\n",
        "# Normalizando os dados\n",
        "scaler = MinMaxScaler(feature_range = (0, 1))\n",
        "rescaledX = scaler.fit_transform(X)\n",
        "\n",
        "# Seleção de atributos\n",
        "pca = PCA(n_components = 4)\n",
        "fit = pca.fit(rescaledX)\n",
        "\n",
        "# Sumarizando os componentes\n",
        "print(\"Variância: %s\" % fit.explained_variance_ratio_)\n",
        "print(fit.components_)"
      ],
      "execution_count": null,
      "outputs": []
    },
    {
      "cell_type": "markdown",
      "metadata": {
        "id": "w3hxayOM6RjH"
      },
      "source": [
        "## Amostragem - Resampling"
      ]
    },
    {
      "cell_type": "markdown",
      "metadata": {
        "id": "762pyq7Y6RjI"
      },
      "source": [
        "Você precisa saber se seu modelo preditivo vai funcionar bem quando receber novos dados. A melhor maneira de avaliar a performance do modelo é fazer previsões em dados que você já conhece o resultado. Outra maneira de testar a performance do seu modelo é utilizar técnicas estatísticas como métodos de amostragem que permitem você estimar quão bem seu modelo irá fazer previsões em novos dados."
      ]
    },
    {
      "cell_type": "markdown",
      "metadata": {
        "id": "gEgGf-As6RjJ"
      },
      "source": [
        "A avaliação do modelo é uma estimativa de quão bem o algoritmo será capaz de prever em novos dados. Isso não garante performance. Após avaliar o modelo, nós podemos treiná-lo novamente com os dados de treino e então prepará-lo para uso operacional em produção. Existem diversas técnicas para isso e estudaremos duas aqui: Conjunto de dados de treino e de teste e Cross Validation."
      ]
    },
    {
      "cell_type": "markdown",
      "metadata": {
        "id": "jbRv0HA66RjK"
      },
      "source": [
        "### Dados de Treino e de Teste"
      ]
    },
    {
      "cell_type": "markdown",
      "metadata": {
        "id": "Bim9QWsB6RjL"
      },
      "source": [
        "https://scikit-learn.org/stable/modules/generated/sklearn.model_selection.train_test_split.html"
      ]
    },
    {
      "cell_type": "markdown",
      "metadata": {
        "id": "Y7S4OrM26RjL"
      },
      "source": [
        "Este é o método mais utilizado para avaliar performance de um algoritmo de Machine Learning. Dividimos nossos dados originais em dados de treino e de teste. Treinamos o algoritmo nos dados de treino e fazemos as previsões nos dados de teste e avaliamos o resultado. A divisão dos dados vai depender do seu dataset, mas utiliza-se com frequência tamanhos entre 70/30 (treino/teste) e 65/35 (treino/teste)."
      ]
    },
    {
      "cell_type": "markdown",
      "metadata": {
        "id": "fDbxWoOE6RjM"
      },
      "source": [
        "Este método é bem veloz e ideal para conjuntos de dados muito grandes. O ponto negativo é a possibilidade de alta variância."
      ]
    },
    {
      "cell_type": "code",
      "metadata": {
        "id": "W6qPRnmc6RjM"
      },
      "source": [
        "# Avaliação usando dados de treino e de teste\n",
        "\n",
        "# Import dos módulos\n",
        "from pandas import read_csv\n",
        "from sklearn.model_selection import train_test_split\n",
        "from sklearn.linear_model import LogisticRegression\n",
        "\n",
        "# Carregando os dados\n",
        "arquivo = 'data/pima-data.csv'\n",
        "colunas = ['preg', 'plas', 'pres', 'skin', 'test', 'mass', 'pedi', 'age', 'class']\n",
        "dados = read_csv(arquivo, names = colunas)\n",
        "array = dados.values\n",
        "\n",
        "# Separando o array em componentes de input e output\n",
        "X = array[:,0:8]\n",
        "Y = array[:,8]\n",
        "\n",
        "# Definindo o tamanho das amostras\n",
        "teste_size = 0.33\n",
        "\n",
        "# Garante que os resultados podem ser reproduzidos\n",
        "# Isso é importante para comparar a acurácia com outros algoritmos de Machine Learning.\n",
        "seed = 7\n",
        "\n",
        "# Criando os conjuntos de dados de treino e de teste\n",
        "X_treino, X_teste, Y_treino, Y_teste = train_test_split(X, Y, test_size = teste_size, random_state = seed)\n",
        "\n",
        "# Criação do modelo\n",
        "modelo = LogisticRegression()\n",
        "\n",
        "# Treinamento do modelo\n",
        "modelo.fit(X_treino, Y_treino)\n",
        "\n",
        "# Score do modelo nos dados de teste\n",
        "result = modelo.score(X_teste, Y_teste)\n",
        "print(\"Acurácia nos Dados de Teste: %.3f%%\" % (result * 100.0))"
      ],
      "execution_count": null,
      "outputs": []
    },
    {
      "cell_type": "markdown",
      "metadata": {
        "id": "zlThoa_96RjO"
      },
      "source": [
        "### Cross Validation"
      ]
    },
    {
      "cell_type": "markdown",
      "metadata": {
        "id": "te_63NDY6RjO"
      },
      "source": [
        "https://scikit-learn.org/stable/modules/generated/sklearn.model_selection.cross_val_score.html"
      ]
    },
    {
      "cell_type": "markdown",
      "metadata": {
        "id": "6fhmveHo6RjP"
      },
      "source": [
        "Cross Validation é uma técnica que pode ser utilizada para avaliar a performance de um modelo com menos variância que a técnica de dividir os dados em treino/teste. Com esta técnica dividimos os dados em partes normalmente chamadas de k-folds (por exemplo k = 5, k = 10). Cada parte é chamada fold. O algoritmo é treinado em k-1 folds. Cada fold é usado no treinamento de forma repetida e um fold por vez. Após executar o processo em k-1 folds, podemos sumarizar a performance em cada fold usando a média e o desvio padrão (Eu disse que Estatística era importante no processo de Big Data Analytics). O resultado é normalmente mais confiável e oferece maior acurácia ao modelo. A chave deste processo está em definir o correto valor de k, de modo que o número de folds represente adequadamente o número de repetições necessárias."
      ]
    },
    {
      "cell_type": "code",
      "metadata": {
        "id": "Tbz2M3006RjQ"
      },
      "source": [
        "from IPython.display import Image\n",
        "Image(url = 'images/cross-validation.jpg')"
      ],
      "execution_count": null,
      "outputs": []
    },
    {
      "cell_type": "code",
      "metadata": {
        "id": "Mp7ZBmJA6RjT"
      },
      "source": [
        "# Avaliação usando Cross Validation\n",
        "\n",
        "# Import dos módulos\n",
        "from pandas import read_csv\n",
        "from sklearn.model_selection import KFold\n",
        "from sklearn.model_selection import cross_val_score\n",
        "from sklearn.linear_model import LogisticRegression\n",
        "\n",
        "# Carregando os dados\n",
        "arquivo = 'data/pima-data.csv'\n",
        "colunas = ['preg', 'plas', 'pres', 'skin', 'test', 'mass', 'pedi', 'age', 'class']\n",
        "dados = read_csv(arquivo, names = colunas)\n",
        "array = dados.values\n",
        "\n",
        "# Separando o array em componentes de input e output\n",
        "X = array[:,0:8]\n",
        "Y = array[:,8]\n",
        "\n",
        "# Definindo os valores para os folds\n",
        "num_folds = 10\n",
        "seed = 7\n",
        "\n",
        "# Separando os dados em folds\n",
        "kfold = KFold(num_folds, True, random_state = seed)\n",
        "\n",
        "# Criando o modelo\n",
        "modelo = LogisticRegression()\n",
        "resultado = cross_val_score(modelo, X, Y, cv = kfold)\n",
        "\n",
        "# Usamos a média e o desvio padrão\n",
        "print(\"Acurácia Final: %.3f%%\" % (resultado.mean() * 100.0))"
      ],
      "execution_count": null,
      "outputs": []
    },
    {
      "cell_type": "markdown",
      "metadata": {
        "id": "7XVSRF0j6RjW"
      },
      "source": [
        "## Avaliando a Performance"
      ]
    },
    {
      "cell_type": "markdown",
      "metadata": {
        "id": "FZshGJ4L6RjX"
      },
      "source": [
        "As métricas que você escolhe para avaliar a performance do modelo vão influenciar a forma como a performance é medida e comparada com modelos criados com outros algoritmos."
      ]
    },
    {
      "cell_type": "markdown",
      "metadata": {
        "id": "A4MHW8mE6RjY"
      },
      "source": [
        "Vamos utilizar o mesmo algoritmo, mas com métricas diferentes e assim comparar os resultados. A função cross_validation.cross_val_score() será usada para avaliar a performance."
      ]
    },
    {
      "cell_type": "markdown",
      "metadata": {
        "id": "kpzl-_-V6RjZ"
      },
      "source": [
        "### Métricas para Algoritmos de Classificação"
      ]
    },
    {
      "cell_type": "markdown",
      "metadata": {
        "id": "DtMsWRDj6Rjb"
      },
      "source": [
        "https://scikit-learn.org/stable/modules/model_evaluation.html"
      ]
    },
    {
      "cell_type": "code",
      "metadata": {
        "id": "NUPqfrp86Rjc"
      },
      "source": [
        "# Acurácia\n",
        "# Número de previsões corretas. É útil apenas quando existe o mesmo número de observações em cada classe.\n",
        "\n",
        "# Import dos módulos\n",
        "from pandas import read_csv\n",
        "from sklearn.model_selection import KFold\n",
        "from sklearn.model_selection import cross_val_score\n",
        "from sklearn.linear_model import LogisticRegression\n",
        "\n",
        "# Carregando os dados\n",
        "arquivo = 'data/pima-data.csv'\n",
        "colunas = ['preg', 'plas', 'pres', 'skin', 'test', 'mass', 'pedi', 'age', 'class']\n",
        "dados = read_csv(arquivo, names = colunas)\n",
        "array = dados.values\n",
        "\n",
        "# Separando o array em componentes de input e output\n",
        "X = array[:,0:8]\n",
        "Y = array[:,8]\n",
        "\n",
        "# Definindo os valores para o número de folds\n",
        "num_folds = 10\n",
        "seed = 7\n",
        "\n",
        "# Separando os dados em folds\n",
        "kfold = KFold(num_folds, True, random_state = seed)\n",
        "\n",
        "# Criando o modelo\n",
        "modelo = LogisticRegression()\n",
        "\n",
        "# Cross Validation\n",
        "resultado = cross_val_score(modelo, X, Y, cv = kfold, scoring = 'accuracy')\n",
        "\n",
        "# Print dos resultados\n",
        "print(\"Acurácia: %.3f\" % (resultado.mean() * 100))"
      ],
      "execution_count": null,
      "outputs": []
    },
    {
      "cell_type": "code",
      "metadata": {
        "id": "y4PxmP7v6Rje"
      },
      "source": [
        "# Curva ROC \n",
        "# A Curva ROC permite analisar a métrica AUC (Area Under the Curve).\n",
        "# Essa é uma métrica de performance para classificação binária, em que podemos definir as classes em positiavs e negativas.\n",
        "# Problemas de classificação binária são um trade-off sentre Sensitivity e Specifity.\n",
        "# Sensitivity é a taxa de verdadeiros positivos (TP). Ese é o número de instâncias positivas da primeira classe que foram previstas corretamente.\n",
        "# Specifity é a taxa de verdadeiros negativos (TN). Esse é o número de instâncias da segunda classe que foram previstas corretamente.\n",
        "# Valores acima de 0.5 indicam uma boa taxa de previsão.\n",
        "\n",
        "# Import dos módulos\n",
        "from pandas import read_csv\n",
        "from sklearn.model_selection import KFold\n",
        "from sklearn.model_selection import cross_val_score\n",
        "from sklearn.linear_model import LogisticRegression\n",
        "\n",
        "# Carregando os dados\n",
        "arquivo = 'data/pima-data.csv'\n",
        "colunas = ['preg', 'plas', 'pres', 'skin', 'test', 'mass', 'pedi', 'age', 'class']\n",
        "dados = read_csv(arquivo, names = colunas)\n",
        "array = dados.values\n",
        "\n",
        "# Separando o array em componentes de input e output\n",
        "X = array[:,0:8]\n",
        "Y = array[:,8]\n",
        "\n",
        "# Definindo os valores para o número de folds\n",
        "num_folds = 10\n",
        "seed = 7\n",
        "\n",
        "# Separando os dados em folds\n",
        "kfold = KFold(num_folds, True, random_state = seed)\n",
        "\n",
        "# Criando o modelo\n",
        "model = LogisticRegression()\n",
        "\n",
        "# Cross Validation\n",
        "resultado = cross_val_score(model, X, Y, cv = kfold, scoring = 'roc_auc')\n",
        "\n",
        "# Print do resultado\n",
        "print(\"AUC: %.3f\" % (resultado.mean() * 100))"
      ],
      "execution_count": null,
      "outputs": []
    },
    {
      "cell_type": "code",
      "metadata": {
        "id": "9YfWA22T6Rjg"
      },
      "source": [
        "# Confusion Matrix\n",
        "# Permite verificar a acurácia em um formato de tabela\n",
        "\n",
        "# Import dos módulos\n",
        "from pandas import read_csv\n",
        "from sklearn.model_selection import train_test_split\n",
        "from sklearn.linear_model import LogisticRegression\n",
        "from sklearn.metrics import confusion_matrix\n",
        "\n",
        "# Carregando os dados\n",
        "arquivo = 'data/pima-data.csv'\n",
        "colunas = ['preg', 'plas', 'pres', 'skin', 'test', 'mass', 'pedi', 'age', 'class']\n",
        "dados = read_csv(arquivo, names = colunas)\n",
        "array = dados.values\n",
        "\n",
        "# Separando o array em componentes de input e output\n",
        "X = array[:,0:8]\n",
        "Y = array[:,8]\n",
        "\n",
        "# Definindo o tamanho do conjunto de dados\n",
        "teste_size = 0.33\n",
        "seed = 7\n",
        "\n",
        "# Dividindo os dados em treino e teste\n",
        "X_treino, X_teste, Y_treino, Y_teste = train_test_split(X, Y, test_size = teste_size, random_state = seed)\n",
        "\n",
        "# Criando o modelo\n",
        "model = LogisticRegression()\n",
        "model.fit(X_treino, Y_treino)\n",
        "\n",
        "# Fazendo as previsões e construindo a Confusion Matrix\n",
        "previsoes = model.predict(X_teste)\n",
        "matrix = confusion_matrix(Y_teste, previsoes)\n",
        "\n",
        "# Imprimindo a Confusion Matrix\n",
        "print(matrix)"
      ],
      "execution_count": null,
      "outputs": []
    },
    {
      "cell_type": "code",
      "metadata": {
        "id": "IqhjmoOy6Rjj"
      },
      "source": [
        "# Relatório de Classificação\n",
        "\n",
        "# Import dos módulos\n",
        "from pandas import read_csv\n",
        "from sklearn.model_selection import train_test_split\n",
        "from sklearn.linear_model import LogisticRegression\n",
        "from sklearn.metrics import classification_report\n",
        "\n",
        "# Carregando os dados\n",
        "arquivo = 'data/pima-data.csv'\n",
        "colunas = ['preg', 'plas', 'pres', 'skin', 'test', 'mass', 'pedi', 'age', 'class']\n",
        "dados = read_csv(arquivo, names = colunas)\n",
        "array = dados.values\n",
        "\n",
        "# Separando o array em componentes de input e output\n",
        "X = array[:,0:8]\n",
        "Y = array[:,8]\n",
        "\n",
        "# Definindo o tamanho do conjunto de dados\n",
        "teste_size = 0.33\n",
        "seed = 7\n",
        "\n",
        "# Dividindo os dados em treino e teste\n",
        "X_treino, X_teste, Y_treino, Y_teste = train_test_split(X, Y, test_size = teste_size, random_state = seed)\n",
        "\n",
        "# Criando o modelo\n",
        "modelo = LogisticRegression()\n",
        "modelo.fit(X_treino, Y_treino)\n",
        "\n",
        "# Fazendo as previsões e construindo o relatório\n",
        "previsoes = model.predict(X_teste)\n",
        "report = classification_report(Y_teste, previsoes)\n",
        "\n",
        "# Imprimindo o relatório\n",
        "print(report)"
      ],
      "execution_count": null,
      "outputs": []
    },
    {
      "cell_type": "markdown",
      "metadata": {
        "id": "oJ2pZipE6Rjm"
      },
      "source": [
        "# Algoritmos de Classificação"
      ]
    },
    {
      "cell_type": "markdown",
      "metadata": {
        "id": "sS-JKTVM6Rjq"
      },
      "source": [
        "Não temos como saber qual algoritmo vai funcionar melhor na construção do modelo, antes de testarmos o algoritmo com nosso dataset. O ideal é testar alguns algoritmos e então escolher o que fornece melhor nível de precisão. Vamos testar um conjunto de algoritmos de classificação, nas mesmas condições."
      ]
    },
    {
      "cell_type": "markdown",
      "metadata": {
        "id": "MPwnGxaW6Rjr"
      },
      "source": [
        "## Regressão Logística"
      ]
    },
    {
      "cell_type": "markdown",
      "metadata": {
        "id": "pdj8NvWH6Rjt"
      },
      "source": [
        "Algoritmo Linear. O algoritmo de Regressão Logística assume que seus dados estão em uma Distribuição Normal para valores numéricos que podem ser modelados com classificação binária."
      ]
    },
    {
      "cell_type": "code",
      "metadata": {
        "id": "xQo4S2-36Rju"
      },
      "source": [
        "# Import dos módulos\n",
        "from pandas import read_csv\n",
        "from sklearn.model_selection import KFold\n",
        "from sklearn.model_selection import cross_val_score\n",
        "from sklearn.linear_model import LogisticRegression\n",
        "\n",
        "# Carregando os dados\n",
        "arquivo = 'data/pima-data.csv'\n",
        "colunas = ['preg', 'plas', 'pres', 'skin', 'test', 'mass', 'pedi', 'age', 'class']\n",
        "dados = read_csv(arquivo, names = colunas)\n",
        "array = dados.values\n",
        "\n",
        "# Separando o array em componentes de input e output\n",
        "X = array[:,0:8]\n",
        "Y = array[:,8]\n",
        "\n",
        "# Definindo os valores para o número de folds\n",
        "num_folds = 10\n",
        "seed = 7\n",
        "\n",
        "# Separando os dados em folds\n",
        "kfold = KFold(num_folds, True, random_state = seed)\n",
        "\n",
        "# Criando o modelo\n",
        "modelo = LogisticRegression()\n",
        "\n",
        "# Cross Validation\n",
        "resultado = cross_val_score(modelo, X, Y, cv = kfold)\n",
        "\n",
        "# Print do resultado\n",
        "print(\"Acurácia: %.3f\" % (resultado.mean() * 100))"
      ],
      "execution_count": null,
      "outputs": []
    },
    {
      "cell_type": "markdown",
      "metadata": {
        "id": "00-x3oBT6Rjw"
      },
      "source": [
        "## Linear Discriminant Analysis"
      ]
    },
    {
      "cell_type": "markdown",
      "metadata": {
        "id": "TA-zi1aD6Rjy"
      },
      "source": [
        "Algoritmo Linear. Técnica estatística para classificação binária. Também assume que os dados estão em Distribuição Normal."
      ]
    },
    {
      "cell_type": "code",
      "metadata": {
        "id": "F5R0vWi96Rjy"
      },
      "source": [
        "# Import dos módulos\n",
        "from pandas import read_csv\n",
        "from sklearn.model_selection import KFold\n",
        "from sklearn.model_selection import cross_val_score\n",
        "from sklearn.discriminant_analysis import LinearDiscriminantAnalysis\n",
        "\n",
        "# Carregando os dados\n",
        "arquivo = 'data/pima-data.csv'\n",
        "colunas = ['preg', 'plas', 'pres', 'skin', 'test', 'mass', 'pedi', 'age', 'class']\n",
        "dados = read_csv(arquivo, names = colunas)\n",
        "array = dados.values\n",
        "\n",
        "# Separando o array em componentes de input e output\n",
        "X = array[:,0:8]\n",
        "Y = array[:,8]\n",
        "\n",
        "# Definindo os valores para o número de folds\n",
        "num_folds = 10\n",
        "seed = 7\n",
        "\n",
        "# Separando os dados em folds\n",
        "kfold = KFold(num_folds, True, random_state = seed)\n",
        "\n",
        "# Criando o modelo\n",
        "modelo = LinearDiscriminantAnalysis()\n",
        "\n",
        "# Cross Validation\n",
        "resultado = cross_val_score(modelo, X, Y, cv = kfold)\n",
        "\n",
        "# Print do resultado\n",
        "print(\"Acurácia: %.3f\" % (resultado.mean() * 100))"
      ],
      "execution_count": null,
      "outputs": []
    },
    {
      "cell_type": "markdown",
      "metadata": {
        "id": "I632qu8J6Rj2"
      },
      "source": [
        "## KNN - K-Nearest Neighbors"
      ]
    },
    {
      "cell_type": "markdown",
      "metadata": {
        "id": "H67kmpIi6Rj3"
      },
      "source": [
        "Algoritmo Não-Linear que utiliza uma métrica de distância para encontrar o valor de K mais adequado as instâncias do dataset de treino."
      ]
    },
    {
      "cell_type": "code",
      "metadata": {
        "id": "OXd2sCRd6Rj4"
      },
      "source": [
        "# Import dos módulos\n",
        "from pandas import read_csv\n",
        "from sklearn.model_selection import KFold\n",
        "from sklearn.model_selection import cross_val_score\n",
        "from sklearn.neighbors import KNeighborsClassifier\n",
        "\n",
        "# Carregando os dados\n",
        "arquivo = 'data/pima-data.csv'\n",
        "colunas = ['preg', 'plas', 'pres', 'skin', 'test', 'mass', 'pedi', 'age', 'class']\n",
        "dados = read_csv(arquivo, names = colunas)\n",
        "array = dados.values\n",
        "\n",
        "# Separando o array em componentes de input e output\n",
        "X = array[:,0:8]\n",
        "Y = array[:,8]\n",
        "\n",
        "# Definindo os valores para o número de folds\n",
        "num_folds = 10\n",
        "random_state = 7\n",
        "\n",
        "# Separando os dados em folds\n",
        "kfold = KFold(num_folds, True, random_state = random_state)\n",
        "\n",
        "# Criando o modelo\n",
        "modelo = KNeighborsClassifier()\n",
        "\n",
        "# Cross Validation\n",
        "results = cross_val_score(modelo, X, Y, cv = kfold)\n",
        "\n",
        "# Print do resultado\n",
        "print(\"Acurácia: %.3f\" % (resultado.mean() * 100))"
      ],
      "execution_count": null,
      "outputs": []
    },
    {
      "cell_type": "markdown",
      "metadata": {
        "id": "oqD2SBPn6Rj5"
      },
      "source": [
        "## Naive Bayes"
      ]
    },
    {
      "cell_type": "markdown",
      "metadata": {
        "id": "bvpxa9Vv6Rj6"
      },
      "source": [
        "Algoritmo Não-Linear. Calcula a Probabilidade de cada classe e a probabilidade condicional de cada classe dado uma variável de entrada. As probabilidades são então estimadas para os novos dados e multiplicadas, assumindo que são independentes (suposição simples ou Naive). Assume dados em distirbuição Gaussiana (Normal)"
      ]
    },
    {
      "cell_type": "code",
      "metadata": {
        "id": "RJ-Yg5uC6Rj7"
      },
      "source": [
        "# Import dos módulos\n",
        "from pandas import read_csv\n",
        "from sklearn.model_selection import KFold\n",
        "from sklearn.model_selection import cross_val_score\n",
        "from sklearn.naive_bayes import GaussianNB\n",
        "\n",
        "# Carregando os dados\n",
        "arquivo = 'data/pima-data.csv'\n",
        "colunas = ['preg', 'plas', 'pres', 'skin', 'test', 'mass', 'pedi', 'age', 'class']\n",
        "dados = read_csv(arquivo, names = colunas)\n",
        "array = dados.values\n",
        "\n",
        "# Separando o array em componentes de input e output\n",
        "X = array[:,0:8]\n",
        "Y = array[:,8]\n",
        "\n",
        "# Definindo os valores para o número de folds\n",
        "num_folds = 10\n",
        "seed = 7\n",
        "\n",
        "# Separando os dados em folds\n",
        "kfold = KFold(num_folds, True, random_state = seed)\n",
        "\n",
        "# Criando o modelo\n",
        "modelo = GaussianNB()\n",
        "\n",
        "# Cross Validation\n",
        "resultado = cross_val_score(modelo, X, Y, cv = kfold)\n",
        "\n",
        "# Print do resultado\n",
        "print(\"Acurácia: %.3f\" % (resultado.mean() * 100))"
      ],
      "execution_count": null,
      "outputs": []
    },
    {
      "cell_type": "markdown",
      "metadata": {
        "id": "G2ZZnDsA6Rj_"
      },
      "source": [
        "## CART (Classification and Regression Trees)"
      ]
    },
    {
      "cell_type": "markdown",
      "metadata": {
        "id": "vrmYlR316RkB"
      },
      "source": [
        "Algoritmo Não-Linear. O algoritmo CART constrói uma árvore binária a partir do dataset de treino. Cada atributo e cada valor de cada atributo são avaliados com o objetivo de reduzir a função de custo (Cost Function)."
      ]
    },
    {
      "cell_type": "code",
      "metadata": {
        "id": "EmxvaQxj6RkC"
      },
      "source": [
        "# Import dos módulos\n",
        "from pandas import read_csv\n",
        "from sklearn.model_selection import KFold\n",
        "from sklearn.model_selection import cross_val_score\n",
        "from sklearn.tree import DecisionTreeClassifier\n",
        "\n",
        "# Carregando os dados\n",
        "arquivo = 'data/pima-data.csv'\n",
        "colunas = ['preg', 'plas', 'pres', 'skin', 'test', 'mass', 'pedi', 'age', 'class']\n",
        "dados = read_csv(arquivo, names = colunas)\n",
        "array = dados.values\n",
        "\n",
        "# Separando o array em componentes de input e output\n",
        "X = array[:,0:8]\n",
        "Y = array[:,8]\n",
        "\n",
        "# Definindo os valores para o número de folds\n",
        "num_folds = 10\n",
        "seed = 7\n",
        "\n",
        "# Separando os dados em folds\n",
        "kfold = KFold(num_folds, True, random_state = seed)\n",
        "\n",
        "# Criando o modelo\n",
        "modelo = DecisionTreeClassifier()\n",
        "\n",
        "# Cross Validation\n",
        "resultado = cross_val_score(modelo, X, Y, cv = kfold)\n",
        "\n",
        "# Print do resultado\n",
        "print(\"Acurácia: %.3f\" % (resultado.mean() * 100))"
      ],
      "execution_count": null,
      "outputs": []
    },
    {
      "cell_type": "markdown",
      "metadata": {
        "id": "_cihuGmk6RkJ"
      },
      "source": [
        "## SVM - Support Vector Machines"
      ]
    },
    {
      "cell_type": "markdown",
      "metadata": {
        "id": "SKT-BjWi6RkK"
      },
      "source": [
        "O objetivo deste algoritmo é buscar uma linha que melhor separa duas classes dentro de um conjunto de dados. As instâncias de dados que estão mais próximas desta linha que separa as classes, são chamadas support vectors. O SVM tem sido estendido para suportar multiclasses."
      ]
    },
    {
      "cell_type": "markdown",
      "metadata": {
        "id": "yVkXKCXW6RkL"
      },
      "source": [
        "Support Vector Machines são algoritmos de classificação muito poderosos. Quando usados em conjunto com “Random forest” e outras ferramentas de aprendizagem de máquina, dão uma dimensão muito diferente para montagem de modelos. Assim, eles se tornam cruciais para os casos em que é necessária um poder de previsão muito elevado. Esses algoritmos são um pouco mais difíceis de visualizar devido à complexidade na formulação."
      ]
    },
    {
      "cell_type": "code",
      "metadata": {
        "id": "fIWTCzfa6RkL"
      },
      "source": [
        "# Import dos módulos\n",
        "from pandas import read_csv\n",
        "from sklearn.model_selection import KFold\n",
        "from sklearn.model_selection import cross_val_score\n",
        "from sklearn.svm import SVC\n",
        "\n",
        "# Carregando os dados\n",
        "arquivo = 'data/pima-data.csv'\n",
        "colunas = ['preg', 'plas', 'pres', 'skin', 'test', 'mass', 'pedi', 'age', 'class']\n",
        "dados = read_csv(arquivo, names = colunas)\n",
        "array = dados.values\n",
        "\n",
        "# Separando o array em componentes de input e output\n",
        "X = array[:,0:8]\n",
        "Y = array[:,8]\n",
        "\n",
        "# Definindo os valores para o número de folds\n",
        "num_folds = 10\n",
        "seed = 7\n",
        "\n",
        "# Separando os dados em folds\n",
        "kfold = KFold(num_folds, True, random_state = seed)\n",
        "\n",
        "# Criando o modelo\n",
        "modelo = SVC()\n",
        "\n",
        "# Cross Validation\n",
        "resultado = cross_val_score(modelo, X, Y, cv = kfold)\n",
        "\n",
        "# Print do resultado\n",
        "print(\"Acurácia: %.3f\" % (resultado.mean() * 100))"
      ],
      "execution_count": null,
      "outputs": []
    },
    {
      "cell_type": "markdown",
      "metadata": {
        "id": "PZKCgTkA6RkP"
      },
      "source": [
        "# Seleção do Modelo Preditivo"
      ]
    },
    {
      "cell_type": "markdown",
      "metadata": {
        "id": "A_ytHUfk6RkR"
      },
      "source": [
        "Veremos que os algoritmos de Regressão Logística e Linear Discriminant Analysis apresentaram o melhor nível de precisão."
      ]
    },
    {
      "cell_type": "code",
      "metadata": {
        "id": "udmrjVC_6RkS"
      },
      "source": [
        "# Import dos módulos\n",
        "from pandas import read_csv\n",
        "import matplotlib.pyplot as plt\n",
        "from sklearn.model_selection import KFold\n",
        "from sklearn.model_selection import cross_val_score\n",
        "from sklearn.linear_model import LogisticRegression\n",
        "from sklearn.tree import DecisionTreeClassifier\n",
        "from sklearn.neighbors import KNeighborsClassifier\n",
        "from sklearn.discriminant_analysis import LinearDiscriminantAnalysis\n",
        "from sklearn.naive_bayes import GaussianNB\n",
        "from sklearn.svm import SVC\n",
        "\n",
        "# Carregando os dados\n",
        "arquivo = 'data/pima-data.csv'\n",
        "colunas = ['preg', 'plas', 'pres', 'skin', 'test', 'mass', 'pedi', 'age', 'class']\n",
        "dados = read_csv(arquivo, names = colunas)\n",
        "array = dados.values\n",
        "\n",
        "# Separando o array em componentes de input e output\n",
        "X = array[:,0:8]\n",
        "Y = array[:,8]\n",
        "\n",
        "# Definindo os valores para o número de folds\n",
        "num_folds = 10\n",
        "seed = 7\n",
        "\n",
        "# Preparando a lista de modelos\n",
        "modelos = []\n",
        "modelos.append(('LR', LogisticRegression()))\n",
        "modelos.append(('LDA', LinearDiscriminantAnalysis()))\n",
        "modelos.append(('NB', GaussianNB()))\n",
        "modelos.append(('KNN', KNeighborsClassifier()))\n",
        "modelos.append(('CART', DecisionTreeClassifier()))\n",
        "modelos.append(('SVM', SVC()))\n",
        "\n",
        "# Avaliando cada modelo em um loop\n",
        "resultados = []\n",
        "nomes = []\n",
        "\n",
        "for nome, modelo in modelos:\n",
        "    kfold = KFold(n_splits = num_folds, random_state = seed)\n",
        "    cv_results = cross_val_score(modelo, X, Y, cv = kfold, scoring = 'accuracy')\n",
        "    resultados.append(cv_results)\n",
        "    nomes.append(nome)\n",
        "    msg = \"%s: %f (%f)\" % (nome, cv_results.mean(), cv_results.std())\n",
        "    print(msg)\n",
        "\n",
        "# Boxplot para comparar os algoritmos\n",
        "fig = plt.figure()\n",
        "fig.suptitle('Comparação de Algoritmos de Classificação')\n",
        "ax = fig.add_subplot(111)\n",
        "plt.boxplot(resultados)\n",
        "ax.set_xticklabels(nomes)\n",
        "plt.show()"
      ],
      "execution_count": null,
      "outputs": []
    },
    {
      "cell_type": "markdown",
      "metadata": {
        "id": "MDmEcntv6RkT"
      },
      "source": [
        "## Otimização do Modelo - Ajuste de Hyperparâmetros"
      ]
    },
    {
      "cell_type": "markdown",
      "metadata": {
        "id": "2FGWGaie6RkU"
      },
      "source": [
        "Todos os algoritmos de Machine Learning são parametrizados, o que significa que você pode ajustar a performance do seu modelo preditivo, através do tuning (ajuste fino) dos parâmetros. Seu trabalho é encontrar a melhor combinação entre os parâmetros em cada algoritmo de Machine Learning. Esse processo também é chamado de Otimização de Hyperparâmetros. O scikit-learn oferece dois métodos para otimização automática dos parâmetros: Grid Search Parameter Tuning e Random Search Parameter Tuning. "
      ]
    },
    {
      "cell_type": "markdown",
      "metadata": {
        "id": "er38doaK6RkW"
      },
      "source": [
        "### Grid Search Parameter Tuning"
      ]
    },
    {
      "cell_type": "markdown",
      "metadata": {
        "id": "HJFWA5ni6RkX"
      },
      "source": [
        "Este método realiza metodicamente combinações entre todos os parâmetros do algoritmo, criando um grid. Vamos experimentar este método utilizando o algoritmo de Regressão Logística. "
      ]
    },
    {
      "cell_type": "code",
      "metadata": {
        "id": "3BBZjR4f6Rkb"
      },
      "source": [
        "# Import dos módulos\n",
        "from pandas import read_csv\n",
        "from sklearn.model_selection import GridSearchCV\n",
        "from sklearn.linear_model import LogisticRegression\n",
        "\n",
        "# Carregando os dados\n",
        "arquivo = 'data/pima-data.csv'\n",
        "colunas = ['preg', 'plas', 'pres', 'skin', 'test', 'mass', 'pedi', 'age', 'class']\n",
        "dados = read_csv(arquivo, names = colunas)\n",
        "array = dados.values\n",
        "\n",
        "# Separando o array em componentes de input e output\n",
        "X = array[:,0:8]\n",
        "Y = array[:,8]\n",
        "\n",
        "# Definindo os valores que serão testados\n",
        "valores_grid = {'penalty': ['l1','l2'], 'C': [0.001,0.01,0.1,1,10,100,1000]}\n",
        "\n",
        "# Criando o modelo\n",
        "modelo = LogisticRegression()\n",
        "\n",
        "# Criando o grid\n",
        "grid = GridSearchCV(estimator = modelo, param_grid = valores_grid)\n",
        "grid.fit(X, Y)\n",
        "\n",
        "# Print do resultado\n",
        "print(\"Acurácia: %.3f\" % (grid.best_score_ * 100))\n",
        "print(\"Melhores Parâmetros do Modelo:\\n\", grid.best_estimator_)"
      ],
      "execution_count": null,
      "outputs": []
    },
    {
      "cell_type": "markdown",
      "metadata": {
        "id": "xQ2POulP6Rkg"
      },
      "source": [
        "### Random Search Parameter Tuning"
      ]
    },
    {
      "cell_type": "markdown",
      "metadata": {
        "id": "83pEP-b-6Rkh"
      },
      "source": [
        "Este método gera amostras dos parâmetros dos algoritmos a partir de uma distribuição randômica uniforme para um número fixo de iterações. Um modelo é construído e testado para cada combinação de parâmetros."
      ]
    },
    {
      "cell_type": "code",
      "metadata": {
        "id": "o_eU9CrK6Rki"
      },
      "source": [
        "# Import dos módulos\n",
        "from pandas import read_csv\n",
        "from sklearn.model_selection import RandomizedSearchCV\n",
        "from sklearn.linear_model import LogisticRegression\n",
        "\n",
        "# Carregando os dados\n",
        "arquivo = 'data/pima-data.csv'\n",
        "colunas = ['preg', 'plas', 'pres', 'skin', 'test', 'mass', 'pedi', 'age', 'class']\n",
        "dados = read_csv(arquivo, names = colunas)\n",
        "array = dados.values\n",
        "\n",
        "# Separando o array em componentes de input e output\n",
        "X = array[:,0:8]\n",
        "Y = array[:,8]\n",
        "\n",
        "# Definindo os valores que serão testados\n",
        "seed = 7\n",
        "iterations = 14\n",
        "\n",
        "# Definindo os valores que serão testados\n",
        "valores_grid = {'penalty': ['l1','l2'], 'C': [0.001,0.01,0.1,1,10,100,1000]}\n",
        "\n",
        "# Criando o modelo\n",
        "modelo = LogisticRegression()\n",
        "\n",
        "# Criando o grid\n",
        "rsearch = RandomizedSearchCV(estimator = modelo, \n",
        "                             param_distributions = valores_grid, \n",
        "                             n_iter = iterations, \n",
        "                             random_state = seed)\n",
        "rsearch.fit(X, Y)\n",
        "\n",
        "# Print dos resultados\n",
        "print(\"Acurácia: %.3f\" % (rsearch.best_score_ * 100))\n",
        "print(\"Melhores Parâmetros do Modelo:\\n\", rsearch.best_estimator_)"
      ],
      "execution_count": null,
      "outputs": []
    },
    {
      "cell_type": "markdown",
      "metadata": {
        "id": "IRtC82bj6Rkn"
      },
      "source": [
        "# Salvando o resultado do seu trabalho"
      ]
    },
    {
      "cell_type": "code",
      "metadata": {
        "id": "tyPX54SR6Rko"
      },
      "source": [
        "# Salvando o resultado do seu trabalho\n",
        "from pandas import read_csv\n",
        "from sklearn.model_selection import train_test_split\n",
        "from sklearn.linear_model import LogisticRegression\n",
        "import pickle\n",
        "\n",
        "# Carregando os dados\n",
        "arquivo = 'data/pima-data.csv'\n",
        "colunas = ['preg', 'plas', 'pres', 'skin', 'test', 'mass', 'pedi', 'age', 'class']\n",
        "dados = read_csv(arquivo, names = colunas)\n",
        "array = dados.values\n",
        "\n",
        "# Separando o array em componentes de input e output\n",
        "X = array[:,0:8]\n",
        "Y = array[:,8]\n",
        "\n",
        "# Definindo o tamanho dos dados de treino e de teste\n",
        "teste_size = 0.33\n",
        "seed = 7\n",
        "\n",
        "# Criando o dataset de treino e de teste\n",
        "X_treino, X_teste, Y_treino, Y_teste = train_test_split(X, Y, test_size = teste_size, random_state = seed)\n",
        "\n",
        "# Criando o modelo\n",
        "modelo = LogisticRegression()\n",
        "\n",
        "# Treinando o modelo\n",
        "modelo.fit(X_treino, Y_treino)\n",
        "\n",
        "# Salvando o modelo\n",
        "arquivo = 'modelos/modelo_classificador_final.sav'\n",
        "pickle.dump(modelo, open(arquivo, 'wb'))\n",
        "print(\"Modelo salvo!\")\n",
        "\n",
        "# Carregando o arquivo\n",
        "modelo_classificador_final = pickle.load(open(arquivo, 'rb'))\n",
        "modelo_prod = modelo_classificador_final.score(X_teste, Y_teste)\n",
        "print(\"Modelo carregado!\")\n",
        "\n",
        "# Print do resultado\n",
        "print(\"Acurácia: %.3f\" % (modelo_prod.mean() * 100))"
      ],
      "execution_count": null,
      "outputs": []
    },
    {
      "cell_type": "markdown",
      "metadata": {
        "id": "24YnUp0a6Rkp"
      },
      "source": [
        "# Otimizando Performance com Métodos Ensemble"
      ]
    },
    {
      "cell_type": "markdown",
      "metadata": {
        "id": "T3MbdmrN6Rkq"
      },
      "source": [
        "Métodos Ensemble permitem aumentar consideravelmente o nível de precisão nas suas previsões. Veremos como criar alguns dos Métodos Ensemble mais poderosos em Python. Existem 3 métodos principais para combinar previsões a partir de diferentes modelos:"
      ]
    },
    {
      "cell_type": "markdown",
      "metadata": {
        "id": "2dBEdA3g6Rkq"
      },
      "source": [
        "Bagging - Para construção de múltiplos modelos (normalmente do mesmo tipo) a partir de diferentes subsets no dataset de treino."
      ]
    },
    {
      "cell_type": "markdown",
      "metadata": {
        "id": "pco2mQGT6Rkr"
      },
      "source": [
        "Boosting - Para construção de múltiplos modelos (normalmente do mesmo tipo), onde cada modelo aprende a corrigir os erros gerados pelo modelo anterior, dentro da sequência de modelos criados."
      ]
    },
    {
      "cell_type": "markdown",
      "metadata": {
        "id": "maAwVewX6Rks"
      },
      "source": [
        "Voting - Para construção de múltiplos modelos (normalmente de tipos diferentes) e estatísticas simples (como a média) são usadas para combinar as previsões."
      ]
    },
    {
      "cell_type": "markdown",
      "metadata": {
        "id": "KUPzw9QT6Rks"
      },
      "source": [
        "Vejamos como utilizar estes métodos."
      ]
    },
    {
      "cell_type": "markdown",
      "metadata": {
        "id": "Heua8YPs6Rkt"
      },
      "source": [
        "### Bagged Decision Trees"
      ]
    },
    {
      "cell_type": "markdown",
      "metadata": {
        "id": "3w-uTYMi6Rkt"
      },
      "source": [
        "Este método funciona bem quando existe alta variância nos dados"
      ]
    },
    {
      "cell_type": "code",
      "metadata": {
        "id": "DMG8aVpj6Rku"
      },
      "source": [
        "# Import dos módulos\n",
        "from pandas import read_csv\n",
        "from sklearn.model_selection import KFold\n",
        "from sklearn.model_selection import cross_val_score\n",
        "from sklearn.ensemble import BaggingClassifier\n",
        "from sklearn.tree import DecisionTreeClassifier\n",
        "\n",
        "# Carregando os dados\n",
        "arquivo = 'data/pima-data.csv'\n",
        "colunas = ['preg', 'plas', 'pres', 'skin', 'test', 'mass', 'pedi', 'age', 'class']\n",
        "dados = read_csv(arquivo, names = colunas)\n",
        "array = dados.values\n",
        "\n",
        "# Separando o array em componentes de input e output\n",
        "X = array[:,0:8]\n",
        "Y = array[:,8]\n",
        "\n",
        "# Definindo os valores para o número de folds\n",
        "num_folds = 10\n",
        "seed = 7\n",
        "\n",
        "# Separando os dados em folds\n",
        "kfold = KFold(num_folds, True, random_state = seed)\n",
        "\n",
        "# Cria o modelo unitário (classificador fraco)\n",
        "cart = DecisionTreeClassifier()\n",
        "\n",
        "# Definindo o número de trees\n",
        "num_trees = 100\n",
        "\n",
        "# Criando o modelo bagging\n",
        "modelo = BaggingClassifier(base_estimator = cart, n_estimators = num_trees, random_state = seed)\n",
        "\n",
        "# Cross Validation\n",
        "resultado = cross_val_score(modelo, X, Y, cv = kfold)\n",
        "\n",
        "# Print do resultado\n",
        "print(\"Acurácia: %.3f\" % (resultado.mean() * 100))"
      ],
      "execution_count": null,
      "outputs": []
    },
    {
      "cell_type": "markdown",
      "metadata": {
        "id": "q9IlLtkI6Rkv"
      },
      "source": [
        "### Random Forest"
      ]
    },
    {
      "cell_type": "markdown",
      "metadata": {
        "id": "KuFULQ3p6Rkv"
      },
      "source": [
        "Random Forest é uma extensão do Baggig Decision Tree. Amostras do dataset de treino são usadas com reposição, mas as árvores são criadas de uma forma que reduz a correlação entre classificadores individuais (Random Forest é um conjunto de árvores de decisão)."
      ]
    },
    {
      "cell_type": "code",
      "metadata": {
        "id": "iDhtbIiV6Rkw"
      },
      "source": [
        "# Import dos módulos\n",
        "from pandas import read_csv\n",
        "from sklearn.model_selection import KFold\n",
        "from sklearn.model_selection import cross_val_score\n",
        "from sklearn.ensemble import RandomForestClassifier\n",
        "\n",
        "# Carregando os dados\n",
        "arquivo = 'data/pima-data.csv'\n",
        "colunas = ['preg', 'plas', 'pres', 'skin', 'test', 'mass', 'pedi', 'age', 'class']\n",
        "dados = read_csv(arquivo, names = colunas)\n",
        "array = dados.values\n",
        "\n",
        "# Separando o array em componentes de input e output\n",
        "X = array[:,0:8]\n",
        "Y = array[:,8]\n",
        "\n",
        "# Definindo os valores para o número de folds\n",
        "num_folds = 10\n",
        "seed = 7\n",
        "\n",
        "# Definindo o número de trees\n",
        "num_trees = 100\n",
        "max_features = 3\n",
        "\n",
        "# Separando os dados em folds\n",
        "kfold = KFold(num_folds, True, random_state = seed)\n",
        "\n",
        "# Criando o modelo\n",
        "modelo = RandomForestClassifier(n_estimators = num_trees, max_features = max_features)\n",
        "\n",
        "# Cross Validation\n",
        "resultado = cross_val_score(modelo, X, Y, cv = kfold)\n",
        "\n",
        "# Print do resultado\n",
        "print(\"Acurácia: %.3f\" % (resultado.mean() * 100))"
      ],
      "execution_count": null,
      "outputs": []
    },
    {
      "cell_type": "markdown",
      "metadata": {
        "id": "-7DI8r5r6Rkx"
      },
      "source": [
        "### AdaBoost"
      ]
    },
    {
      "cell_type": "markdown",
      "metadata": {
        "id": "JfjQQ_3U6Rky"
      },
      "source": [
        "Algoritmos baseados em Boosting Ensemble criam uma sequência de modelos que tentam corrigir os erros dos modelos anteriores dentro da sequência. Uma vez criados, os modelos fazem previsões que podem receber um peso de acordo com sua acurácia e os resultados são combinados para criar uma previsão única final. "
      ]
    },
    {
      "cell_type": "markdown",
      "metadata": {
        "id": "1K_e2O-K6Rky"
      },
      "source": [
        "O AdaBoost atribui pesos às instâncias no dataset, definindo quão fácil ou difícil elas são para o processo de classificação, permitindo que o algoritmo tenha mais ou menos atenção às instâncias durante o processo de construção dos modelos."
      ]
    },
    {
      "cell_type": "code",
      "metadata": {
        "id": "mqWyvVeU6Rky"
      },
      "source": [
        "# Import dos módulos\n",
        "from pandas import read_csv\n",
        "from sklearn.model_selection import KFold\n",
        "from sklearn.model_selection import cross_val_score\n",
        "from sklearn.ensemble import AdaBoostClassifier\n",
        "\n",
        "# Carregando os dados\n",
        "arquivo = 'data/pima-data.csv'\n",
        "colunas = ['preg', 'plas', 'pres', 'skin', 'test', 'mass', 'pedi', 'age', 'class']\n",
        "dados = read_csv(arquivo, names = colunas)\n",
        "array = dados.values\n",
        "\n",
        "# Separando o array em componentes de input e output\n",
        "X = array[:,0:8]\n",
        "Y = array[:,8]\n",
        "\n",
        "# Definindo os valores para o número de folds\n",
        "num_folds = 10\n",
        "seed = 7\n",
        "\n",
        "# Definindo o número de trees\n",
        "num_trees = 30\n",
        "\n",
        "# Separando os dados em folds\n",
        "kfold = KFold(num_folds, True, random_state = seed)\n",
        "\n",
        "# Criando o modelo\n",
        "modelo = AdaBoostClassifier(n_estimators = num_trees, random_state = seed)\n",
        "\n",
        "# Cross Validation\n",
        "resultado = cross_val_score(modelo, X, Y, cv = kfold)\n",
        "\n",
        "# Print do resultado\n",
        "print(\"Acurácia: %.3f\" % (resultado.mean() * 100))"
      ],
      "execution_count": null,
      "outputs": []
    },
    {
      "cell_type": "markdown",
      "metadata": {
        "id": "rGPjYiJV6Rk0"
      },
      "source": [
        "### Gradient Boosting"
      ]
    },
    {
      "cell_type": "markdown",
      "metadata": {
        "id": "PlbcOxDV6Rk0"
      },
      "source": [
        "Também chamado Stochastic Gradient Boosting, é um dos métodos Ensemble mais sofisticados."
      ]
    },
    {
      "cell_type": "code",
      "metadata": {
        "id": "MAyiwqD06Rk3"
      },
      "source": [
        "# Import dos módulos\n",
        "from pandas import read_csv\n",
        "from sklearn.model_selection import KFold\n",
        "from sklearn.model_selection import cross_val_score\n",
        "from sklearn.ensemble import GradientBoostingClassifier\n",
        "\n",
        "# Carregando os dados\n",
        "arquivo = 'data/pima-data.csv'\n",
        "colunas = ['preg', 'plas', 'pres', 'skin', 'test', 'mass', 'pedi', 'age', 'class']\n",
        "dados = read_csv(arquivo, names = colunas)\n",
        "array = dados.values\n",
        "\n",
        "# Separando o array em componentes de input e output\n",
        "X = array[:,0:8]\n",
        "Y = array[:,8]\n",
        "\n",
        "# Definindo os valores para o número de folds\n",
        "num_folds = 10\n",
        "seed = 7\n",
        "\n",
        "# Definindo o número de trees\n",
        "num_trees = 100\n",
        "\n",
        "# Separando os dados em folds\n",
        "kfold = KFold(num_folds, True, random_state = seed)\n",
        "\n",
        "# Criando o modelo\n",
        "modelo = GradientBoostingClassifier(n_estimators = num_trees, random_state = seed)\n",
        "\n",
        "# Cross Validation\n",
        "resultado = cross_val_score(modelo, X, Y, cv = kfold)\n",
        "\n",
        "# Print do resultado\n",
        "print(\"Acurácia: %.3f\" % (resultado.mean() * 100))"
      ],
      "execution_count": null,
      "outputs": []
    },
    {
      "cell_type": "markdown",
      "metadata": {
        "id": "sG_XfVl16Rk4"
      },
      "source": [
        "### Voting Ensemble"
      ]
    },
    {
      "cell_type": "markdown",
      "metadata": {
        "id": "Hwq_Wwjr6Rk5"
      },
      "source": [
        "Este é um dos métodos Ensemble mais simples. Este método cria dois ou mais modelos separados a partir do dataset de treino. O Classificador Voting então utiliza a média das previsões de cada sub-modelo para fazer as previsões em novos conjuntos de dados. As previsões de cada sub-modelo podem receber pesos, através de parâmetros definidos manualmente ou através de heurística. Existem versões mais avançadas do Voting, em que o modelo pode aprender o melhor peso a ser atribuído aos sub-modelos. Isso é chamado Stacked Aggregation, mas ainda não está disponível no Scikit-learn."
      ]
    },
    {
      "cell_type": "code",
      "metadata": {
        "id": "4lD71qPT6Rk5"
      },
      "source": [
        "# Import dos módulos\n",
        "from pandas import read_csv\n",
        "from sklearn.model_selection import KFold\n",
        "from sklearn.model_selection import cross_val_score\n",
        "from sklearn.linear_model import LogisticRegression\n",
        "from sklearn.tree import DecisionTreeClassifier\n",
        "from sklearn.svm import SVC\n",
        "from sklearn.ensemble import VotingClassifier\n",
        "\n",
        "# Carregando os dados\n",
        "arquivo = 'data/pima-data.csv'\n",
        "colunas = ['preg', 'plas', 'pres', 'skin', 'test', 'mass', 'pedi', 'age', 'class']\n",
        "dados = read_csv(arquivo, names = colunas)\n",
        "array = dados.values\n",
        "\n",
        "# Separando o array em componentes de input e output\n",
        "X = array[:,0:8]\n",
        "Y = array[:,8]\n",
        "\n",
        "# Definindo os valores para o número de folds\n",
        "num_folds = 10\n",
        "seed = 7\n",
        "\n",
        "# Separando os dados em folds\n",
        "kfold = KFold(num_folds, True, random_state = seed)\n",
        "\n",
        "# Criando os modelos\n",
        "estimators = []\n",
        "\n",
        "modelo1 = LogisticRegression()\n",
        "estimators.append(('logistic', modelo1))\n",
        "\n",
        "modelo2 = DecisionTreeClassifier()\n",
        "estimators.append(('cart', modelo2))\n",
        "\n",
        "modelo3 = SVC()\n",
        "estimators.append(('svm', modelo3))\n",
        "\n",
        "# Criando o modelo ensemble\n",
        "ensemble = VotingClassifier(estimators)\n",
        "\n",
        "# Cross Validation\n",
        "resultado = cross_val_score(ensemble, X, Y, cv = kfold)\n",
        "\n",
        "# Resultado\n",
        "print(\"Acurácia: %.3f\" % (resultado.mean() * 100))"
      ],
      "execution_count": null,
      "outputs": []
    },
    {
      "cell_type": "markdown",
      "metadata": {
        "id": "q496V9Fu6Rk7"
      },
      "source": [
        "## Algoritmo XGBoost - Extreme Gradient Boosting"
      ]
    },
    {
      "cell_type": "markdown",
      "metadata": {
        "id": "Fvo7cgvs6Rk7"
      },
      "source": [
        "O algoritmo XGBoost é uma extensão do GBM (Gradient Boosting Method) que permite trabalhar com multithreading em uma única máquina e processamento paralelo em um cluster de vários servidores. A principal vantagem do XGBoost sobre o GBM é sua capacidade de gerenciar dados esparsos. O XGBoost automaticamente aceita dados esparsos como input sem armazenar zeros na memória."
      ]
    },
    {
      "cell_type": "markdown",
      "metadata": {
        "id": "A0_G50pE6Rk8"
      },
      "source": [
        "Principais vantagensdo XGBoost:"
      ]
    },
    {
      "cell_type": "markdown",
      "metadata": {
        "id": "TsW4YlJK6Rk8"
      },
      "source": [
        "1- Aceita dados esparsos (o que permite trabalhar com matrizes esparsas), sem a necessidade de conversão para matrizes densas."
      ]
    },
    {
      "cell_type": "markdown",
      "metadata": {
        "id": "YzKXft4k6Rk8"
      },
      "source": [
        "2- Constrói uma árvore de aprendizagem utilizando um moderno método de split (chamado quatile sketch), o que resulta em tempo de processamento muito menor que métodos tradicionais."
      ]
    },
    {
      "cell_type": "markdown",
      "metadata": {
        "id": "d4S6TjpC6Rk-"
      },
      "source": [
        "3- Permite computação paralela em uma única máquina (através do uso de multithreading) e processamento paralelo em máquinas distribuídas em cluster."
      ]
    },
    {
      "cell_type": "markdown",
      "metadata": {
        "id": "3c1ETlvB6Rk-"
      },
      "source": [
        "Basicamente o XGBoost utiliza os mesmos parâmetros do GBM e permite tratamento avançado de dados missing."
      ]
    },
    {
      "cell_type": "markdown",
      "metadata": {
        "id": "dLTW31PZ6Rk_"
      },
      "source": [
        "O XGBoost é muito utilizado por Cientistas de Dados que vencem competições no Kaggle. Repositório no Github: https://github.com/dmlc/XGBoost"
      ]
    },
    {
      "cell_type": "markdown",
      "metadata": {
        "id": "MiMHqCL06Rk_"
      },
      "source": [
        "### Instalar XGBoost a partir do PyPi\n",
        "!pip install xgboost"
      ]
    },
    {
      "cell_type": "code",
      "metadata": {
        "id": "Cv3HrxD96RlA"
      },
      "source": [
        "!pip install xgboost"
      ],
      "execution_count": null,
      "outputs": []
    },
    {
      "cell_type": "code",
      "metadata": {
        "id": "jvcivnAu6RlB"
      },
      "source": [
        "# Import dos módulos\n",
        "from pandas import read_csv\n",
        "from sklearn.model_selection import train_test_split\n",
        "from sklearn.metrics import accuracy_score\n",
        "from xgboost import XGBClassifier\n",
        "\n",
        "# Carregando os dados\n",
        "arquivo = 'data/pima-data.csv'\n",
        "colunas = ['preg', 'plas', 'pres', 'skin', 'test', 'mass', 'pedi', 'age', 'class']\n",
        "dados = read_csv(arquivo, names = colunas)\n",
        "array = dados.values\n",
        "\n",
        "# Separando o array em componentes de input e output\n",
        "X = array[:,0:8]\n",
        "Y = array[:,8]\n",
        "\n",
        "# Definindo o tamanho dos dados de treino e de teste\n",
        "teste_size = 0.33\n",
        "seed = 7\n",
        "\n",
        "# Criando o dataset de treino e de teste\n",
        "X_treino, X_teste, y_treino, y_teste = train_test_split(X, Y, test_size = teste_size, random_state = seed)\n",
        "\n",
        "# Criando o modelo\n",
        "modelo = XGBClassifier()\n",
        "\n",
        "# Treinando o modelo\n",
        "modelo.fit(X_treino, y_treino)\n",
        "\n",
        "# Pront do modelo\n",
        "print(modelo)\n",
        "\n",
        "# Fazendo previsões\n",
        "y_pred = modelo.predict(X_teste)\n",
        "previsoes = [round(value) for value in y_pred]\n",
        "\n",
        "# Avaliando as previsões\n",
        "accuracy = accuracy_score(y_teste, previsoes)\n",
        "print(\"Acurácia: %.2f%%\" % (accuracy * 100.0))"
      ],
      "execution_count": null,
      "outputs": []
    },
    {
      "cell_type": "markdown",
      "metadata": {
        "collapsed": true,
        "id": "I-gDAfN26RlD"
      },
      "source": [
        "# Fim"
      ]
    },
    {
      "cell_type": "markdown",
      "metadata": {
        "id": "5NMd84ar6RlD"
      },
      "source": [
        "### Obrigado - Data Science Academy - <a href=\"http://facebook.com/dsacademybr\">facebook.com/dsacademybr</a>"
      ]
    },
    {
      "cell_type": "code",
      "metadata": {
        "id": "3SF425xKAU6D"
      },
      "source": [
        ""
      ],
      "execution_count": null,
      "outputs": []
    },
    {
      "cell_type": "code",
      "metadata": {
        "id": "vOncpBlvAVQD"
      },
      "source": [
        "# Read the data\n",
        "X_full = pd.read_csv('../input/train.csv', index_col='Id')\n",
        "X_test_full = pd.read_csv('../input/test.csv', index_col='Id')\n",
        "\n",
        "# Remove rows with missing target, separate target from predictors\n",
        "X_full.dropna(axis=0, subset=['SalePrice'], inplace=True)\n",
        "y = X_full.SalePrice\n",
        "X_full.drop(['SalePrice'], axis=1, inplace=True)\n",
        "\n",
        "# To keep things simple, we'll use only numerical predictors\n",
        "X = X_full.select_dtypes(exclude=['object'])\n",
        "X_test = X_test_full.select_dtypes(exclude=['object'])\n",
        "\n",
        "# Break off validation set from training data\n",
        "X_train, X_valid, y_train, y_valid = train_test_split(X, y, train_size=0.8, test_size=0.2,\n",
        "                                                      random_state=0)\n",
        "\n",
        "# Define the model. Set random_state to 1\n",
        "rf_model = RandomForestRegressor(random_state=1, n_estimators = 400)\n",
        "rf_model.fit(train_X, train_y)\n",
        "rf_val_predictions = rf_model.predict(val_X)\n",
        "rf_val_mae = mean_absolute_error(rf_val_predictions, val_y)"
      ],
      "execution_count": null,
      "outputs": []
    },
    {
      "cell_type": "code",
      "metadata": {
        "id": "0Ujwx-KyzoWv"
      },
      "source": [
        ""
      ],
      "execution_count": null,
      "outputs": []
    },
    {
      "cell_type": "code",
      "metadata": {
        "id": "Ql0s9ji3zpIa"
      },
      "source": [
        ""
      ],
      "execution_count": null,
      "outputs": []
    }
  ]
}